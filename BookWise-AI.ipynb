{
 "cells": [
  {
   "cell_type": "code",
   "execution_count": 4,
   "metadata": {},
   "outputs": [],
   "source": [
    "from spellchecker import SpellChecker\n",
    "import re\n",
    "import pdfplumber"
   ]
  },
  {
   "cell_type": "code",
   "execution_count": 5,
   "metadata": {},
   "outputs": [],
   "source": [
    "# Initialize the spell checker\n",
    "spell = SpellChecker()\n",
    "def extract_text_from_pdf(pdf_path):\n",
    "    \"\"\"\n",
    "    Extracts text from a PDF file using pdfplumber.\n",
    "    \n",
    "    Args:\n",
    "    - pdf_path (str): Path to the PDF file.\n",
    "    \n",
    "    Returns:\n",
    "    - dict: Dictionary with page numbers as keys and their corresponding text as values.\n",
    "    \"\"\"\n",
    "    page_text_dict = {}\n",
    "    with pdfplumber.open(pdf_path) as pdf:\n",
    "        for page_num, page in enumerate(pdf.pages, start=1):\n",
    "            page_text_dict[page_num] = page.extract_text()\n",
    "    return page_text_dict\n",
    "\n",
    "def correct_splits_and_typos(text):\n",
    "    \"\"\"\n",
    "    Corrects split words and common typos using a spell checker.\n",
    "    \n",
    "    Args:\n",
    "    - text (str): The text to be corrected.\n",
    "    \n",
    "    Returns:\n",
    "    - str: Corrected text.\n",
    "    \"\"\"\n",
    "    # Fix split words\n",
    "    def merge_words(match):\n",
    "        word1, word2 = match.groups()\n",
    "        combined = word1 + word2\n",
    "        if combined.lower() in spell:  # Check if the combined word is valid\n",
    "            return combined\n",
    "        return f\"{word1} {word2}\"  # Keep as is if not valid\n",
    "\n",
    "    text = re.sub(r'\\b(\\w{2,})\\s+(\\w{1,4})\\b', merge_words, text)\n",
    "\n",
    "    # Spell-check and correct typos\n",
    "    corrected_words = []\n",
    "    for word in text.split():\n",
    "        corrected_words.append(spell.correction(word) or word)\n",
    "    return ' '.join(corrected_words)\n",
    "\n",
    "def clean_and_correct_text_with_spellcheck(page_text_dict):\n",
    "    \"\"\"\n",
    "    Cleans and corrects the extracted text by removing extra spaces, newlines, \n",
    "    and dynamically fixing split words and typos.\n",
    "    \n",
    "    Args:\n",
    "    - page_text_dict (dict): Dictionary with page numbers as keys and text as values.\n",
    "    \n",
    "    Returns:\n",
    "    - dict: Cleaned and corrected text for each page.\n",
    "    \"\"\"\n",
    "    cleaned_text_dict = {}\n",
    "    for page_num, text in page_text_dict.items():\n",
    "        if text:  # Check if the page has text\n",
    "            # Remove extra spaces and newlines\n",
    "            text = re.sub(r'\\s+', ' ', text.strip())\n",
    "            # Dynamically correct split words and typos\n",
    "            text = correct_splits_and_typos(text)\n",
    "            cleaned_text_dict[page_num] = text\n",
    "    return cleaned_text_dict\n"
   ]
  },
  {
   "cell_type": "code",
   "execution_count": 6,
   "metadata": {},
   "outputs": [],
   "source": [
    "def chunk_text_by_phrase(clean_text_dict, chunk_size=300):\n",
    "    \"\"\"\n",
    "    Chunks cleaned text by phrases, keeping track of the page numbers.\n",
    "    \n",
    "    Args:\n",
    "    - clean_text_dict (dict): Dictionary with page numbers as keys and cleaned text as values.\n",
    "    - chunk_size (int): Approximate size of each chunk in characters.\n",
    "    \n",
    "    Returns:\n",
    "    - list of dict: List of dictionaries, where each dictionary represents a chunk with text and page number.\n",
    "    \"\"\"\n",
    "    chunks = []\n",
    "    for page_num, text in clean_text_dict.items():\n",
    "        # Split into phrases by punctuation\n",
    "        phrases = re.split(r'([.!?])', text)  # Keep punctuation as part of the phrase\n",
    "        \n",
    "        chunk = \"\"\n",
    "        for phrase in phrases:\n",
    "            if len(chunk) + len(phrase) <= chunk_size:\n",
    "                chunk += phrase\n",
    "            else:\n",
    "                if chunk.strip():\n",
    "                    chunks.append({\"page\": page_num, \"text\": chunk.strip()})\n",
    "                chunk = phrase\n",
    "        if chunk.strip():\n",
    "            chunks.append({\"page\": page_num, \"text\": chunk.strip()})\n",
    "    return chunks"
   ]
  },
  {
   "cell_type": "code",
   "execution_count": 7,
   "metadata": {},
   "outputs": [],
   "source": [
    "# Example usage\n",
    "pdf_path = \"practice-standard-project-risk-management.pdf\"  # Replace with your PDF path"
   ]
  },
  {
   "cell_type": "code",
   "execution_count": 7,
   "metadata": {},
   "outputs": [
    {
     "name": "stdout",
     "output_type": "stream",
     "text": [
      "Running on local URL:  http://127.0.0.1:7863\n",
      "\n",
      "Could not create share link. Please check your internet connection or our status page: https://status.gradio.app.\n"
     ]
    },
    {
     "data": {
      "text/html": [
       "<div><iframe src=\"http://127.0.0.1:7863/\" width=\"100%\" height=\"500\" allow=\"autoplay; camera; microphone; clipboard-read; clipboard-write;\" frameborder=\"0\" allowfullscreen></iframe></div>"
      ],
      "text/plain": [
       "<IPython.core.display.HTML object>"
      ]
     },
     "metadata": {},
     "output_type": "display_data"
    },
    {
     "data": {
      "text/plain": []
     },
     "execution_count": 7,
     "metadata": {},
     "output_type": "execute_result"
    }
   ],
   "source": [
    "import gradio as gr\n",
    "from PyPDF2 import PdfReader\n",
    "\n",
    "def extract_text_from_pdf(uploaded_file):\n",
    "    \"\"\"\n",
    "    Extract text from a PDF file using PyPDF2.\n",
    "    \"\"\"\n",
    "    try:\n",
    "        reader = PdfReader(uploaded_file.name)\n",
    "        page_text_dict = {}\n",
    "        for i, page in enumerate(reader.pages):\n",
    "            page_text_dict[f\"Page {i+1}\"] = page.extract_text()\n",
    "        return page_text_dict\n",
    "    except Exception as e:\n",
    "        return f\"An error occurred while extracting text: {e}\"\n",
    "\n",
    "# Global variable to store the extracted text\n",
    "extracted_text_var = None\n",
    "\n",
    "def process_pdf(file):\n",
    "    global extracted_text_var\n",
    "    if file is None:\n",
    "        extracted_text_var = None\n",
    "        return \"No file uploaded!\"\n",
    "    extracted_text = extract_text_from_pdf(file)\n",
    "    if isinstance(extracted_text, dict):\n",
    "        # Format extracted text nicely for display\n",
    "        formatted_text = \"\\n\\n\".join([f\"{key}:\\n{value}\" for key, value in extracted_text.items()])\n",
    "        extracted_text_var = extracted_text  # Save the raw extracted text to the global variable\n",
    "        return formatted_text or \"No text found in the PDF.\"\n",
    "    extracted_text_var = extracted_text  # Save the raw error or result\n",
    "    return extracted_text\n",
    "\n",
    "\n",
    "# Create a Gradio interface\n",
    "interface = gr.Interface(\n",
    "    fn=process_pdf,\n",
    "    inputs=gr.File(label=\"Upload PDF File\", file_types=[\".pdf\"]),\n",
    "    outputs=gr.Textbox(label=\"Extracted Text\", lines=20)\n",
    ")\n",
    "\n",
    "# Launch the interface\n",
    "interface.launch(share=True)\n"
   ]
  },
  {
   "cell_type": "code",
   "execution_count": 44,
   "metadata": {},
   "outputs": [
    {
     "name": "stdout",
     "output_type": "stream",
     "text": [
      "{'Page 1': 'PFE\\nEDITION 2025\\nSTART YOUR CAREER WITH VISION AND PASSION BOOK', 'Page 2': 'S O M M A I R E\\n03\\n04\\n06\\n07-21\\n22\\n23\\n24A propos de nous\\nNotre Mission\\nNos chiffres clés\\nNos Sujets PFE\\nComment postuler ?\\nNos anciens stagiaires temoignent\\nContactez-nous', 'Page 3': '3\\nA PROPOS\\nDE NOUS\\nEXCELLIA Solutions est une entreprise tunisienne qui\\ninvestie dans l’innovation grâce à un capital social solide de\\n8,5 millions de dinars. \\nGrâce à cette expertise et ces alliances stratégiques,  \\nEXCELLIA Solutions conçoit et intègre des solutions de\\npointe, adaptées aux besoins des entreprise modernes.En tant que filiale d’un groupe diversifié opérant dans\\nplusieurs secteurs financiers (banque, assurance,\\nmicrocrédits, paiements, gestion d’actifs, etc.) et partenaire\\nstratégique de Microsoft et d’Oracle, EXCELLIA Solutions\\nbénéficie d’un écosystème robuste et intégré.', 'Page 4': \"Accompagner nos clients dans la concrétisation de\\nleurs ambitions digitales. Grâce à l'expertise et au\\nsavoir-faire de nos équipes, nous concevons des\\nsolutions innovantes, spécifiquement adaptées aux\\nbesoins des fintechs, startups et entreprises, leur\\npermettant d’offrir des services à forte valeur\\najoutée. \\n4NOTRE\\nM I S S I O N\", 'Page 5': 'Développement\\n& intégration de\\nsolutions FintechCloudIntelligence\\nArtificielle\\n5NOS DOM AINES\\nD ’ E X P E R T I S E', 'Page 6': 'NOS CHIFFRES CLÉS\\n+ 50\\ncollaborateurs+ 30 \\nstagiaires encadrés\\npar nos équipes \\n+ 20\\nprojets réalisés+ 10 \\nstagiaires recrutés\\n6', 'Page 7': 'NOS SUJETS PFE', 'Page 8': \"SUJET 01\\nSYSTEME DE FACTURATION SaaS\\nTECHNOLOGIESUn système de facturation SaaS (Software as a Service) est une plateforme\\ncloud dédiée à la gestion et à l'automatisation des processus de facturation\\npour les entreprises qui utilisent des services basés sur le cloud. Ce système\\npermet de générer, suivre et gérer les factures pour différents types de\\nservices et d'abonnements, tout en garantissant une intégration fluide avec\\nd'autres applications telles que les CRM, les systèmes de gestion financière\\nou les plateformes de paiement.\\nJava 17 , Spring boot , Angular, PostgreSQL ,REST APIs, Kafka, AzureDURÉE DU\\nSTAGENOMBRE DE\\nSTAGIAIRES\\n4-6 Mois1\\n8\", 'Page 9': '9SUJET 02\\nSYSTEME DE RECONCILIATION POUR\\nLES TRANSACTIONS FINANCIERES EN\\nMODE SaaS\\nTECHNOLOGIESLe projet consiste à concevoir et déployer un système de réconciliation\\nautomatisé pour les transactions financières, accessible en mode SaaS\\n(Software as a Service). Ce système vise à rapprocher les données issues\\nde différentes sources (banques, passerelles de paiement, ERP, etc.) afin\\nde détecter et corriger les écarts, garantir l’exactitude des comptes et\\nprévenir les erreurs ou fraudes.\\nJava 17 , Spring framework ,PostgreSQL ,REST APIs, AzureDURÉE DU\\nSTAGENOMBRE DE\\nSTAGIAIRES\\n4-6 Mois1', 'Page 10': '10SUJET 03\\nAGRÉGATEUR D’OPERATEUR DE\\nTRANSFERT D’ARGENT \\nTECHNOLOGIESLe projet vise à développer une plateforme d’agrégation permettant de\\ncentraliser et de gérer les services de transfert d’argent proposés par\\ndifférents opérateurs. Cette solution a pour objectif de simplifier et\\nd’unifier les opérations de transfert pour les utilisateurs tout en offrant\\nune interface unique aux partenaires financiers.\\nJava 17 , Spring boot , Angular, PostgreSQL ,REST APIs, KafkaDURÉE DU\\nSTAGENOMBRE DE\\nSTAGIAIRES\\n4-6 Mois2', 'Page 11': \"11SUJET 04\\nDÉVELOPPEMENT D’UN SYSTÈME INTELLIGENT EXPLICABLE\\n(XAI) POUR LA DÉTECTION ET LA GESTION DES RISQUES\\nDANS LES TRANSFERTS BANCAIRES VIA SHAP ET LIME\\nTECHNOLOGIESLes banques utilisent de plus en plus l'IA pour prédire les risques associés\\naux transferts internationaux. Cependant, l'adoption de ces modèles est\\nsouvent freinée par leur manque de transparence. Il devient essentiel de\\ndévelopper un système intégré qui combine des modèles prédictifs\\nperformants avec des outils d'explication accessibles pour renforcer la\\nconfiance des utilisateurs.\\nSpring Boot, Python (Flask/Django) , Angular, PostgreSQL, SHAP et\\nLIME, Docker, Kubernetes DURÉE DU\\nSTAGENOMBRE DE\\nSTAGIAIRES\\n4-6 Mois1\", 'Page 12': '12SUJET 05\\nFRAUD FREE IDENTITY VERIFICATION\\nTECHNOLOGIESRenforcer le système KYC existant en intégrant des mécanismes\\navancés de détection de fraude (documents frauduleux et détection\\ndes deepfakes), tout en veillant à ce que les modèles conservent des\\ntemps d’exécution optimaux afin de préserver l’expérience client.\\nPython, TensorFlow/PyTorch, opencvDURÉE DU\\nSTAGENOMBRE DE\\nSTAGIAIRES\\n4-6 Mois1', 'Page 13': '13SUJET 06\\nPORTAIL RH\\nTECHNOLOGIESLe projet consiste à développer un portail RH centralisé permettant\\nde digitaliser et d’automatiser les principales opérations liées à la\\ngestion des ressources humaines. Conçu pour être intuitif et\\naccessible, ce portail vise à améliorer l’efficacité des processus RH\\ntout en offrant une expérience utilisateur fluide aux collaborateurs et\\naux managers.\\nJava 17 , Spring fram ework , Angular, PostgreSQL ,REST APIsDURÉE DU\\nSTAGENOMBRE DE\\nSTAGIAIRES\\n4-6 Mois3', 'Page 14': '14SUJET 07\\nSYSTÈME DE DÉTECTION DE FRAUDE\\nBASÉE SUR L’INTELLIGENCE ARTIFICIELLE\\nTECHNOLOGIESDévelopper une solution innovante pour identifier, analyser et prévenir les\\nactivités frauduleuses dans les transactions financières et autres opérations\\nsensibles. Grâce à l’intégration de l’intelligence artificielle (IA) et\\nd’algorithmes avancés, ce module va offrir une protection proactive contre\\nles menaces émergentes et les comportements suspects.\\nJava 17 , Spring boot , Angular, PostgreSQL ,REST APIs, Kafka,\\nTensorFlow/PyTorchDURÉE DU\\nSTAGENOMBRE DE\\nSTAGIAIRES\\n4-6 Mois1', 'Page 15': '15SUJET 08\\nAUTOMATISATION D’INFRASTRUCTURE\\nAS A CODE AVEC AZURE SECDEVOPS ET\\nCOPILOT \\nTECHNOLOGIES\\nAzure DevOps, Yam l & Azure AIDURÉE DU\\nSTAGENOMBRE DE\\nSTAGIAIRES\\n4-6 Mois1\\nConception de pipeline sécurisé CI/CD pour le déploiement de\\nl’infrastructure de la solution de Paiement en ligne IZI Payments avec\\nl’intégration de la couche AI de Copilot.', 'Page 16': \"16SUJET 09\\nSEGMENTATION DYNAMIQUE DES CLIENTS\\nAVEC COPILOT ET AI GENERATIVE \\nTECHNOLOGIES\\nCopilot et AI DURÉE DU\\nSTAGENOMBRE DE\\nSTAGIAIRES\\n4-6 Mois2 Ce projet vise à développer un agent Copilot en exploitant Copilot Studio et\\nl'IA Générative pour le profilage dynamique des clients bancaires. L’objectif\\nest d’optimiser la segmentation client en intégrant des technologies\\nintelligentes, permettant une personnalisation avancée et une meilleure\\ncompréhension des besoins des clients.\", 'Page 17': '17SUJET 10\\nDÉVELOPPEMENT DE SOLUTION DE MONITORING\\nDE SERVICE CLOUD (K8S, CONTAINER,\\nCHECKMK,.. .)ET DE FINOPS – MICROSOFT\\nFABRIC\\nTECHNOLOGIES\\nAzure, Microsoft Fabric, CopilotDURÉE DU\\nSTAGENOMBRE DE\\nSTAGIAIRES\\n4-6 Mois2\\nDéveloppement de solution de dashboarding des métriques de\\nservices Cloud avec une optimisation financière FinOps.', 'Page 18': '18SUJET 11\\nDÉVELOPPEMENT DE SOLUTION\\n« SENTINEL DAILY OPERATIONS »\\nAVEC COPILOT \\nTECHNOLOGIES\\nAzure Sentinel & CopilotDURÉE DU\\nSTAGENOMBRE DE\\nSTAGIAIRES\\n4 - 6 Mois2\\nDéveloppement de prompt Copilot pour la génération de code QKL \\net des PlayBooks avec Copilot. \\nL’objectif est d’automatiser ces tâches en exploitant l’intelligence\\nartificielle pour produire des résultats optimisés, conformes aux\\nstandards et adaptés aux besoins techniques. ', 'Page 19': \"19SUJET 12\\nPMO PROCESS OPTIMIZATION \\nAND STANDARDIZATION\\nTECHNOLOGIESCe projet vise à standardiser les processus de gestion de projets au sein du\\nPMO pour améliorer l’efficacité et la cohérence dans la livraison des\\nprojets. Il s'agit d'analyser les pratiques existantes, de définir des\\nprocessus uniformes et d’implémenter des outils et méthodes adaptés.\\nL’objectif est de garantir une gestion fluide des projets, réduire les risques\\nd'erreurs et faciliter la prise de décision grâce à des pratiques\\nharmonisées. \\nMicrosoft Office Suite,  JiraDURÉE DU\\nSTAGENOMBRE DE\\nSTAGIAIRES\\n4 - 6 Mois2\", 'Page 20': \"20SUJET 13\\nPROJECT MANAGEMENT PERFORMANCE\\nDASHBOARD\\nTECHNOLOGIESLe projet consiste à créer et à mettre en place un tableau de bord\\n(Dashboard) afin de surveiller les résultats des projets. Le but de notre\\nprojet est de rassembler et de automatiser le suivi des indicateurs clés de\\nperformance (KPIs) des projets afin d'améliorer la prise de décision, la\\nvisibilité et la gestion des derniers. \\nLes éléments essentiels de ce projet sont la collecte de données pertinentes\\net cruciales, la création de visualisations interactives et l'établissement\\nd'alertes, afin de garantir un suivi proactif des projets en cours.\\n Microsoft Power BIDURÉE DU\\nSTAGENOMBRE DE\\nSTAGIAIRES\\n2 Mois2\", 'Page 21': \"21SUJET 14\\nCONCEPTION D'UNE SMART CVTHÈQUE \\nTECHNOLOGIESDévelopper une solution innovante de CVthèque, qui vise à optimiser\\net automatiser le tri, l'évaluation, et l'extraction des informations clés\\ndes CVs, grâce à des outils d'intelligence artificielle (IA).\\n \\nA, OCR, Machine Learning, python, django/flask, angularDURÉE DU\\nSTAGENOMBRE DE\\nSTAGIAIRES\\n2 Mois2\", 'Page 22': 'COMMENT\\nPOSTULER ?\\n41\\n2\\n3Choisir un ou deux sujets parmi ceux proposés\\ndans le catalogue PFE.\\nEnvoyer votre CV par e-mail à l’adresse suivante : \\nstages@excellia.tn en précisant le numéro du\\nsujet dans l’objet du mail.\\nEn cas de présélection sur CV, l’équipe RH vous\\ncontactera pour des entretiens RH et\\ntechniques.\\nValidation du profil et signature de la convention\\nde stage.\\n22', 'Page 23': 'Lors de mon stage au sein de l’entreprise Excellia, j’ai\\nappliqué mes connaissances, développé de nouvelles\\ncompétences et relevé des défis techniques grâce au\\nsoutien constant de l’équipe. Cette expérience m’a\\nconduit à intégrer Excellia en tant qu’ingénieure Cloud.INGENIEURE CLOUD AYA TLILIChez Excellia, j’ai pu consolider mes connaissances\\nthéoriques et les mettre en pratique. Grâce à un\\nencadrement technique de qualité, j’ai acquis de\\nnouvelles compétences et évolué dans un\\nenvironnement enrichissant. INGENIEUR DEVOPS NOS ANCIENS STAGIAIRES\\nTÉMOIGNENT\\nM AKREM  NESSIB\\n23', 'Page 24': 'Immeuble Majda, rue de la feuille d’érable,\\nLac 2, 1053 TunisJOIN US\\nMAKE AN IMPACT !&\\nwww.excellia.tn\\ncontact@excellia.tn\\n/excellia-solutions-tn'}\n"
     ]
    }
   ],
   "source": [
    "# After running the Gradio interface and uploading the file\n",
    "print(extracted_text_var)  # This will contain the raw extracted text as a dictionary\n"
   ]
  },
  {
   "cell_type": "code",
   "execution_count": 40,
   "metadata": {},
   "outputs": [
    {
     "data": {
      "text/plain": [
       "{1: 'Project Management Institute\\nPRACTICE STANDARD\\nFOR PROJECT RISK MANAGEMENT',\n",
       " 2: 'ISBN: 978-1-933890-38-8\\nPublished by:\\nProject Management Institute, Inc.\\n14 Campus Boulevard\\nNewtown Square, Pennsylvania 19073-3299 USA.\\nPhone: +610-356-4600\\nFax: +610-356-4647\\nE-mail: customercare@pmi.org\\nInternet: www.pmi.org\\n©2009 Project Management Institute, Inc. All rights reserved.\\n“PMI”, the PMI logo, “PMP”, the PMP logo, “PMBOK”, “PgMP”, “Project Management Journal”, “PM Network”, and the PMI\\nToday logo are registered marks of Project Management Institute, Inc. The Quarter Globe Design is a trademark of the Project\\nManagement Institute, Inc. For a comprehensive list of PMI marks, contact the PMI Legal Department.\\nPMI Publications welcomes corrections and comments on its books. Please feel free to send comments on typographical,\\nformatting, or other errors. Simply make a copy of the relevant page of the book, mark the error, and send it to: Book Editor,\\nPMI Publications, 14 Campus Boulevard, Newtown Square, PA 19073-3299 USA.\\nTo inquire about discounts for resale or educational purposes, please contact the PMI Book Service Center.\\nPMI Book Service Center\\nP.O. Box 932683, Atlanta, GA 31193-2683 USA\\nPhone: 1-866-276-4764 (within the U.S. or Canada) or +1-770-280-4129 (globally)\\nFax: +1-770-280-4113\\nE-mail: book.orders@pmi.org\\nPrinted in the United States of America. No part of this work may be reproduced or transmitted in any form or by any means,\\nelectronic, manual, photocopying, recording, or by any information storage and retrieval system, without prior written\\npermission of the publisher.\\nThe paper used in this book complies with the Permanent Paper Standard issued by the National Information Standards\\nOrganization (Z39.48—1984).\\n10 9 8 7 6 5 4 3 2 1\\nCert no. SW-COC-001530',\n",
       " 3: 'NOTICE\\nT he Project Management Institute, Inc. (PMI) standards and guideline publications, of which the document\\ncontained herein is one, are developed through a voluntary consensus standards development process. This\\nprocess brings together volunteers and/or seeks out the views of persons who have an interest in the topic\\ncovered by this publication. While PMI administers the process and establishes rules to promote fairness in\\nthe development of consensus, it does not write the document and it does not independently test, evaluate,\\nor verify the accuracy or completeness of any information or the soundness of any judgments contained in its\\nstandards and guideline publications.\\nP MI disclaims liability for any personal injury, property or other damages of any nature whatsoever, whether\\nspecial, indirect, consequential or compensatory, directly or indirectly resulting from the publication, use of\\napplication, or reliance on this document. PMI disclaims and makes no guaranty or warranty, expressed or\\nimplied, as to the accuracy or completeness of any information published herein, and disclaims and makes no\\nwarranty that the information in this document will fulfi ll any of your particular purposes or needs. PMI does\\nnot undertake to guarantee the performance of any individual manufacturer or seller’s products or services by\\nvirtue of this standard or guide.\\nIn publishing and making this document available, PMI is not undertaking to render professional or other\\nservices for or on behalf of any person or entity, nor is PMI undertaking to perform any duty owed by any person\\nor entity to someone else. Anyone using this document should rely on his or her own independent judgment\\nor, as appropriate, seek the advice of a competent professional in determining the exercise of reasonable care\\nin any given circumstances. Information and other standards on the topic covered by this publication may\\nbe available from other sources, which the user may wish to consult for additional views or information not\\ncovered by this publication.\\nPMI has no power, nor does it undertake to police or enforce compliance with the contents of this document.\\nPMI does not certify, test, or inspect products, designs, or installations for safety or health purposes. Any\\ncertifi cation or other statement of compliance with any health or safety-related information in this document\\nshall not be attributable to PMI and is solely the responsibility of the certifi er or maker of the statement.',\n",
       " 4: '',\n",
       " 5: 'TABLE OF CONTENTS\\nCHAPTER 1 - INTRODUCTION ...................................................................................................1\\n1.1 Purpose of the Practice Standard for Project Risk Management ..........................2\\n1.2 Project Risk Management Defi nition ......................................................................4\\n1.3 Role of Project Risk Management in Project Management ...................................4\\n1.4 Good Risk Management Practice ............................................................................5\\n1.5 Critical Success Factors for Project Risk Management .........................................6\\n1.6 Conclusion ...............................................................................................................7\\nCHAPTER 2 - PRINCIPLES AND CONCEPTS. .............................................................................9\\n2.1 Introduction .............................................................................................................9\\n2.2 Defi nition of Project Risk ........................................................................................9\\n2.3 Individual Risks and Overall Project Risk .............................................................10\\n2.4 Stakeholder Risk Attitudes ...................................................................................10\\n2.5 Iterative Process ....................................................................................................11\\n2.6 Communication ......................................................................................................11\\n2.7 Responsibility for Project Risk Management .......................................................12\\n2.8 Project Manager’s Role for Project Risk Management ........................................12\\nCHAPTER 3 - INTRODUCTION TO PROJECT RISK MANAGEMENT PROCESSES .....................13\\n3.1 Project Risk Management and Project Management ...........................................13\\n3.2 Project Risk Management Processes ...................................................................14\\nCHAPTER 4 - PLAN RISK MANAGEMENT ...............................................................................19\\n4.1 Purpose and Objectives of the Plan Risk Management Process .........................19\\n4.2 Critical Success Factors for the Plan Risk Management Process .......................21\\n4.2.1 Identify and Address Barriers to Successful Project\\nRisk Management ......................................................................................21\\n4.2.2 Involve Project Stakeholders in Project Risk Management .....................22\\n4.2.3 Comply with the Organization’s Objectives, Policies, and Practices .......22\\n4.3 Tools and Techniques for the Plan Risk Management Process ...........................22\\n4.3.1 Planning Sessions .....................................................................................22\\n4.3.2 Templates ...................................................................................................23\\n4.4 Documenting the Results of the Plan Risk Management Process ......................23\\n©2009 Project Management Institute. Practice Standard for Project Risk Management\\nv',\n",
       " 6: 'TTTAAABBBLLLEEE OOOFFF CCCOOONNNTTTEEENNNTTTSSS\\nCHAPTER 5 - IDENTIFY RISKS ................................................................................................25\\n5.1 Purpose and Objectives of the Identify Risks Process .........................................25\\n5.2 Critical Success Factors for the Identify Risks Process ......................................25\\n5.2.1 Early Identifi cation. ....................................................................................25\\n5.2.2 Iterative Identifi cation ...............................................................................26\\n5.2.3 Emergent Identifi cation .............................................................................26\\n5.2.4 Comprehensive Identifi cation ...................................................................26\\n5.2.5 Explicit Identifi cation of Opportunities .....................................................26\\n5.2.6 Multiple Perspectives ................................................................................26\\n5.2.7 Risks Linked to Project Objectives ...........................................................26\\n5.2.8 Complete Risk Statement ..........................................................................26\\n5.2.9 Ownership and Level of Detail ..................................................................27\\n5.2.10 Objectivity ..................................................................................................27\\n5.3 Tools and Techniques for the Identify Risks Process ...........................................27\\n5.3.1 Historical Review .......................................................................................28\\n5.3.2 Current Assessments ................................................................................28\\n5.3.3 Creativity Techniques ................................................................................28\\n5.4 Documenting the Results of the Identify Risks Process ......................................29\\nCHAPTER 6 - PERFORM QUALITATIVE RISK ANALYSIS ..........................................................31\\n6.1 Purpose and Objectives of the Perform Qualitative Risk Analysis Process ........31\\n6.2 Critical Success Factors for the Perform Qualitative Risk Analysis Process ......31\\n6.2.1 Use Agreed-Upon Approach ......................................................................32\\n6.2.2 Use Agreed-Upon Defi nitions of Risk Terms .............................................32\\n6.2.3 Collect High-Quality Information about Risks ..........................................33\\n6.2.4 Perform Iterative Qualitative Risk Analysis ..............................................33\\n6.3 Tools and Techniques for the Perform Qualitative Risk Analysis Process ..........33\\n6.3.1 Select Risk Characteristics that Defi ne Risks’ Importance .....................34\\n6.3.2 Collect and Analyze Data ...........................................................................34\\n6.3.3 Prioritize Risks by Probability and Impact on Specifi c Objectives ..........34\\n6.3.4 Prioritize Risks by Probability and Impact on Overall Project .................34\\n6.3.5 Categorize Risk Causes .............................................................................35\\n6.3.6 Document the Results of the Perform Qualitative Risk\\nAnalysis Process ........................................................................................35\\n©2009 Project Management Institute. Practice Standard for Project Risk Management\\nvi',\n",
       " 7: 'TABLE OF CONTENTS\\nCHAPTER 7 - PERFORM QUANTITATIVE RISK ANALYSIS .......................................................37\\n7.1 Purpose and Objectives of the Perform Quantitative Risk Analysis Process ......37\\n7.2 Critical Success Factors for the Perform Quantitative Risk Analysis Process ...38\\n7.2.1 Prior Risk Identifi cation and Qualitative Risk Analysis ............................39\\n7.2.2 Appropriate Project Model ........................................................................39\\n7.2.3 Commitment to Collecting High Quality Risk Data ...................................39\\n7.2.4 Unbiased Data ............................................................................................39\\n7.2.5 Overall Project Risk Derived from Individual Risks ..................................39\\n7.2.6 Interrelationships Between Risks in Quantitative Risk Analysis .............40\\n7.3 Tools and Techniques for the Perform Quantitative Risk Analysis Process ........40\\n7.3.1 Comprehensive Risk Representation ........................................................40\\n7.3.2 Risk Impact Calculation ............................................................................40\\n7.3.3 Quantitative Method Appropriate to Analyzing Uncertainty ....................40\\n7.3.4 Data Gathering Tools .................................................................................40\\n7.3.5 Effective Presentation of Quantitative Analysis Results ..........................41\\n7.3.6 Iterative Quantitative Risk Analysis ..........................................................42\\n7.3.7 Information for Response Planning ..........................................................42\\n7.4 Documenting the Results of the Perform Quantitative Risk Analysis Process ...42\\nCHAPTER 8 - PLAN RISK RESPONSES ...................................................................................43\\n8.1 Purpose and Objectives of the Plan Risk Responses Process .............................43\\n8.2 Critical Success Factors for the Plan Risk Responses Process ..........................44\\n8.2.1 Communicate .............................................................................................44\\n8.2.2 Clearly Defi ne Risk-Related Roles and Responsibilities ..........................45\\n8.2.3 Specify Timing of Risk Responses ............................................................45\\n8.2.4 Provide Resources, Budget, and Schedule for Responses .......................45\\n8.2.5 Address the Interaction of Risks and Responses .....................................45\\n8.2.6 Ensure Appropriate, Timely, Effective, and Agreed-Upon Responses ......46\\n8.2.7 Address Both Threats and Opportunities ..................................................46\\n8.2.8 Develop Strategies before Tactical Responses ........................................46\\n8.3 Risk Response Strategies .....................................................................................46\\n8.3.1 Avoid a Threat or Exploit an Opportunity ..................................................47\\n8.3.2 Transfer a Threat or Share an Opportunity ...............................................47\\n8.3.3 Mitigate a Threat or Enhance an Opportunity ..........................................47\\n8.3.4 Accept a Threat or an Opportunity ............................................................47\\n8.3.5 Applying Risk Response Strategies to Overall Project Risk ....................47\\n©2009 Project Management Institute. Practice Standard for Project Risk Management\\nvii',\n",
       " 8: 'TABLE OF CONTENTS\\n8.4 Tools and Techniques for the Plan Risk Responses Process ...............................47\\n8.4.1 Response Identifi cation .............................................................................48\\n8.4.2 Response Selection ...................................................................................48\\n8.4.3 Action Planning ..........................................................................................48\\n8.4.4 Ownership and Responsibility Assignment ..............................................48\\n8.5 Documenting the Results of the Plan Risk Responses Process ..........................50\\n8.5.1 Add Risk Responses to the Risk Register .................................................50\\n8.5.2 Add Corresponding Risk Responses to the Project\\nManagement Plan ......................................................................................50\\n8.5.3 Review and Document Predicted Exposure ..............................................50\\nCHAPTER 9 - MONITOR AND CONTROL RISKS .......................................................................51\\n9.1 Purpose and Objectives of the Monitor and Control Risks Process ....................51\\n9.2 Critical Success Factors for the Monitor and Control Risks Process ..................53\\n9.2.1 Integrate Risk Monitoring and Control\\nwith Project Monitoring and Control .........................................................53\\n9.2.2 Continuously Monitor Risk Trigger Conditions .........................................54\\n9.2.3 Maintain Risk Awareness ..........................................................................54\\n9.3 Tools and Techniques for the Monitor and Control Risks Process ......................54\\n9.3.1 Managing Contingency Reserves ..............................................................54\\n9.3.2 Tracking Trigger Conditions ......................................................................55\\n9.3.3 Tracking Overall Risk .................................................................................55\\n9.3.4 Tracking Compliance .................................................................................55\\n9.4 Documenting the Results of the Monitor and Control Risks Process .................55\\nAPPENDICES ...........................................................................................................................57\\nAPPENDIX A - GUIDELINES FOR A PMI PRACTICE STANDARD ..............................................57\\nA.1 Introduction ...........................................................................................................57\\nAPPENDIX B - EVOLUTION OF PMI’S PRACTICE STANDARD FOR PROJECT RISK\\nMANAGEMENT ........................................................................................................................59\\nB.1 Pre-Project .............................................................................................................59\\nB.2 Preliminary Work ...................................................................................................60\\nB.3 Scope Changes ......................................................................................................60\\n©2009 Project Management Institute. Practice Standard for Project Risk Management\\nviii',\n",
       " 9: 'TABLE OF CONTENTS\\nAPPENDIX C - CONTRIBUTORS AND REVIEWERS OF THE PRACTICE STANDARD FOR PROJECT\\nRISK MANAGEMENT ...............................................................................................................61\\nC.1 Practice Standard for Project Risk Management Project Core Team ..................61\\nC.2 Signifi cant Contributors ........................................................................................61\\nC.3 Practice Standard for Project Risk Management Team Members .......................62\\nC.4 Final Exposure Draft Reviewers and Contributors ...............................................65\\nC.5 PMI Standards Member Advisory Group (MAG) ...................................................66\\nC.6 Staff Contributor ....................................................................................................67\\nAPPENDIX D - TOOLS, TECHNIQUES AND TEMPLATES FOR PROJECT RISK MANAGEMENT .......69\\nD.1 Techniques, Examples and Templates for Risk Management Planning\\n(Chapter 4) .............................................................................................................69\\nD.1.1 Techniques .................................................................................................69\\nD.2 Techniques, Examples and Templates for Identify Risks (Chapter 5) .................72\\nD.2.1 Techniques .................................................................................................76\\nD.3 Techniques, Examples and Templates for Qualitative Risk Analysis\\n(Chapter 6) .............................................................................................................86\\nD.3.1 Techniques for Perform Qualtitative Risk Analysis ..................................86\\nD.4 Techniques, Examples and Templates for Quantitative Risk Analysis\\n(Chapter 7) .............................................................................................................91\\nD.4.1 Techniques for Perform Quantitative Risk Analysis .................................91\\nD.5 Techniques, Examples, and Templates for Plan Risk Responses (Chapter 8) .....96\\nD.5.1 Techniques for Plan Risk Response ..........................................................96\\nD.6 Techniques, Examples and Templates for Monitor and Control Risks\\n(Chapter 9) ...........................................................................................................101\\nD.6.1 Techniques for Monitor and Control Risks Process .................................101\\nAPPENDIX E – REFERENCES ................................................................................................107\\n©2009 Project Management Institute. Practice Standard for Project Risk Management\\nix',\n",
       " 10: '',\n",
       " 11: 'LIST OF FIGURES\\nFigure 1-1. Hierarchy of PMI Project Risk Management Resources ....................................................2\\nFigure 1-2. Critical Success Factors for Project Risk Management .....................................................6\\nFigure 3-1. Project Risk Management Process Flow Diagram ...........................................................17\\nFigure 4-1. Key Areas of Focus for the Plan Risk Management Process ...........................................23\\nFigure 5-1. Three Perspectives of Risk Identification .........................................................................27\\nFigure 5-2. Cause, Risk, and Effect ......................................................................................................29\\nFigure 6-1. Building Risk Analysis Credibility .....................................................................................32\\nFigure 6-2. The Perform Qualitative Risk Analysis Process ...............................................................33\\nFigure 7-1. Comparison of Qualitative and Quantitative Approaches ................................................38\\nFigure 7-2. Structure of a Quantitative Risk Analysis .........................................................................41\\nFigure 8-1. Critical Success Factors for Risk Response Planning .....................................................44\\nFigure 8-2. The Steps Involved in Planning Risk Responses ..............................................................49\\nFigure 9-1. Schematic Representation of the Monitor and Control Risks Process ............................53\\n©2009 Project Management Institute. Practice Standard for Project Risk Management\\nxi',\n",
       " 12: '',\n",
       " 13: '1\\nCHAPTER 1\\nINTRODUCTION\\nP roject Management Institute (PMI) practice standards are guides to the use of a tool, technique, or process\\nidentifi ed in A Guide to the Project Management Body of Knowledge ( PMBOK ® G uide – Fourth Edition) or\\nother PMI standards. Practice standards are targeted at audiences who participate in the management of\\nprojects. This includes project managers, project personnel, contract personnel, supervisors, and other project\\nstakeholders.\\nA PMI practice standard describes processes, activities, inputs, and outputs for a specifi c Knowledge Area.\\nIt provides information on what the signifi cant process, tool, or technique is, what it does, why it is signifi cant,\\nwhen it should be performed or executed, and, if necessary for further clarifi cation, who should perform the\\nprocess. A practice standard does not prescribe how the process is to be implemented, leaving that subject for\\nother forums such as handbooks, manuals, and courses.\\nThis chapter includes the following sections:\\n1.1 Purpose of the Practice Standard for Project Risk Management\\n1.2 Project Risk Management Defi nition\\n1.3 Role of Project Risk Management in Project Management\\n1.4 Good Risk Management Practice\\n1.5 Critical Success Factors for Project Risk Management\\n©2009 Project Management Institute. Practice Standard for Project Risk Management\\n1',\n",
       " 14: '1\\nCHAPTER 1 − INTRODUCTION\\n1.1 Purpose of the Practice Standard for Project Risk Management\\nT he purpose of the Practice Standard for Project Risk Management is to ( a ) provide a standard for project\\nmanagement practitioners and other stakeholders that defi nes the aspects of Project Risk Management that\\nare recognized as good practice on most projects most of the time and (b ) provide a standard that is globally\\napplicable and consistently applied. This practice standard has a descriptive purpose rather than one used for\\ntraining or educational purposes.\\nThe Practice Standard for Project Risk Management covers risk management as it is applied to single\\nprojects only. Like the P MBOK ® Guide – Fourth Edition, this practice standard does not cover risk in programs\\nor portfolios of projects.\\nC hapter 11 of the P MBOK ® Guide – Fourth Edition, is the basis for the P ractice Standard for Project Risk\\nManagement . This practice standard is consistent with that chapter, emphasizing the concepts and principles\\nrelating to Project Risk Management. It is aligned with other PMI practice standards.\\nFigure 1-1 compares the purposes of this practice standard to those of the P MBOK ® G uide – Fourth Edition\\nand textbooks, handbooks, and courses.\\nFigure 1-1. Hierarchy of PMI Project Risk Management Resources\\n©2009 Project Management Institute. Practice Standard for Project Risk Management\\n2',\n",
       " 15: '1\\nCHAPTER 1 − INTRODUCTION\\nThis practice standard is organized in three main sections:\\n1. I ntroductory material including the framework, purpose, principles, context of, and introduction to\\nProject Risk Management processes as defi ned in the PMBOK ® Guide – Fourth Edition.\\n2. Principles underlying the six Project Risk Management processes in the P MBOK ® G uide – Fourth\\nEdition. The six processes are as follows:\\n• Plan Risk Management,\\n• Identify Risks,\\n• Perform Qualitative Risk Analysis,\\n• Perform Quantitative Risk Analysis,\\n• Plan Risk Responses, and\\n• Monitor and Control Risks.\\nE ach of these six processes is described in a chapter that addresses the following four topics:\\n( a ) purpose and objectives of the process; (b ) critical success factors for the process; (c ) tools and\\ntechniques for the process; and ( d ) documenting the results of the process.\\n3. A glossary of terms which are used in this practice standard.\\nT his practice standard emphasizes those principles that are fundamental to effective, comprehensive,\\nand successful Project Risk Management. These principles can and should be stated at a general level for\\nseveral reasons:\\n1. P rinciples are expected to be agreed upon now and to be valid in the future. While tools and\\ntechniques are constantly evolving, the principles have more stability and persistence.\\n2. Different projects, organizations, and situations will require different approaches to Project Risk\\nManagement. In particular, risk management is a discipline that contains a series of processes to\\napply to both large and small projects. Risk management will be more effective if its practice is\\ntailored to the project and congruent with the organizational culture, processes and assets. There\\nare many different ways of conducting risk management that may comply with the principles of\\nProject Risk Management as presented in this practice standard.\\n3. The principles are applicable to projects carried out in a global context, refl ecting the many\\nbusiness and organizational arrangements between participants, for example, joint ventures\\nbetween commercial and national companies, government and non-government organizations,\\nand the cross-cultural environment often found on these project teams.\\nT he principles described herein can be used as a check for an organization’s processes. Practitioners can\\nestablish processes specifi c to their particular situation, project, or organization and then compare them with\\nthese principles, thus validating them against good Project Risk Management practice.\\n©2009 Project Management Institute. Practice Standard for Project Risk Management\\n3',\n",
       " 16: '1\\nCHAPTER 1 − INTRODUCTION\\n1.2 Project Risk Management Defi nition\\nT he defi nition of Project Risk Management, as defi ned in the P MBOK ® Guide – Fourth Edition, is the basis\\nfor this practice standard: “Project Risk Management includes the processes concerned with conducting\\nrisk management planning, identifi cation, analysis, responses, and monitoring and control on a project.” The\\nPMBOK ® Guide – Fourth Edition also states: “The objectives of Project Risk Management are to increase the\\nprobability and impact of positive events, and decrease the probability and impact of negative events in the\\nproject.” In the PMBOK ® G uide – Fourth Edition, “project risk is an uncertain event or condition that, if it occurs,\\nhas a positive or negative effect on a project’s objectives.” Project objectives include scope, schedule, cost,\\nand quality.\\nProject Risk Management aims to identify and prioritize risks in advance of their occurrence, and provide\\naction-oriented information to project managers. This orientation requires consideration of events that may\\nor may not occur and are therefore described in terms of likelihood or probability of occurrence in addition to\\nother dimensions such as their impact on objectives.\\n1.3 Role of Project Risk Management in Project Management\\nP roject Risk Management is not an optional activity: it is essential to successful project management.\\nIt should be applied to all projects and hence be included in project plans and operational documents. In\\nthis way, it becomes an integral part of every aspect of managing the project, in every phase and in every\\nprocess group.\\nMany of the project management processes address planning the project, from concept to fi nal design\\nand from procurement through daily management of execution and close-out. These processes often\\nassume an unrealistic degree of certainty about the project and, therefore, they need to include treatment of\\nproject risks.\\nProject Risk Management addresses the uncertainty in project estimates and assumptions. Therefore, it\\nbuilds upon and extends other project management processes. For instance, project scheduling provides dates\\nand critical paths based on activity durations and resource availability assumed to be known with certainty.\\nQuantitative risk analysis explores the uncertainty in the estimated durations and may provide alternative dates\\nand critical paths that are more realistic given the risks to the project.\\nProject Risk Management is not a substitute for the other project management processes. On the contrary,\\nProject Risk Management requires that these project management processes (e.g. scheduling, budgeting, and\\nchange management) be performed at the level of the best practices available. Project Risk Management adds\\nthe perspective of project risk to the outputs of those other processes and adds to their value by taking risk\\ninto account. For instance, risk management provides the basis upon which to estimate the amount of cost and\\nschedule contingency reserves that are needed to cover risk response actions to a required level of confi dence\\nfor meeting project objectives.\\n©2009 Project Management Institute. Practice Standard for Project Risk Management\\n4',\n",
       " 17: '1\\nCHAPTER 1 − INTRODUCTION\\nThere is a paradox about project risk that affects most projects. In the early stages of a project, the level of\\nrisk exposure is at its maximum but information on the project risks is at a minimum. This situation does not\\nmean that a project should not go forward because little is known at that time. Rather, there may be different\\nways of approaching the project that have different risk implications. The more this situation is recognized, the\\nmore realistic the project plans and expectations of results will be.\\nA risk management approach is applicable throughout a project’s life cycle. The earlier in the project life\\ncycle that the risks are recognized, the more realistic the project plans and expectations of results will be. Risk\\nmanagement continues to add value as project planning progresses and more information becomes available\\nabout all aspects and components of the project and its environment, such as stakeholders, scope, time, and\\ncost, as well as the corresponding assumptions and constraints. The balance between project fl exibility and\\nknowledge about project risk needs to be reviewed regularly and optimized as the plans develop.\\nI t is true that as the project plan becomes set with fundamental decisions, agreements, and contracts in\\nplace, the options for making substantial changes to capture opportunities or mitigate threats are reduced.\\nDuring project execution, risk management processes monitor the changes the project undergoes for new\\nrisks that may emerge so that appropriate responses to them can be developed, as well as check for existing\\nrisks that are no longer plausible. Project Risk Management plays a role in providing realistic expectations for\\nthe completion dates and cost of the project even if there are few options for changing the future.\\nF inally, throughout the project and during project closure, risk-related lessons are reviewed in order to\\ncontribute to organizational learning and support continuous improvement of Project Risk Management\\npractice.\\n1.4 Good Risk Management Practice\\nP roject Risk Management is a valuable component of project management and it enhances the value of\\nthe other project management processes. As with all of these processes, Project Risk Management should be\\nconducted in a manner consistent with existing organizational practices and policies. In addition, like the other\\nprocesses involved in project management, Project Risk Management should be conducted in a way that is\\nappropriate to the project. Project Risk Management should recognize the business challenges as well as the\\nmulti-cultural environment associated with an increasingly global environment including many joint venture\\nprojects and customers, suppliers, and workforces spread around the globe.\\nChanges in the project management plan that result from the Project Risk Management process may\\nrequire decisions at the appropriate level of management to reassign personnel, establish or modify budgets,\\nmake commitments to others outside the project, interact with regulators, and comply with the rules of\\naccounting and law. Project Risk Management should be conducted in compliance with these internal and\\nexternal requirements.\\n©2009 Project Management Institute. Practice Standard for Project Risk Management\\n5',\n",
       " 18: '1\\nCHAPTER 1 − INTRODUCTION\\nProject Risk Management should always be conducted on an ethical basis, in keeping with the Project\\nManagement code of ethics or conduct. Honesty, responsibility, realism, professionalism and fair dealing\\nwith others are among the characteristics of successful Project Risk Management. Effective Project Risk\\nManagement benefi ts from robust communication and consultation with stakeholders. This enables agreement\\namong stakeholders that Project Risk Management in general, and risk identifi cation, analysis, and response,\\nin particular, should be carried out in a realistic and objective way and should not be subject to political or other\\nunreasonable infl uences.\\nProject Risk Management should be conducted on all projects. The degree, level of detail, sophistication of\\ntools, and amount of time and resources applied to Project Risk Management should be in proportion to the\\ncharacteristics of the project under management and the value that they can add to the outcome. Thus, a large\\nproject that provides value to an important customer would theoretically require more resources, time, and\\nattention to Project Risk Management than would a smaller, short-term, internal project that can be conducted\\nin the background with a fl exible deadline.\\nE ach of the Project Risk Management processes should be scaled to be appropriate to the project under\\nmanagement during the Plan Risk Management process and reviewed periodically to determine if the decisions\\nmade in that process remain appropriate.\\n1.5 Critical Success Factors for Project Risk Management\\nFigure 1-2. Critical Success Factors for Project Risk Management\\n©2009 Project Management Institute. Practice Standard for Project Risk Management\\n6',\n",
       " 19: '1\\nCHAPTER 1 − INTRODUCTION\\nS pecifi c criteria for success of each Project Risk Management process are listed in the chapters dealing\\nwith those processes. The general criteria for success include:\\n• Recognize the Value of Risk Management — Project Risk Management should be recognized\\nas a valuable discipline that provides a positive potential return on investment for organizational\\nmanagement, project stakeholders (both internal and external), project management, and team\\nmembers.\\n• Individual Commitment/Responsibility — Project participants and stakeholders should all accept\\nresponsibility for undertaking risk-related activities as required. Risk management is everybody’s\\nresponsibility.\\n• Open and Honest Communication — Everyone should be involved in the Project Risk Management\\nprocess. Any actions or attitudes that hinder communication about project risk reduce the effectiveness\\nof Project Risk Management in terms of proactive approaches and effective decision-making.\\n• Organizational Commitment — Organizational commitment can only be established if risk\\nmanagement is aligned with the organization’s goals and values. Project Risk Management may\\nrequire a higher level of managerial support than other project management disciplines because\\nhandling some of the risks will require approval of or responses from others at levels above the\\nproject manager.\\n• Risk Effort Scaled to Project — Project Risk Management activities should be consistent with the value\\nof the project to the organization and with its level of project risk, its scale, and other organizational\\nconstraints. In particular, the cost of Project Risk Management should be appropriate to its potential\\nvalue to the project and the organization.\\n• Integration with Project Management — Project Risk Management does not exist in a vacuum,\\nisolated from other project management processes. Successful Project Risk Management requires\\nthe correct execution of the other project management processes.\\nThese critical success factors for Project Risk Management are illustrated in Figure 1-2.\\n1.6 Conclusion\\nT he principles of Project Risk Management described in this practice standard should be appropriately\\napplied based on the specifi cs of a project and the organizational environment. Project Risk Management\\nprovides benefi ts when it is implemented according to good practice principles and with organizational\\ncommitment to taking the decisions and performing actions in an open and unbiased manner.\\n©2009 Project Management Institute. Practice Standard for Project Risk Management\\n7',\n",
       " 20: '',\n",
       " 21: '2\\nCHAPTER 2\\nPRINCIPLES AND CONCEPTS\\n2.1 Introduction\\nT his chapter introduces the key ideas required to understand and apply Project Risk Management to projects\\nfollowing the approach described in Chapter 11 of the P MBOK ® Guide – Fourth Edition. These principles and\\nconcepts are generally consistent with other approaches to Project Risk Management commonly used although\\nthe terminology may differ in some details.\\nThe execution of the Project Risk Management process is dealt with in subsequent chapters of this practice\\nstandard and so is not discussed here.\\n2.2 Defi nition of Project Risk\\nThe word “risk” is used in many ways in everyday language and in various specialist disciplines. Its use\\nin the P MBOK ® G uide – Fourth Edition is consistent with other risk management standards and process\\ndescriptions. The defi nition of project risk given in the PMBOK ® Guide – Fourth Edition is as follows:\\nP roject risk is an uncertain event or condition that, if it occurs, has a positive or a negative\\neffect on a project’s objectives.\\nT his defi nition includes two key dimensions of risk: uncertainty and effect on a project’s objectives. When\\nassessing the importance of a project risk, these two dimensions must both be considered. The uncertainty\\ndimension may be described using the term “probability” and the effect may be called “impact” (though other\\ndescriptors are possible, such as “likelihood” and “consequence”).\\nT he defi nition of risk includes both distinct events which are uncertain but can be clearly described, and\\nmore general conditions which are less specifi c but also may give risk to uncertainty. T he defi nition of project\\nrisk also encompasses uncertain events which could have a negative effect on a project’s objectives, as\\nwell as those which could have a positive effect. These two types of risk are called, respectively, threats and\\nopportunities. It is important to address both threats and opportunities within a unifi ed Project Risk Management\\nprocess. This allows for the gain of synergies and effi ciencies such as addressing both in the same analyses\\nand coordinating the responses to both if they overlap or can reinforce each other.\\n©2009 Project Management Institute. Practice Standard for Project Risk Management\\n9',\n",
       " 22: '2\\nCHAPTER 2 − PRINCIPLES AND CONCEPTS\\nR isks are uncertain future events or conditions which may or may not occur, but which would matter if they\\ndid occur. It is important to distinguish risks from risk-related features, such as cause and effect. Causes are\\nevents or circumstances which currently exist or are certain to exist in the future and which might give rise\\nto risks. Effects are conditional future events or conditions which would directly affect one or more project\\nobjectives if the associated risk occurs. The cause-risk-effect chain can be used in a structured risk statement\\nor risk description to ensure that each of these three elements is properly described (see Section 5.3).\\nWhen a risk event occurs, it ceases to become uncertain. Threats which occur may be called issues or\\nproblems; opportunities which occur may be called benefi ts. Both issues/problems and benefi ts entail project\\nmanagement actions that are outside the scope of the Project Risk Management process.\\n2.3 Individual Risks and Overall Project Risk\\nIt is useful to consider project risk at two levels: individual risks and overall project risk.\\nI ndividual risks are specifi c events or conditions that might affect project objectives. An individual risk\\nmay positively or negatively affect one or more of the project objectives, elements, or tasks. Understanding\\nindividual risks can assist in determining how to apply effort and resources to enhance the chances of project\\nsuccess. Day-to-day Project Risk Management focuses on these individual risks in order to enhance the\\nprospects of a successful project outcome.\\nO verall project risk represents the effect of uncertainty on the project as a whole. Overall project risk is\\nmore than the sum of individual risks on a project, since it applies to the whole project rather than to individual\\nelements or tasks. It represents the exposure of stakeholders to the implications of variations in project\\noutcome. It is an important component of strategic decision-making, program and portfolio management,\\nand project governance where investments are sanctioned or cancelled and priorities are set. At these higher\\nlevels, it is necessary to set realistic targets for the cost and duration of a project, establish the contingency\\nreserve levels required to protect the project stakeholders, set appropriate project priorities, and judge whether\\nthe risk of overall success is increasing or decreasing as implementation advances.\\n2.4 Stakeholder Risk Attitudes\\nT he risk attitudes of the project stakeholders determine the extent to which an individual risk or overall\\nproject risk matters. A wide range of factors infl uence risk attitude. These include the scale of the project\\nwithin the range of stakeholders’ overall activities, the strength of public commitments made about the\\nperformance of the project, and the stakeholders’ sensitivity to issues such as environmental impacts,\\nindustrial relations, and other factors. Stakeholder risk attitudes usually result in a desire for increased\\ncertainty in project outcomes, and may express a preference for one project objective over another. How risk\\nis regarded is usually also strongly infl uenced by an organization’s culture. Different organizations are more\\nor less open, and this often impacts the way risk management can be applied.\\n©2009 Project Management Institute. Practice Standard for Project Risk Management\\n10',\n",
       " 23: '2\\nCHAPTER 2 − PRINCIPLES AND CONCEPTS\\nUnderstanding stakeholders’ attitudes toward risk is an important component of risk management planning\\nthat precedes risk identifi cation and analysis, in order to optimize both project success and stakeholder\\nsatisfaction with the project’s results. These attitudes should be identifi ed and managed proactively and\\ndeliberately throughout the Project Risk Management process. They may differ from one project to another\\nfor the same stakeholders and will usually differ from one group of stakeholders to another. In fact a single\\nstakeholder may adopt different risk attitudes at various stages in the same project.\\nI t is also important to understand the particular implications of stakeholder risk attitudes on projects where\\nthe team is international, cross-industry, or multi-organizational.\\n2.5 Iterative Process\\nIt is the nature of projects that circumstances change as they are being planned and executed. The amount\\nof information available about risks will usually increase as time goes on. Some risks will occur while others will\\nnot, new risks will arise or be discovered, and the characteristics of those already identifi ed may change. As a\\nresult, the Project Risk Management processes should be repeated and the corresponding plans progressively\\nelaborated throughout the lifetime of the project.\\nT o ensure that Project Risk Management remains effective, the identifi cation and analysis of risks should\\nbe revisited periodically, the progress on risk response actions should be monitored, and the action plans\\nadjusted accordingly. If external circumstances change signifi cantly, it may also be necessary to revisit the risk\\nmanagement planning process.\\nThe development of an initial risk management plan and risk assessment is the start of the process, not\\nthe end. The frequency and depth of reviews and updates will depend on the nature of the project, the volatility\\nof the environment in which the project is being implemented, and the timing of other project management\\nreviews and updates.\\n2.6 Communication\\nP roject Risk Management cannot take place in isolation. Success relies heavily on communication\\nthroughout the process.\\nR isk identifi cation and analysis depend on comprehensive input from stakeholders in a project to ensure\\nthat nothing signifi cant is overlooked and that risks are realistically assessed. The credibility of the process\\nand the commitment of those who should act to manage risks can be assured only if the way the process\\noperates and the conclusions it produces are understood and seen as credible by all concerned. This demands\\neffective and honest communication from the Project Risk Management process to the rest of the project team\\nand other project stakeholders. Communication of the results of the Project Risk Management process should\\nbe targeted to meet the specifi c needs of each stakeholder and should be refl ected within the overall project\\ncommunications strategy with each stakeholder’s responsibility and role in risk management identifi ed and\\nagreed-upon.\\n©2009 Project Management Institute. Practice Standard for Project Risk Management\\n11',\n",
       " 24: '2\\nCHAPTER 2 − PRINCIPLES AND CONCEPTS\\n2.7 Responsibility for Project Risk Management\\nIt may be considered simplistic to say “risk management is everyone’s responsibility” as previously stated.\\nHowever it is important that management of project risk is not left to a few risk specialists. Project Risk\\nManagement should be included as an integral part of all other project processes. Since project risks can\\naffect project objectives, anyone with an interest in achieving those objectives should play a role in Project Risk\\nManagement. The specifi c roles depend on the project team members’ and other stakeholders’ place within\\nthe project and their relation to project objectives. Roles and responsibilities for Project Risk Management\\nshould be clearly defi ned and communicated, and individuals should be held responsible and accountable\\nfor results. This includes allocating responsibility for specifi c activities within the risk process, as well as for\\nresulting actions required to implement agreed-upon responses. Responsibility should also be allocated for\\nensuring that risk-related lessons are captured for future use.\\n2.8 Project Manager’s Role for Project Risk Management\\nThe project manager has particular responsibilities in relation to the Project Risk Management process.\\nThe project manager has overall responsibility for delivering a successful project which fully meets the defi ned\\nobjectives. The project manager is accountable for the day-to-day management of the project, including\\neffective risk management. The role of the project manager may include:\\n(cid:129) Encouraging senior management support for Project Risk Management activities.\\n(cid:129) Determining the acceptable levels of risk for the project in consultation with stakeholders.\\n(cid:129) Developing and approving the risk management plan.\\n(cid:129) Promoting the Project Risk Management process for the project.\\n(cid:129) Facilitating open and honest communication about risk within the project team and with\\nmanagement and other stakeholders.\\n(cid:129) Participating in all aspects of the Project Risk Management process.\\n(cid:129) Approving risk responses and associated actions prior to implementation.\\n(cid:129) Applying project contingency funds to deal with identifi ed risks that occur during the project.\\n(cid:129) Overseeing risk management by subcontractors and suppliers.\\n(cid:129) R egularly reporting risk status to key stakeholders, with recommendations for appropriate strategic\\ndecisions and actions to maintain acceptable risk exposure.\\n(cid:129) Escalating identifi ed risks to senior management where appropriate: such risks include any which are\\noutside the authority or control of the project manager, any which require input or action from outside\\nthe project, and any for which the release of management reserve funds might be appropriate.\\n(cid:129) Monitoring the effi ciency and effectiveness of the Project Risk Management process.\\n(cid:129) Auditing risk responses for their effectiveness and documenting lessons learned.\\n©2009 Project Management Institute. Practice Standard for Project Risk Management\\n12',\n",
       " 25: '3\\nCHAPTER 3\\nINTRODUCTION TO PROJECT RISK MANAGEMENT PROCESSES\\n3.1 Project Risk Management and Project Management\\nAll projects are uncertain. Uncertainty is inevitable since projects are unique and temporary undertakings\\nbased on assumptions and constraints, delivering project results to multiple stakeholders with different\\nrequirements. Project management can be seen as an attempt to control this uncertain environment, through\\nthe use of structured and disciplined techniques such as estimating, planning, cost control, task allocation,\\nearned value analysis, monitoring and review meetings, etc. Each of these elements of project management\\nhas a role in defi ning or controlling the uncertainty which is inherent in all projects.\\nP roject Risk Management provides an approach by which uncertainty can be understood, assessed, and\\nmanaged within projects. As such it forms an integral part of project management, and effective Project Risk\\nManagement is a critical success factor for project success.\\nF or project management to be fully effective, however, it is important that Project Risk Management is not\\nviewed as an optional process or performed as an additional overhead task. Since many elements of project\\nmanagement address inherent uncertainty, the interface between structured Project Risk Management and the\\nother processes of project management needs to be clear. The outputs of Project Risk Management should be\\ntaken into account within many of the project management processes. They can, for example, impact:\\n• Estimating resource requirements, cost, or duration;\\n• Assessing the impact of proposed scope changes;\\n• Planning or re-planning the forward strategy of the project;\\n• Allocating resources to tasks; and\\n• Reporting progress to stakeholders.\\nN one of these actions can be performed properly without a clear view of the risk involved, as determined\\nduring the Project Risk Management process. In other words, project management process effectiveness is\\nincreased by using the information and results from Project Risk Management.\\nI n addition, effective Project Risk Management requires input from other project management processes.\\nOutputs such as the work breakdown structure (WBS), estimates, the project schedule, assumptions list, etc.\\nare all important prerequisites for effective Project Risk Management.\\n©2009 Project Management Institute. Practice Standard for Project Risk Management\\n13',\n",
       " 26: '3\\nCHAPTER 3 − INTRODUCTION TO PROJECT RISK MANAGEMENT PROCESSES\\n3.2 Project Risk Management Processes\\nThe defi ned steps of Project Risk Management describe a structured approach for understanding and\\nmanaging risk on a project. This chapter outlines the steps required for effective Project Risk Management.\\nEach step is described in more detail in subsequent chapters.\\nAs previously defi ned, project risk is an uncertain event or condition that, if it occurs, has a positive or\\nnegative effect on a project’s objectives. From this defi nition, it is clear that risks only exist in relation to\\nobjectives. It is therefore essential at the start of the Project Risk Management process to clearly defi ne the\\nobjectives. It is also clear that different projects are exposed to different levels of risk, so each step in the\\nProject Risk Management process should be scalable to meet the varying degrees of risk. Scalable elements\\nof the process include:\\n• Available resources,\\n• Methodology and processes used,\\n• Tools and techniques used,\\n• Supporting infrastructure,\\n• Review and update frequency, and\\n• Reporting requirements.\\nAs a precondition for a successful Project Risk Management implementation, it is important to have a clear\\nunderstanding of the risk thresholds that defi ne the key stakeholders’ views on acceptable levels of risk, as\\nwell as a framework against which identifi ed risks can be assessed.\\nA s a result, the Project Risk Management process always starts with an initiation step. This is required in\\norder to ensure a common understanding and agreement of the team and other stakeholders on the approach\\nand parameters that will be applied in managing risk in this project, as well as the scope and objectives of the\\nProject Risk Management process itself. Project Risk Management activities, resources, and attention should\\nbe appropriate to the project since different projects warrant different levels of risk management application.\\nThe main actions to provide the required tailoring are as follows:\\n• Defi ne those objectives against which risks will be identifi ed,\\n• Defi ne how the elements of the Project Risk Management process will be scaled for this\\nproject, and\\n• Defi ne risk thresholds, tolerances, and the assessment framework.\\nT he outputs from this initial step should be documented, communicated, and then reviewed by the\\nstakeholders to ensure a common understanding of the scope and objectives for the Project Risk Management\\nprocess. The document should be formally approved at a senior level.\\n©2009 Project Management Institute. Practice Standard for Project Risk Management\\n14',\n",
       " 27: '3\\nCHAPTER 3 − INTRODUCTION TO PROJECT RISK MANAGEMENT PROCESSES\\nO nce the Project Risk Management scope and objectives are agreed upon, it is possible to start identifying\\nrisks, being careful to distinguish genuine risks from non-risks (such as causes, effects, problems, issues etc.).\\nA variety of risk identifi cation techniques is available, each with its own strengths and weaknesses. One or\\nmore techniques should be selected as appropriate for meeting the needs of the specifi c project. The aim is\\nto expose and document all knowable risks, recognizing that some risks will be inherently unknowable and\\nothers will emerge later in the project. The emergent nature of risk requires the Project Risk Management\\nprocess to be iterative, repeating the Identify Risks process in order to fi nd risks which were not evident earlier\\nin the project. Input should be sought from a wide range of project stakeholders when identifying risks, since\\neach will have a different perspective on the risks facing the project. Historical records and project documents\\nshould also be reviewed to identify risks for this project.\\nAll identifi ed risks are recorded. Ideally, a risk owner is designated for each identifi ed risk. It is the\\nresponsibility of the risk owner to manage the corresponding risk through all of the subsequent Project Risk\\nManagement processes.\\nFollowing risk identifi cation, it is necessary to evaluate the importance of each risk, in order to prioritize\\nindividual risks for further attention, evaluate the level of overall project risk, and determine appropriate\\nresponses. Risk evaluation can be performed using qualitative techniques to address individual risks, using\\nquantitative techniques to consider the overall effect of risk on the project outcome, or using both in combination.\\nThese two approaches require different types of data, but where both qualitative and quantitative techniques\\nare used, an integrated approach should be adopted.\\nQualitative techniques are used to gain a better understanding of individual risks, considering a range\\nof characteristics such as probability of occurrence, degree of impact on project objectives, manageability,\\ntiming of possible impacts, relationships with other risks, common causes or effects, etc. Understanding and\\nprioritizing risks is an essential prerequisite to managing them, so qualitative techniques are used on most\\nprojects. The outputs from qualitative assessments should be documented and communicated to key project\\nstakeholders and form a basis for determining appropriate responses.\\nQ uantitative techniques provide insights into the combined effect of identifi ed risks on the project outcome.\\nThese techniques take into account probabilistic or project-wide effects, such as correlation between risks,\\ninterdependency, and feedback loops, thereby indicating the degree of overall risk faced by the project. The\\nresult is an indication of the degree of overall risk faced by the project. The results of quantitative analysis\\nshould be used to focus the development of appropriate responses, particularly the calculation of required\\ncontingency reserve levels, and must be documented and communicated to inform subsequent actions.\\nQuantitative techniques may not be required for all projects to ensure effective management of risk.\\n©2009 Project Management Institute. Practice Standard for Project Risk Management\\n15',\n",
       " 28: '3\\nCHAPTER 3 − INTRODUCTION TO PROJECT RISK MANAGEMENT PROCESSES\\nO nce individual risks have been prioritized and the degree of overall project risk exposure is understood,\\nappropriate risk responses should be developed using an iterative process which continues until an optimal\\nset of responses has been developed. A range of possible response strategies exists for both threats and\\nopportunities. The risk owner should select a suitable strategy for each individual risk, based on its characteristics\\nand assessed priority, ensuring that the strategy is achievable, affordable, cost effective, and appropriate. The\\nuse of a single strategy that addresses several related risks should be considered whenever possible. The risk\\nowner is responsible for defi ning actions to implement the chosen strategy. These actions may be delegated to\\naction owners as appropriate. The risk owner should monitor actions to determine their effectiveness, and also\\nto identify any secondary risks which may arise because of the implementation of risk responses. In addition\\nto individual risk responses, actions may be taken to respond to overall project risk. All response strategies\\nand actions should be documented and communicated to key project stakeholders and incorporated into the\\nproject plan.\\nI t is essential that agreed-upon actions are implemented; otherwise the risk exposure of the project remains\\nunchanged. It is also vital that the Project Risk Management process be repeated at regular intervals throughout\\nthe life of the project. This will enable the project team to reevaluate the status of previously identifi ed risks,\\nto identify emergent and secondary risks, and to determine the effectiveness of the Project Risk Management\\nprocess.\\nThe steps outlined previously form the Project Risk Management process. These are detailed in subsequent\\nchapters, as follows:\\n• Plan Risk Management (Chapter 4) — Defi nes the scope and objectives of the Project Risk\\nManagement process, and ensures that the risk process is fully integrated into wider project\\nmanagement.\\n• Identify Risks (Chapter 5) — Identifi es as many knowable risks as practicable.\\n• Perform Qualitative Risk Analysis (Chapter 6) — Evaluates key characteristics of individual risks\\nenabling them to be prioritized for further action.\\n• Perform Quantitative Risk Analysis (Chapter 7) — Evaluates the combined effect of risks on the\\noverall project outcome.\\n• Plan Risk Responses (Chapter 8) — Determines appropriate response strategies and actions for\\neach individual risk and for overall project risk, and integrates them into a consolidated project\\nmanagement plan.\\n• Monitor and Control Risks (Chapter 9) — Implements agreed-upon actions, reviews changes in\\nproject risk exposure, identifi es additional risk management actions as required, and assesses the\\neffectiveness of the Project Risk Management process.\\nF igure 3-1 shows the fl ow of control and information between the various steps within the Project Risk\\nManagement process.\\n©2009 Project Management Institute. Practice Standard for Project Risk Management\\n16',\n",
       " 29: '3\\nCHAPTER 3 − INTRODUCTION TO PROJECT RISK MANAGEMENT PROCESSES\\nFigure 3-1. Project Risk Management Process Flow Diagram\\n©2009 Project Management Institute. Practice Standard for Project Risk Management\\n17',\n",
       " 30: '',\n",
       " 31: '4\\nCHAPTER 4\\nPLAN RISK MANAGEMENT\\n4.1 Purpose and Objectives of the Plan Risk Management Process\\nT he objectives of the Plan Risk Management process are to develop the overall risk management strategy\\nfor the project, to decide how the risk management processes will be executed, and to integrate Project Risk\\nManagement with all other project management activities.\\nE ffective risk management requires creation of a risk management plan. This plan describes how the\\nrisk management processes should be carried out and how they fi t in with the other project management\\nprocesses. On a broader level, it describes the relationships among Project Risk Management, general project\\nmanagement, and the management processes in the rest of the organization. To provide the greatest benefi t,\\ninitial risk management planning should be carried out early in the overall planning of the project, and the\\ncorresponding risk management activities integrated into the overall project management plan. The risk\\nmanagement plan may subsequently need to be adapted as the needs of the project and its stakeholders\\nbecome clearer or change.\\nAlthough the Project Risk Management processes form an integral part of the overall project management\\nplan, a budget in terms of resources, cost, and time for the specifi c risk management activities should be\\nestablished in order to better track, control, and, as necessary, defend the corresponding expenditures\\nthroughout the project. The cost of treating the risks themselves should be included appropriately in the project\\nbudget, while the risk management plan should describe how this part of the project budget is evaluated,\\nallocated, and managed. The risk management plan will defi ne the monitoring methods to ensure that the\\ncorresponding expenditures are tracked appropriately, as well as the conditions under which the approved\\nbudget for risk management can be modifi ed.\\nIn the same way that project management is a process of progressive elaboration, risk management\\nactivities need to be repeated throughout the project. The risk management plan should defi ne both the\\nnormal frequency for repeating the processes as well as specifi c or exceptional conditions under which the\\ncorresponding actions should be initiated. The corresponding risk management activities should be integrated\\ninto the project management plan.\\nThere are two categories of success criteria for risk management: those for success of the project in\\ngeneral, and those for success of Project Risk Management.\\n©2009 Project Management Institute. Practice Standard for Project Risk Management\\n19',\n",
       " 32: '4\\nCHAPTER 4 − PLAN RISK MANAGEMENT\\n• Project-Related Criteria. To assess the success of Project Risk Management, the stakeholders\\nmust agree on an acceptable level of results for the project-related criteria (such as cost, time, and\\nscope). In order to ensure consistency and agreement among stakeholders, the risk management\\nplan should present these objectives with reference to the project defi nition documents. To provide\\nguidance in risk management, particularly in prioritizing risk responses, stakeholders should also\\nprioritize each project objective.\\n• Process-Related Criteria. The measures for success in Project Risk Management depend on a\\nnumber of factors, such as the inherent level of uncertainty of the project. For example, the Project\\nRisk Management process for a research project needs to address more unforeseen changes than\\nfor a project with a more predictable environment. A research Project Risk Management process\\nmay be considered a success even if it results in more variance from the baseline than would be\\nallowable for a successful process in a more predictable project.\\nT he level of risk that is considered acceptable in a project depends on the risk attitudes of the relevant\\nstakeholders. The risk attitudes of both the organization and the stakeholders may be infl uenced by a number\\nof factors, all of which need to be identifi ed. These include their inherent tolerance for uncertainty, and the\\nrelative importance to them of achieving or missing specifi c project objectives. The output of this analysis\\nshould then be taken into account for setting thresholds and providing weighting factors when applying the\\nProject Risk Management processes in the specifi c project.\\nGuidelines and rules for escalating risk-related information to management and other stakeholders should\\nrefl ect the risk attitudes and expectations of the corresponding stakeholders. The project manager should\\nmaintain effective communication with the stakeholders as the project evolves, in order to become aware of\\nany changes in the stakeholders’ attitudes and adapt the risk management approach to take any new facts\\ninto account.\\nIt is important that the participants share a common understanding of all terms used to describe the risks,\\nand that the critical values and thresholds that will serve as parameters for the tools should be defi ned in a\\nmanner consistent with the scope of the project and the attitudes of the stakeholders. If qualitative analysis\\nuses such terms as “high impact” or “medium probability,” these should be defi ned objectively in the risk\\nmanagement plan. Similarly, the risk management plan should specify any key numerical values required in\\nquantitative analysis or for decision-making in risk response planning or risk monitoring and control.\\nR isk management planning should establish the type and level of risk detail to be addressed and provide a\\ntemplate of the risk register that will be used for recording risk-related information. The risk management plan\\nshould also indicate the intensity of effort and the frequency with which the various Project Risk Management\\nprocesses should be applied; this depends on the characteristics of the project as well as on the specifi ed risk\\nmanagement objectives.\\nI n order for the Project Risk Management processes to be carried out correctly and effectively, the project\\nteam and other stakeholders need to know where and when they will be expected to participate, their criteria\\nfor determining success, their level of authority, and what action to take relative to actions or decisions beyond\\nthis level. The risk management plan specifi es the project’s risk management roles and responsibilities and\\ndefi nes the corresponding expectations for both senior management and project personnel.\\n©2009 Project Management Institute. Practice Standard for Project Risk Management\\n20',\n",
       " 33: '4\\nCHAPTER 4 − PLAN RISK MANAGEMENT\\nR isk-related communication occurs at two levels: (a) within the project team, and (b) between the project\\nteam and the other project stakeholders. The principles for each of these categories of communication are\\ndefi ned in the risk management plan. For the team, the plan describes the frequency and scope of the various\\nrisk management meetings and reports required to carry out the corresponding Project Risk Management\\nprocesses as well as the structure and content of such meetings and reports. For the other stakeholders, the\\nplan sets their expectations as to the structure, content, and frequency of routine documents to be received\\nas well as the way in which information will be shared for escalation or exceptional events. Details of the\\ninformation required by the project team from stakeholders should also be clearly defi ned.\\n4.2 Critical Success Factors for the Plan Risk Management Process\\nT he principal criteria for a valid risk management plan are acceptance by the stakeholders, alignment\\nwith the internal and external constraints on the project, balance between cost or effort and benefi t, and\\ncompleteness with respect to the needs of the Project Risk Management process. Critical success factors for\\nthe Plan Risk Management process are detailed below.\\n4.2.1 Identify and Address Barriers to Successful Project Risk Management\\nThe time and effort required to carry out the Plan Risk Management process will not be supported unless\\nthe stakeholders, and especially management in the organization responsible for the project, recognize and\\naccept the benefi ts of managing risk, and the added value of addressing this as a skill in its own right rather\\nthan as a passive or reactive component of general project management.\\nA clear defi nition of the project objectives and a high-level view of the project environment and solution\\napproach are required to provide a valid basis for risk management. The project manager should therefore\\nensure that valid defi nition and planning information is available for the plan risk management activity.\\nA n organization inexperienced in risk management planning may need to develop its own approach and\\nmay expend an inappropriate amount of time and effort on this. Alternatively it may use a proprietary or\\npre-existing approach which requires tailoring. The availability of some or all of the following organizational\\nprocess assets contributes to the chances of success of the Plan Risk Management activities: standard\\ntemplates, predefi ned risk categories, and an established project management methodology incorporating\\nrisk management procedures that specify what risk information is required for decision making, when it is\\nrequired, and a defi nition of concepts and terms, roles, responsibilities, and authority levels. Access to relevant\\nlessons learned at this stage will allow this experience to be taken into account from the start of the project.\\nThe risk management plan will not deliver its value unless Project Risk Management is carried out as\\nan integral part of the project. The corresponding activities should be built into the project work breakdown\\nstructure and included in the corresponding schedule, budget, and work-assignment documents.\\n©2009 Project Management Institute. Practice Standard for Project Risk Management\\n21',\n",
       " 34: '4\\nCHAPTER 4 − PLAN RISK MANAGEMENT\\n4.2.2 Involve Project Stakeholders in Project Risk Management\\nThe project manager needs to involve the project stakeholders in the Plan Risk Management activities to\\nbuild on their skills and experience as well as to ensure their understanding of, and commitment to, the full\\nProject Risk Management process.\\nThe provision for risk management resources specifi ed within the risk management plan should be\\napproved by management at a level adequate for carrying out the required Project Risk Management processes\\nin accordance with agreed-upon objectives. Management should be involved in the analysis of the level of\\nresourcing required for managing project risk and accept the risks that may arise from specifi c limitations\\nplaced on the provision of resources. Disagreements between stakeholders in the areas of risk tolerance and\\nevaluation measures should be addressed and resolved.\\n4.2.3 Comply with the Organization’s Objectives, Policies, and Practices\\nThe feasibility of risk management planning is dependent upon the features of the organization in which\\nit is carried out. The rules and guidelines defi ned in the risk management plan should be compatible with the\\nculture of the organization, its capabilities from the point of view of people and facilities, and its values, goals,\\nand objectives.\\nP roject management in general, and risk management in particular, contribute to the organization’s effective\\ngovernance. The risk management plan should identify and take into account the relevant organizational\\nprocedures and any other enterprise environmental factors that apply such as strategic risk management or\\ncorporate governance processes.\\n4.3 Tools and Techniques for the Plan Risk Management Process\\n4.3.1 Planning Sessions\\nP lanning sessions are recommended in order to build a common understanding of the project’s risk approach\\nbetween project stakeholders and to gain agreement on the techniques to be used for managing risk.\\nE laboration of the risk management plan often serves to develop an effective means for the team to work\\ntogether since a similar consultative team approach will be used in subsequent stages of the risk management\\nprocess. The participants should include: the project manager, selected project team members and other\\nstakeholders, members of the broader organization having responsibility for risk, and other subject matter\\nexperts or facilitators, as needed.\\nAt this point, the initial risk responsibilities, methodology, templates, terms, defi nitions, time schedules, and\\ncost budgets for the other Project Risk Management processes should be assigned and accepted. The specifi cation\\nfor the tools that will be used in subsequent processes should include all parameters and other inputs required\\nto ensure their applicability to the specifi c project. These should be documented in the risk management plan,\\nwhich, when formally approved, is the principal deliverable of the Plan Risk Management process.\\n©2009 Project Management Institute. Practice Standard for Project Risk Management\\n22',\n",
       " 35: '4\\nCHAPTER 4 − PLAN RISK MANAGEMENT\\n4.3.2 Templates\\nIn order to benefi t from experience and existing best practice, risk management planning should take into\\naccount relevant existing templates for work products, such as risk status reports, risk breakdown structures\\nor the risk register. A decision should be made as to which templates are relevant to the project, and these\\nshould then be adapted and included in the risk management plan.\\n4.4 Documenting the Results of the Plan Risk Management Process\\nT he results of risk management planning are documented in the risk management plan. The plan serves\\nto provide all project stakeholders with a common view of how the risk-related activities of the project will be\\nhandled, what has been agreed upon, and a description of the stakeholders’ involvement and responsibilities\\nin these activities. An overview of the key areas of focus is given in Figure 4-1.\\nFigure 4-1. Key Areas of Focus for the Plan Risk Management Process\\nDepending upon the size and complexity of the project, some or all of the following elements will be present\\nin a risk management plan.\\n• Introduction;\\n• Project description;\\n• Risk management methodology;\\n• Risk management organization;\\n• Roles, responsibilities, and authority;\\n• Stakeholder risk tolerance;\\n• Criteria for success;\\n• Risk management tools and guidelines for use;\\n• Thresholds and corresponding defi nitions;\\n• Templates;\\n• Communications plan;\\n• Strategy; and\\n• Risk breakdown structure.\\n©2009 Project Management Institute. Practice Standard for Project Risk Management\\n23',\n",
       " 36: '',\n",
       " 37: '5\\nCHAPTER 5\\nIDENTIFY RISKS\\n5.1 Purpose and Objectives of the Identify Risks Process\\nA risk cannot be managed unless it is fi rst identifi ed. Consequently, after risk management planning has\\nbeen completed, the fi rst process in the iterative Project Risk Management process aims to identify all the\\nknowable risks to project objectives.\\nI t is, however, impossible to identify all the risks at the outset of a project. Over time, the level of project\\nrisk exposure changes as a result of the decisions and actions taken previously in the project (internal change)\\nand of externally imposed change.\\nT he purpose of risk identifi cation is to identify risks to the maximum extent that is practicable. The fact that\\nsome risks are unknowable or emergent requires the Identify Risk process to be iterative, repeating the Identify\\nRisks process to fi nd new risks which have become knowable since the previous iteration of the process.\\nW hen a risk is fi rst identifi ed, potential responses may also be identifi ed at the same time. These should be\\nrecorded during the Identify Risks process and considered for immediate action if such action is appropriate.\\nWhere such responses are not implemented immediately, these should be considered during the Plan Risk\\nResponses process.\\n5.2 Critical Success Factors for the Identify Risks Process\\nThe practices described in Sections 5.2.1 through 5.2.10 will maximize the value and effectiveness of the\\nIdentify Risks process and enhance the likelihood of identifying as many risks as practicable.\\n5.2.1 Early Identifi cation\\nR isk identifi cation should be performed as early as possible in the project lifecycle, recognizing the paradox\\nthat uncertainty is high in the initial stages of a project so there is often less information on which to base the\\nrisk identifi cation. Early risk identifi cation enables key project decisions to take maximum account of risks\\ninherent in the project, and may result in changes to the project strategy. It also maximizes the time available\\nfor development and implementation of risk responses, which enhances effi ciency since responses taken early\\nare often normally less costly than later ones.\\n©2009 Project Management Institute. Practice Standard for Project Risk Management\\n25',\n",
       " 38: '5\\nCHAPTER 5 − IDENTIFY RISKS\\n5.2.2 Iterative Identifi cation\\nSince not all risks can be identifi ed at any given point in the project, it is essential that risk identifi cation is\\nrepeated throughout the project life cycle. This should be done periodically, at a frequency determined during\\nthe Plan Risk Management process. Risk identifi cation might also be repeated at key milestones in the project,\\nor whenever there is signifi cant change to the project or its operating environment.\\n5.2.3 Emergent Identifi cation\\nIn addition to invoking the Identify Risks process as defi ned in the project plan, the Project Risk Management\\nprocess should permit risks to be identifi ed at any time, not limited to formal risk identifi cation events or\\nregular reviews.\\n5.2.4 Comprehensive Identifi cation\\nA broad range of sources of risk should be considered to ensure that as many uncertainties as possible that\\nmight affect objectives have been identifi ed.\\n5.2.5 Explicit Identifi cation of Opportunities\\nThe Identify Risks process should ensure opportunities are properly considered.\\n5.2.6 Multiple Perspectives\\nT he Identify Risks process should take input from a broad range of project stakeholders to ensure that\\nall perspectives are represented and considered. Limiting risk identifi cation to the immediate project team is\\nunlikely to expose all knowable risks.\\n5.2.7 Risks Linked to Project Objectives\\nE ach identifi ed project risk should relate to at least one project objective (time, cost, quality, scope, etc.),\\nnoting that the PMBOK ® G uide defi nes risk as an uncertain event or condition that, if it occurs, has a positive\\nor a negative effect on a project’s objectives. Consideration of each project objective during the Identify Risks\\nprocess will assist in identifying risks, noting that some risks may affect more than one objective.\\n5.2.8 Complete Risk Statement\\nI dentifi ed risks should be clearly and unambiguously described, so that they can be understood by those\\nresponsible for risk assessment and risk response planning. Single words or phrases such as “resources”\\nor “logistics” are inadequate and do not properly communicate the nature of the risk. More detailed risk\\ndescriptions are required which explicitly state the uncertainty and its causes and effects.\\n©2009 Project Management Institute. Practice Standard for Project Risk Management\\n26',\n",
       " 39: '5\\nCHAPTER 5 − IDENTIFY RISKS\\n5.2.9 Ownership and Level of Detail\\nR isks can be identifi ed at a number of levels of detail. A generalized or high-level description of risk can\\nmake it diffi cult to develop responses and assign ownership, while describing risks in a lot of detail can create\\na great deal of work. Each risk should be described at a level of detail at which it can be assigned to a single\\nrisk owner with clear responsibility and accountability for its management. Trigger conditions should also be\\nidentifi ed where this is possible and appropriate.\\n5.2.10 Objectivity\\nAll human activities are susceptible to bias, especially when dealing with uncertainty. Both motivational\\nbiases, where someone is trying to bias the result in one direction or another, or cognitive biases, where\\nbiases occur as people are using their best judgment and applying heuristics, may occur. This should be\\nexplicitly recognized and addressed during the Identify Risks process. Sources of bias should be exposed\\nwherever possible, and their effect on the risk process should be managed proactively. The aim is to minimize\\nsubjectivity, and allow open and honest identifi cation of as many risks as possible to the project.\\n5.3 Tools and Techniques for the Identify Risks Process\\nA range of tools and techniques is available for risk identifi cation. These fall into the following three\\ncategories, as illustrated in Figure 5-1:\\nFigure 5-1. Three Perspectives of Risk Identification\\n©2009 Project Management Institute. Practice Standard for Project Risk Management\\n27',\n",
       " 40: '5\\nCHAPTER 5 − IDENTIFY RISKS\\n5.3.1 Historical Review\\nHistorical reviews are based on what occurred in the past, either on this project, or other similar projects\\nin the same organization, or comparable projects in other organizations. Historical review approaches rely on\\ncareful selection of comparable situations which are genuinely similar to the current project, and fi ltering of\\ndata to ensure that only relevant previous risks are considered. In each case, the risks identifi ed in the selected\\nhistorical situation should be considered, asking whether they or similar risks might arise in this project.\\n5.3.2 Current Assessments\\nC urrent assessments rely on detailed consideration of the current project, analyzing its characteristics\\nagainst given frameworks and models in order to expose areas of uncertainty. Unlike historical review\\napproaches, current assessment techniques do not rely on outside reference points, but are based purely on\\nexamination of the project.\\n5.3.3 Creativity Techniques\\nA wide range of creativity techniques can be used for risk identifi cation, which encourages project\\nstakeholders to use their imagination to fi nd risks which might affect the project. The outcomes or effectiveness\\nof these techniques depend on the ability of participants to think creatively. These techniques can be used\\neither singly or in groups, and employ varying degrees of structure. These techniques depend on the ability of\\nparticipants to think creatively, and their success is enhanced by use of a skilled facilitator.\\nE ach category of risk identifi cation technique has strengths and weaknesses, and no single technique\\ncan be expected to reveal all knowable risks. Consequently, the Identify Risks process for a particular project\\nshould use a combination of techniques, perhaps selecting one from each category. For example, a project may\\nchoose to use a risk identifi cation checklist (historical review), together with assumptions analysis (current\\nassessment) and brainstorming (creativity).\\nUse of a risk breakdown structure which organizes the categories of potential risks on the project, a prompt\\nlist, or a set of generic list categories may assist in ensuring that as many sources of risk as practicable have\\nbeen addressed, while recognizing that no such tools are complete nor can they replace original thinking.\\n©2009 Project Management Institute. Practice Standard for Project Risk Management\\n28',\n",
       " 41: '5\\nCHAPTER 5 − IDENTIFY RISKS\\nWhichever risk identifi cation techniques are used, it is important that identifi ed risks are unambiguously\\ndescribed in order to ensure that the project risk process is focused on the actual risks and not distracted or\\ndiluted by non-risks. Use of structured risk descriptions can ensure clarity. Risk meta-language offers a useful\\nway of distinguishing a risk from its cause(s) and effect(s), describing each risk using three-part statements in\\nthe form: “As a result of cause, risk may occur, which would lead to effect.” The relationship between cause,\\nrisk, and effect is shown in Figure 5-2.\\nFigure 5-2. Cause, Risk, and Effect\\n5.4 Documenting the Results of the Identify Risks Process\\nT he results from the Identify Risks process should be recorded in order to capture all relevant information\\ncurrently available for each identifi ed risk. The main output from the Identify Risks process is the risk register.\\nThis includes a properly structured risk description and the nominated risk owner for each risk, and may also\\ninclude information on the causes and effects of the risk, trigger conditions, and preliminary responses.\\n©2009 Project Management Institute. Practice Standard for Project Risk Management\\n29',\n",
       " 42: '',\n",
       " 43: '6\\nCHAPTER 6\\nPERFORM QUALITATIVE RISK ANALYSIS\\n6.1 Purpose and Objectives of the Perform Qualitative Risk\\nAnalysis Process\\nT he Perform Qualitative Risk Analysis process assesses and evaluates characteristics of individually\\nidentifi ed project risks and prioritizes risks based on agreed-upon characteristics.\\nAssessing individual risks using qualitative risk analysis evaluates the probability that each risk will occur\\nand the effect of each individual risk on the project objectives. As such it does not directly address the overall\\nrisk to project objectives that results from the combined effect of all risks and their potential interactions with\\neach other. This can however be achieved through use of quantitative risk analysis techniques (see Chapter 7).\\nOne step in the analysis is to categorize risks according to their sources or causes. If several risks arise\\nfrom a common source, sometimes called a root cause, risk responses may be more effective when they focus\\non addressing this root cause.\\nI dentifying common effects from groups of risks allows identifi cation of the areas of greatest risk exposure\\n(e.g. to the project completion date, the budget, or a particular deliverable’s scope), facilitating risk response\\nfocus in these areas.\\nThe methods of qualitative risk analysis are applied to the list of risks created or updated by the Identify\\nRisks process to provide project management with the characteristics of the risks that have the most infl uence\\n(positive or negative) on achieving the project’s objectives. Risks that are assessed as high priority to either\\nthreaten or to enhance the achievement of project objectives will be an important focus in the Plan Risk\\nResponses process. They may be further analyzed, such as in the analysis of the overall project risk that is\\ndiscussed in Perform Quantitative Risk Analysis process.\\n6.2 Critical Success Factors for the Perform Qualitative Risk\\nAnalysis Process\\nSeveral factors that lead to successful qualitative risk analysis are described in Sections 6.2.1 through\\n6.2.4, and summarized in Figure 6-1. Agreement of the project stakeholders is a fundamental criterion and\\na common theme. The agreed-upon approach is the foundation of process credibility. Then, agreed-upon\\ndefi nitions enable high-quality information to be collected. Finally, with these conditions in place, the process\\ncan be executed reliably, which contributes to the credibility of its outputs.\\n©2009 Project Management Institute. Practice Standard for Project Risk Management\\n31',\n",
       " 44: '6\\nCHAPTER 6 − PERFORM QUALITATIVE RISK ANALYSIS\\nFigure 6 -1. Building Risk Analysis Credibility\\n6.2.1 Use Agreed-Upon Approach\\nT he process is based on an agreed-upon approach to this assessment that is applied across all of the\\nidentifi ed risks in any project. By the nature of project risk, all risks may be assessed according to probability\\nof occurrence and impact on individual objectives should the risk occur. Other factors may be considered in\\ndetermining the importance of a risk as follows:\\n• Urgency (proximity). Risks requiring near term responses may be considered more urgent to\\naddress. Indicators of urgency can include the lead time necessary to execute a risk response and the\\nclarity of symptoms and warning signs (also known as detectability) that may trigger the response.\\n• Manageability. Some risks are not manageable and it would be a waste of resources to attempt to\\naddress them. The project team may examine these and decide to:\\n○ Go forward, perhaps establishing a contingency reserve.\\n○ Stop or re-scope the project because these risks pose an unmanageable threat or an\\nopportunity that should not be missed with high probability and consequences.\\n○ Inform the customer of the risks and ask for a decision from their point of view.\\n• I mpact external to the project. A risk may increase in importance if it affects the enterprise beyond\\nthe project.\\n6.2.2 Use Agreed-Upon Defi nitions of Risk Terms\\nT he risk assessment should be based on agreed-upon defi nitions of important terms, and those defi nitions\\nshould be used consistently when assessing each risk. The use of defi nitions, for example, of levels of probability\\nand of impact on objectives, assists the providers of the information in giving realistic assessments for each\\nrisk, and facilitates the communication of the results to management and other stakeholders.\\n©2009 Project Management Institute. Practice Standard for Project Risk Management\\n32',\n",
       " 45: '6\\nCHAPTER 6 − PERFORM QUALITATIVE RISK ANALYSIS\\n6.2.3 Collect High-Quality Information about Risks\\nC ollection of high-quality information about risks is required. Often this information is not available in any\\nhistoric database and should be gathered by interviews, workshops, and other means using expert judgment. Data\\ngathered from individuals may be subject to reporting or intentional bias. When this occurs, the bias should be\\nidentifi ed and remedied where possible, or a different, unbiased source of information should be found and used.\\n6.2.4 Perform Iterative Qualitative Risk Analysis\\nT he success of qualitative risk analysis is enhanced if the process is used periodically throughout the project. It\\nis impossible to know in advance all the risks that may occur in a project, therefore the Identify Risks and Perform\\nQualitative Analysis processes should be repeated periodically for individual risks. The frequency of this effort will\\nbe planned in the Plan Risk Management process, but may also depend on events within the project itself.\\n6.3 Tools and Techniques for the Perform Qualitative Risk Analysis Process\\nT he tools and techniques used for assessing individual risks will identify the risks that are important to the\\nproject’s success. This process is illustrated in Figure 6-2.\\nFigure 6-2. The Perform Qualitative Risk Analysis Process\\n©2009 Project Management Institute. Practice Standard for Project Risk Management\\n33',\n",
       " 46: '6\\nCHAPTER 6 − PERFORM QUALITATIVE RISK ANALYSIS\\n6.3.1 Select Risk Characteristics that Defi ne Risks’ Importance\\nQ ualitative risk analysis tools provide ways to distinguish those risks that are important for response or\\nfurther analysis from those that are less important. The criteria that make a risk of interest to management are\\nagreed upon in advance and implemented in the tools used. Output from qualitative risk analysis tools includes\\na listing of risks in priority order or in priority groups (e.g., high, moderate, and low).\\nT he tools for qualitative risk analysis allow the organization or project stakeholders to specify those levels\\nor combinations of risk characteristics that make a particular risk of interest to management. Most tools assess\\na risk’s importance from a combination of probability of occurrence and degree of impact on objectives.\\n6.3.2 Collect and Analyze Data\\nA ssessment of individual risks is based on information collected about them. Therefore, data collection\\nand evaluation tools, including interviews, workshops, and references to databases of prior projects, require\\nmanagement support and attention. It is important to protect against bias in data gathering, which is important\\nwhen relying on expert judgment for the information.\\n6.3.3 Prioritize Risks by Probability and Impact on Specifi c Objectives\\nS ome tools permit distinguishing a risk’s priority in terms of the affected objective. This capability provides\\na list of risks that are important for any specifi c objective of interest to management. This is useful since it is\\ncommon for risks to have uneven impacts on various project objectives.\\n6.3.4 Prioritize Risks by Probability and Impact on Overall Project\\nThere are reasons for constructing a measure of a specifi c risk’s importance to the entire project as\\ncontrasted with its importance to specifi c objectives. A common reason is for ease of communication with\\nmanagement and other stakeholders. When a single risk prioritization index is needed, the organization should\\nbe explicit about how that index is created. Usually the index refl ects the organization’s preference among\\nobjectives. The technique for creating the overall risk priority measure should be documented in the Plan Risk\\nManagement process.\\n©2009 Project Management Institute. Practice Standard for Project Risk Management\\n34',\n",
       " 47: '6\\nCHAPTER 6 − PERFORM QUALITATIVE RISK ANALYSIS\\n6.3.5 Categorize Risk Causes\\nCategorizing risks appropriately may lead to improved analysis of the probability and magnitude of\\nproject risk and to effective responses. Understanding the relationships between risks may provide a better\\nunderstanding of the possibility and magnitude of project risk than if risks are only considered as separate\\nand independent events. Identifying common root causes of a group of risks, for instance, may reveal both the\\nmagnitude of the risk event for the group as a whole along with effective strategies that might address several\\nrisks simultaneously. Alternatively, some risks may be linked with others in a causal chain, and understanding\\nthe chain of risks may lead to a better understanding of the implication of risk for the project. Identifying risks\\nthat can occur at the same time or using the same resources for recovery might provide a realistic picture of\\nproblems of risk mitigation using scarce resources.\\nCombining the results of the Perform Qualitative Risk Analysis process with the risk breakdown structure\\n(see Identify Risks, Chapter 5) can show clusters of priority risks arising from specifi c sources. A combination\\nof the risk analysis information with the work breakdown structure (WBS) can show which areas of the project\\nexhibit the most risk. Assessing the high-priority risks’ impact on one objective, such as the schedule, may\\nindicate which activities to address to reduce that objective’s uncertainty. All of these approaches can contribute\\nto the realism and usefulness of the qualitative risk analysis.\\n6.3.6 Document the Results of the Perform Qualitative Risk Analysis Process\\nT he Perform Qualitative Risk Analysis process adds structure to the list of undifferentiated risks (see Identify\\nRisks, Chapter 5) into categories of priority. Priorities are usually based on the risk’s probability of occurring\\nand its potential impact on specifi c project objectives or on the whole project. Each identifi ed risk is assigned\\na priority, perhaps by objective or for the entire project. This information is usually stored in the risk register\\nwhich is easy to use and update with new information. The risk register list of prioritized risks is posted to the\\nproject participants who are responsible for further analysis or action to improve the project plan. Risks that\\nare judged to have high priority are segregated for further analysis and response planning and are generally\\nmonitored frequently. Risks of low priority to the project may be placed on a watch list and are reviewed less\\noften for changes in their status.\\n©2009 Project Management Institute. Practice Standard for Project Risk Management\\n35',\n",
       " 48: '',\n",
       " 49: '7\\nCHAPTER 7\\nPERFORM QUANTITATIVE RISK ANALYSIS\\n7.1 Purpose and Objectives of the Perform Quantitative Risk\\nAnalysis Process\\nThe Perform Quantitative Risk Analysis process provides a numerical estimate of the overall effect of risk on\\nthe objectives of the project, based on current plans and information, when considering risks simultaneously.\\nResults from this type of analysis can be used to evaluate the likelihood of success in achieving project\\nobjectives and to estimate contingency reserves, usually for time and cost that are appropriate to both the risks\\nand the risk tolerance of project stakeholders.\\nI t is generally accepted that analyzing uncertainty in the project using quantitative techniques such as\\nMonte Carlo simulation may provide more realism in the estimate of the overall project cost or schedule\\nthan a non-probabilistic approach which assumes that the activity durations or line-item cost estimates are\\ndeterministic. However it should be recognized that quantitative risk analysis is not always required or appropriate\\nfor all projects. For example, qualitative risk analysis may provide enough information for development of\\neffective risk responses, especially for smaller projects. Therefore, during the Plan Risk Management process,\\nthe benefi ts of quantitative risk analysis should be weighed against the effort required to ensure that the\\nadditional insights and value justify the additional effort.\\nP artial risk analyses, such as qualitative risk analysis, aim at prioritizing individual risks viewed one at a time\\nand therefore cannot produce measures of overall project risk when all risks are considered simultaneously.\\nCalculating estimates of overall project risk is the focus of the Perform Quantitative Risk Analysis process.\\nS pecifi c project risks are usually best understood and quantifi ed at a detailed level such as the line-item\\ncost or schedule activity level. By contrast, project objectives such as achievement of the project’s budget or\\nthe schedule are specifi ed at a higher level, often at the level of the total project. An overall risk analysis, such\\nas one that uses quantitative techniques, estimates the implication of all quantifi ed risks on project objectives.\\nThe implementation of overall risk analysis using quantitative methods requires:\\n• Complete and accurate representation of the project objectives built up from individual project\\nelements. Examples of these representations include the project schedule or cost estimate.\\n• Identifying risks on individual project elements such as schedule activities or line-item costs at a\\nlevel of detail that lends itself to specifi c assessment of individual risks.\\n• Including generic risks that have a broader effect than individual project elements.\\n• Applying a quantitative method (such as Monte Carlo simulation or decision tree analysis) that incorporates\\nmultiple risks simultaneously in determining overall impact on the overall project objective.\\n©2009 Project Management Institute. Practice Standard for Project Risk Management\\n37',\n",
       " 50: '7\\nCHAPTER 7 − PERFORM QUANTITATIVE RISK ANALYSIS\\nR esults of the quantitative analysis will be compared to the project plan (baseline or current) to give\\nmanagement an estimate of the overall project risk and will answer important questions such as:\\n• What is the probability of meeting the project’s objectives?\\n• How much contingency reserve (e.g., reserves or buffers of time, resources, and cost) is needed to\\nprovide the organization with the level of certainty it requires based upon its risk tolerance?\\n• W hat are those parts of the project, such as line-item costs or schedule activities, which contribute\\nthe most risk when all risks are considered simultaneously?\\n• Which individual risks contribute the most to overall project risk?\\nEstimating overall project risk using quantitative methods helps distinguish those projects where quantifi ed\\nrisks threaten objectives beyond the tolerance of the stakeholders, from those for which the objectives are\\nwithin acceptable tolerances even when risk is considered. The former may be targeted for vigorous risk\\nresponses aimed at protecting those objectives most important to the stakeholders.\\nA high-level comparison of quantitative and qualitative risk analysis processes is presented in Figure 7-1.\\nFigure 7-1. Comparison of Qualitative and Quantitative Approaches\\n7.2 Critical Success Factors for the Perform Quantitative Risk\\nAnalysis Process\\nSuccess in achieving the objectives of quantitative risk analysis depends explicitly on at least the factors\\ndescribed in Sections 7.2.1 through 7.2.6.\\n©2009 Project Management Institute. Practice Standard for Project Risk Management\\n38',\n",
       " 51: '7\\nCHAPTER 7 − PERFORM QUANTITATIVE RISK ANALYSIS\\n7.2.1 Prior Risk Identifi cation and Qualitative Risk Analysis\\nT he Perform Quantitative Risk Analysis process occurs after the Identify Risks and Perform Qualitative\\nRisk Analysis processes have been completed. Reference to a prioritized list of identified risks ensures\\nthat the Perform Quantitative Risk Analysis process will consider all significant risks when analyzing their\\neffects quantitatively.\\n7.2.2 Appropriate Project Model\\nA n appropriate model of the project should be used as the basis for quantitative risk analysis. Project\\nmodels most frequently used in quantitative risk analysis include the project schedule (for time), line-item\\ncost estimates (for cost), decision tree (for decisions in the face of uncertainty) and other total-project models.\\nQuantitative risk analysis is especially sensitive to the completeness and correctness of the model of the\\nproject that is used.\\n7.2.3 Commitment to Collecting High-Quality Risk Data\\nO ften high-quality data about risks are not available in any historic database and should be gathered\\nby interviews, workshops, and other means using expert judgment of those present. Collection of risk data\\nrequires resources and time as well as management support.\\n7.2.4 Unbiased Data\\nS uccess in gathering risk analysis data requires the ability to recognize when biases occur and combating\\nthat bias or developing other unbiased sources of the data. Bias in risk data can occur for many reasons, but\\ntwo common sources of bias are cognitive bias and motivational bias.\\n7.2.5 Overall Project Risk Derived from Individual Risks\\nThe Perform Quantitative Risk Analysis process is based upon a methodology that correctly derives the\\noverall project risk from the individual risks. In risk analysis of cost and schedule, for example, an appropriate\\nmethod is Monte Carlo simulation. A decision tree is an appropriate method for making decisions when future\\nevents are not certain, using the probability and impact of all risks, and combining their effect to derive an\\noverall project measure such as value or cost. In each of these methods, the risks are specifi ed at the level\\nof the detailed tasks or line-item costs and incorporated into the model of the project to calculate effects on\\nobjectives such as schedule or cost for the entire project, by combining those risks.\\n©2009 Project Management Institute. Practice Standard for Project Risk Management\\n39',\n",
       " 52: '7\\nCHAPTER 7 − PERFORM QUANTITATIVE RISK ANALYSIS\\n7.2.6 Interrelationships Between Risks in Quantitative Risk Analysis\\nAttention should be given to the possibility that the individual risks in the project model are related to\\neach other. For example, several risks may have a common root cause and therefore are likely to occur\\ntogether. This possibility is sometimes addressed by correlating the risks that are related, ensuring that\\nthey generally occur together during the analysis. Another common way to represent the risks which occur\\ntogether is by using the risk register listing of the risk or root cause and attaching it to several project\\nelements such as schedule activities or cost elements. When a particular risk occurs, the affected elements\\nwill all experience the effect of that risk together.\\n7.3 Tools and Techniques for the Perform Quantitative Risk\\nAnalysis Process\\nT ools and techniques used appropriately for quantitative risk analysis have several characteristics, as\\nfollows:\\n7.3.1 Comprehensive Risk Representation\\nRisk models permit representation of many, if not all, of the risks that have impact on an objective\\nsimultaneously. They also permit the representation of both opportunities and threats to the project’s\\nobjectives.\\n7.3.2 Risk Impact Calculation\\nQ uantitative models facilitate the correct calculation of the effect of many risks, which are typically identifi ed\\nand quantifi ed at a level of detail below the total project, on the project objectives, which are typically described\\nat the level of the total project.\\n7.3.3 Quantitative Method Appropriate to Analyzing Uncertainty\\nProbability models use a quantitative method that addresses uncertainty. Specifi cally, the methods should\\nbe able to handle the way uncertainty is represented, predominantly as probability of an event’s occurring or as\\nprobability distributions for a range of outcomes. A good example of this is the use of Monte Carlo simulation\\ntools that permit the combination of probability distributions of line-item costs or schedule activity durations,\\nmany of which are uncertain.\\n7.3.4 Data Gathering Tools\\nD ata gathering tools used in this process include assessment of historical data and workshops, interviews, or\\nquestionnaires to gather quantifi ed information—for example, on the probability of a risk occurring, a probability\\ndistribution of its potential impacts on cost or time, or relationships such as correlation between risks.\\n©2009 Project Management Institute. Practice Standard for Project Risk Management\\n40',\n",
       " 53: '7\\nCHAPTER 7 − PERFORM QUANTITATIVE RISK ANALYSIS\\n7.3.5 Effective Presentation of Quantitative Analysis Results\\nR esults from the quantitative tools are generally not available in standard deterministic project management\\nmethods such as project scheduling or cost estimating. Examples of these are the probability distribution of\\nproject completion dates or total costs and the expected value of a project decision. These results, when all\\nrisks are considered simultaneously, include the following:\\n• Probability of achieving a project objective such as fi nishing on time or within budget.\\n• A mount of contingency reserve in cost, time, or resources needed to provide a required level of\\nconfi dence.\\n• I dentity or location within the project model of the most important risks. An example of this is a\\nsensitivity analysis in a cost risk analysis or a criticality analysis in a schedule risk analysis.\\nThe elements of a quantitative risk analysis are illustrated in Figure 7-2.\\nFigure 7-2. Structure of a Quantitative Risk Analysis\\n©2009 Project Management Institute. Practice Standard for Project Risk Management\\n41',\n",
       " 54: '7\\nCHAPTER 7 − PERFORM QUANTITATIVE RISK ANALYSIS\\n7.3.6 Iterative Quantitative Risk Analysis\\nThe success of the Perform Quantitative Risk Analysis process is enhanced if the process is used periodically\\nthroughout the project. It is impossible to know in advance all of the risks that may occur in a project. Often\\nquantitative risk analysis should be repeated as the project proceeds. The frequency of this effort will be\\ndetermined during the Plan Risk Management process but will also depend on events within the project itself\\n(see Monitor and Control Risks, Chapter 9).\\n7.3.7 Information for Response Planning\\nO verall project contingency reserve in time and cost should be refl ected in the project’s schedule and\\nbudget. Quantitative risk analysis provides information that may be used to modify the project plan. If\\nthe overall risk to time and cost indicates that an adjustment in scope is needed, the scope changes are\\nagreed upon and documented and a new quantitative risk analysis is carried out to refl ect the new aspects\\nof the project.\\n7.4 Documenting the Results of the Perform Quantitative Risk\\nAnalysis Process\\nThe contingency reserves calculated in quantitative project cost and schedule risk analysis are incorporated,\\nrespectively, into the cost estimate and the schedule to establish a prudent target and a realistic expectation\\nfor the project. Contingency reserves may also be established to provide for the capture of opportunities that\\nare judged to be priorities for the project. If the contingency reserve required exceeds the time or resources\\navailable, changes in the project scope and plan may result.\\nA lso, the results of the analysis may provide more or less urgency to risk response (see Plan Risk Responses,\\nChapter 8) depending on the probability of achieving the plan’s objectives or the amount of contingency reserve\\nrequired to provide the necessary level of confi dence. The results of a quantitative risk analysis are recorded\\nand passed on to the person and/or group responsible for project management within the organization for any\\nfurther actions required to make full use of these results.\\n©2009 Project Management Institute. Practice Standard for Project Risk Management\\n42',\n",
       " 55: '8\\nCHAPTER 8\\nPLAN RISK RESPONSES\\nT he Plan Risk Responses process determines effective response actions that are appropriate to the priority\\nof the individual risks and to the overall project risk. It takes into account the stakeholders’ risk attitudes and\\nthe conventions specifi ed in the Risk Management Plan, in addition to any constraints and assumptions that\\nwere determined when the risks were identifi ed and analyzed.\\n8.1 Purpose and Objectives of the Plan Risk Responses Process\\nT he objective of the Plan Risk Responses process is to determine the set of actions which most enhance the\\nchances of project success while complying with applicable organizational and project constraints.\\nOnce risks have been identifi ed, analyzed, and prioritized, plans should be developed for addressing every\\nrisk the project team considers to be suffi ciently important, either because of the threat it poses to the project\\nobjectives or the opportunity it offers. The planning entails agreeing upon the actions to be taken and the\\npotential changes to budget, schedule, resources, and scope which these actions might cause.\\nContingent risk response actions need to be executed at the optimum time. For this reason, the response\\nspecifi cation for each such risk should include a description of any corresponding trigger conditions.\\nT he responsibility for monitoring the project conditions and implementing the corresponding actions should\\nbe clearly assigned. Every risk should have been allocated to a risk owner as part of the Identify Risks process,\\nand each of the corresponding risk responses should now be assigned to a specifi c risk action owner. The risk\\nowner is responsible for ensuring that the risk response is effective and for planning additional risk responses\\nif required, whereas the risk action owner is responsible for ensuring that the agreed-upon risk responses are\\ncarried out as planned, in a timely manner. The role of the risk owner and that of the risk action owner may be\\nassigned to a single person.\\nR esponses, when implemented, can have potential effects on the project objectives and, as such, can\\ngenerate additional risks. These are known as secondary risks and have to be analyzed and planned for in the\\nsame way as those risks which were initially identifi ed.\\nI t is never feasible or even desirable to eliminate all threats from a project. Similarly, there is also a limit\\nto the extent to which opportunities can be proactively managed. There may be residual risks that will remain\\nafter the responses have been implemented. These residual risks should be clearly identifi ed, analyzed,\\ndocumented, and communicated to all relevant stakeholders.\\n©2009 Project Management Institute. Practice Standard for Project Risk Management\\n43',\n",
       " 56: '8\\nCHAPTER 8 − PLAN RISK RESPONSES\\nA ll the approved, unconditional actions arising from risk response planning should be integrated into the\\nproject management plan in order to ensure that they are carried out as part of normal project implementation. The\\ncorresponding organizational and project management rules should also be invoked, including the following:\\n(cid:129) Project change management and confi guration control;\\n(cid:129) Project planning, budgeting, and scheduling;\\n(cid:129) Resource management; and\\n(cid:129) Project communication planning.\\n8.2 Critical Success Factors for the Plan Risk Responses Process\\nA range of factors are important for the success of the Plan Risk Responses process. These are described\\nin Sections 8.2.1 through 8.2.8 and shown in Figure 8-1.\\nFigure 8-1. Critical Success Factors for Risk Response Planning\\n8 .2.1 Communicate\\nCommunication with the various stakeholders should be maintained in an open and appropriate manner. The\\nresulting plans are disseminated and approval obtained in order to ensure full acceptance by all stakeholders.\\nI n addition, if organizational causes of risks, such as culture, attitudes, or disagreements concerning\\nobjectives are present, they should be addressed openly. This may require involving high levels of the\\norganization’s management and other stakeholders.\\n©2009 Project Management Institute. Practice Standard for Project Risk Management\\n44',\n",
       " 57: '8\\nCHAPTER 8 − PLAN RISK RESPONSES\\n8.2.2 Clearly Defi ne Risk-Related Roles and Responsibilities\\nThe risk response success will be dependent upon the full support and involvement of the project team and\\nother stakeholders. The key roles for Project Risk Management are those of risk owner and risk action owner.\\nA single risk owner should be assigned to every identifi ed risk, and each agreed-upon risk response should\\nhave a single risk action owner. The people with the corresponding responsibilities should be aware of what is\\nexpected of them, and the other project stakeholders should understand and accept the needs and authority\\nof these roles.\\nManagement may take ownership of risks with political, organizational causes. In addition, senior\\nmanagement should approve and track associated risk-related contingency reserves.\\n8.2.3 Specify Timing of Risk Responses\\nAgreed-upon responses should be integrated into the project management plan and will therefore be\\nscheduled and assigned for execution. The responses that depend on uncertain conditions should also be\\nmonitored so as to be performed if the conditions warrant them.\\n8.2.4 Provide Resources, Budget, and Schedule for Responses\\nE ach response should be planned in detail in accordance with the methodology of the project and integrated\\ninto the project management plan. This entails estimating the resources, costs, and duration; updating the\\nbudget and schedule; obtaining approval from management; and obtaining commitment from the risk owners\\nand risk action owners. Management’s role at this stage is vital for supporting the project manager in developing\\nrisk responses and authorizing the corresponding resources.\\n8.2.5 Address the Interaction of Risks and Responses\\nR esponses may be developed to address risks related either by cause and effect or by common root cause.\\nCategorization of risks, for example by using tools such as the risk breakdown structure, affi nity diagram, or\\nother categorizing tools, may help identify and address this situation. There is also a need during the Plan Risk\\nResponses process to consider the risks aggregated during the Perform Quantitative Risk Analysis process\\n(e.g., ten small, related risks combined may pose a big risk to the project), and then to develop generic\\nresponses where possible. Another interaction effect that may occur is when one risk, if it occurs, may affect\\nthe probability or impact of other risks.\\nDeciding on the response strategy may require a compromise, since some proposed responses may be\\nmutually exclusive or counterproductive. For example mitigating a threat to time could cost money, thereby\\nincreasing pressure on the budget. Risk response planning also needs to take a holistic view of all proposed\\nresponses and make sure they are coherent.\\n©2009 Project Management Institute. Practice Standard for Project Risk Management\\n45',\n",
       " 58: '8\\nCHAPTER 8 − PLAN RISK RESPONSES\\nThe challenge therefore in planning responses to risks is the need to control the potential effects of the\\nstrategy developed for treating the original risk. If this is overlooked, the total level of threat in a project can\\nactually increase, or the potential for opportunities can be compromised.\\n8.2.6 Ensure Appropriate, Timely, Effective, and Agreed-Upon Responses\\nI n general, responses should be appropriate, timely, cost-effective, feasible, achievable, agreed-upon,\\nassigned, and accepted. Any proposed risk response plan needs to be assessed against the following criteria:\\n(cid:129) Consistency with organizational values, project objectives, and stakeholder expectations;\\n(cid:129) Technical feasibility;\\n(cid:129) Ability of the project team or risk action owners outside the project to carry out the corresponding\\nactions; and\\n(cid:129) Balance between overall impact of the response on the project objectives and the improvement in\\nthe risk profi le of the project.\\n8.2.7 Address Both Threats and Opportunities\\nRisk response planning should combine responses that address the threats as well as those that provide\\nfor opportunities into a single, integrated plan. If either threats or opportunities are not fully addressed, the\\ncombined set of response strategies will be incomplete and may even be invalid.\\n8.2.8 Develop Strategies before Tactical Responses\\nRisk response planning should be carried out in an open-minded manner rather than adopting the fi rst\\nresponse that seems to be feasible. The responses should be planned at a general, strategic level and the\\nstrategy validated and agreed upon, prior to developing the detailed tactical approach.\\nOnce the responses have been planned at a strategic level, they should be expanded into actions at the tactical\\nlevel and integrated into the project management plan (e.g., schedule, budget, and resource assignments). This\\nactivity may generate additional secondary risks, which will need to be addressed at this time.\\n8.3 Risk Response Strategies\\nT he project manager should develop risk response strategies for individual risks, sets of risks, and project-\\nlevel risks. An overview of the steps in arriving at a complete set of responses is given in Figure 8-2.\\nT he affected stakeholders should be involved in determining the strategies. Once the strategies have been\\nselected, they need to be agreed upon by the entity that approves those strategies. There are four strategies\\nwhich address individual risks for threats and opportunities as described in Sections 8.3.1 through 8.3.4 (see\\nalso Fig. 8-2).\\n©2009 Project Management Institute. Practice Standard for Project Risk Management\\n46',\n",
       " 59: '8\\nCHAPTER 8 − PLAN RISK RESPONSES\\n8.3.1 Avoid a Threat or Exploit an Opportunity\\nT his strategy involves taking the actions required to address a threat or an opportunity in order to ensure\\neither that the threat cannot occur or can have no effect on the project, or that the opportunity will occur and\\nthe project will be able to take advantage of it.\\n8.3.2 Transfer a Threat or Share an Opportunity\\nThis strategy entails transference to a third party that is better positioned to address a particular threat or\\nopportunity.\\n8.3.3 Mitigate a Threat or Enhance an Opportunity\\nM itigation and enhancement are the most widely applicable and widely used response strategies. Here, the\\napproach is to identify actions that will decrease the probability and/or the impact of a threat, and increase the\\nprobability and/or the impact of an opportunity.\\n8.3.4 Accept a Threat or an Opportunity\\nThis strategy applies when the other strategies are not considered applicable or feasible. Acceptance entails\\ntaking no action unless the risk actually occurs, in which case contingency or fallback plans may be developed\\nahead of time, to be implemented if the risk presents itself.\\n8.3.5 Applying Risk Response Strategies to Overall Project Risk\\nIn addition to responding to individual risks, the four risk response strategies can be applied to address\\noverall project risk as follows:\\n(cid:129) Cancel the project, as a last resort, if the overall level of risk remains unacceptable.\\n(cid:129) Set up a business structure in which the customer and the supplier share the risk.\\n(cid:129) Re-plan the project or change the scope and boundaries of the project, for example, by modifying the\\nproject priority, resource allocations, delivery calendar, etc.\\n(cid:129) Pursue the project despite a risk exposure that exceeds the desired level.\\n8.4 Tools and Techniques for the Plan Risk Responses Process\\nThere are four categories of tools and techniques, as follows:\\n(cid:129) Creativity tools to identify potential responses,\\n(cid:129) Decision-support tools for determining the optimal potential response.\\n(cid:129) Strategy implementation techniques designed to turn a strategy into action, and\\n(cid:129) Tools to transfer control to the Monitor and Control Risks process.\\n©2009 Project Management Institute. Practice Standard for Project Risk Management\\n47',\n",
       " 60: '8\\nCHAPTER 8 − PLAN RISK RESPONSES\\nT hese categories of tools can be used respectively to identify potential responses, select the most\\nappropriate response, translate strategy into planning, and assign the corresponding actions. The steps\\ninvolved in planning risk responses are shown in Figure 8.2.\\n8.4.1 Response Identifi cation\\nRisk response planning builds on the available information about the potential risks and aims to determine\\nthe optimal set of responses. For this reason, it should involve subject matter experts and employ creativity\\ntechniques in order to explore all of the options. Project planning and execution techniques are then required\\nto evaluate the potential effects of the various options on the project’s objectives.\\n8.4.2 Response Selection\\nOnce the set of potential responses for the risks being addressed is established, decision-support techniques\\nmay need to be applied to select the best possible subset from these responses. The selection process should\\ntake into account the cost of the responses, the impact on the project objectives, uncertainty of outcomes and\\nthe possible secondary and residual risks. The Identify Risks, Perform Quantitative Risk Analysis, and Plan Risk\\nResponses processes may then need to be applied to the resultant project management plan and the residual\\nand secondary risks that it would entail. This iterative approach continues until all of the individual risks are\\ndeemed acceptable and the overall risk is within a predefi ned threshold.\\n8.4.3 Action Planning\\nProject planning tools are used to turn the chosen strategies into concrete actions and to integrate these into\\nexisting plans. The corresponding actions may be unconditional (i.e., integrated into the project management\\nplan) or contingent on a trigger condition and predefi ned as a contingency response strategy.\\n8.4.4 Ownership and Responsibility Assignment\\nT he project manager needs to use resource assignment processes to ensure the availability of an owner for\\neach risk and for each response action, so that each associated risk is managed and each corresponding risk\\nresponse is carried out in a timely and effective manner.\\nTo enable risk monitoring to identify the imminence or actual occurrence of the corresponding event, every\\ncontingency response strategy should include a set of trigger conditions. The responsibility for monitoring\\nthese conditions should be clearly assigned in the Plan Risk Responses process and managed in the Monitor\\nand Control Risks process.\\n©2009 Project Management Institute. Practice Standard for Project Risk Management\\n48',\n",
       " 61: '8\\nCHAPTER 8 − PLAN RISK RESPONSES\\nThe strategic defi nition of risk responses should include measurable criteria for success of the response.\\nRisk action owners should monitor their assigned risks, take agreed-upon actions as required, and provide\\nthe risk owners with relevant information on status or changes to the risk characteristics. Risk owners should\\nassess the effectiveness of any actions, decide whether additional actions are required, and keep the project\\nmanager informed of the situation.\\nFigure 8-2. The Steps Involved in Planning Risk Responses\\n©2009 Project Management Institute. Practice Standard for Project Risk Management\\n49',\n",
       " 62: '8\\nCHAPTER 8 − PLAN RISK RESPONSES\\n8.5 Documenting the Results of the Plan Risk Responses Process\\nR isk response planning is based on the information placed in the risk register during execution of the\\nIdentify Risks and Perform Analysis processes. The corresponding risk response information is often referred\\nto as the risk response plan, although it may in fact be an integral part of the risk register.\\n8.5.1 Add Risk Responses to the Risk Register\\nT he response-related information for each risk is recorded in the risk register and updated regularly. Any\\ninterested stakeholder should be able to rapidly access all the information required to verify their responsibilities\\nand manage the risk in accordance with the risk response plan. The set of residual risks and their priorities\\nare clearly identifi ed and recorded.\\n8.5.2 Add Corresponding Risk Responses to the Project Management Plan\\nW hile developing the detailed set of risk responses, the project-related implications are evaluated for\\ninclusion in a modifi ed project management plan. These include costs, resource assignments, scheduling\\ndetails, and changes to project documentation. Until these changes are formally approved along with the\\nadditional risks that they may carry, risk response planning cannot be considered complete.\\n8.5.3 Review and Document Predicted Exposure\\nO nce the risk responses have been defi ned and integrated into the project management plan, the individual\\nand overall residual risks related to this plan are evaluated in order to determine whether additional response\\nplanning is required, as shown in Figure 8-2. This evaluation should provide an estimate of both the expected\\npost-response situation and the potential improvement of the risk exposure assuming that the proposed\\nresponses are effective. The evaluation should be documented.\\n©2009 Project Management Institute. Practice Standard for Project Risk Management\\n50',\n",
       " 63: '9\\nCHAPTER 9\\nMONITOR AND CONTROL RISKS\\nThe effectiveness of Project Risk Management depends upon the way the approved plans are carried out.\\nThese plans should be executed correctly, reviewed, and updated regularly. If this is carried out correctly, the\\ninvested effort will be rewarded and future projects will benefi t from this project’s experience.\\n9.1 Purpose and Objectives of the Monitor and Control Risks Process\\nT he primary objectives of risk monitoring and controlling are to track identifi ed risks, monitor residual risks,\\nidentify new risks, ensure that risk response plans are executed at the appropriate time, and evaluate their\\neffectiveness throughout the project life cycle.\\nI n addition to tracking and managing the risk response actions, the effectiveness of all of the Project\\nRisk Management processes should be reviewed to provide improvements to the management of the current\\nproject as well as future ones.\\nF or each risk or set of risks for which a contingent response has been defi ned, the corresponding set of\\ntrigger conditions should have been specifi ed. It is the responsibility of the action owner to ensure that these\\nconditions are effectively monitored and that the corresponding actions are carried out as defi ned, in a timely\\nmanner.\\nOnce the Plan Risk Responses process is complete, all of the approved unconditional response actions\\nshould have been included and defi ned in the current project management plan. The fi rst action of risk\\nmonitoring and controlling is to check whether this is the case and take any appropriate action if necessary,\\nsuch as invoking the change management process with respect to any missing actions. This will then ensure\\nthat the agreed-upon actions are carried out within the normal project execution framework.\\nThe risk owners and risk action owners need to be briefed on any changes that may affect their\\nresponsibilities. Effective communication needs to be maintained between them and the project manager so\\nthat the designated stakeholders accept accountability for controlling the potential outcomes of specifi c risks,\\napply their best efforts to track the associated trigger conditions and carry out the agreed-upon responses in\\na timely manner.\\nI n addition to the response actions and trigger conditions, a mechanism for measuring the effectiveness\\nof the response is provided by the Plan Risk Responses process. The risk action owner should keep the risk\\nowner aware of the status of the response actions so that the risk owner can decide when the risk has been\\neffectively dealt with, or whether additional actions need to be planned and implemented.\\n©2009 Project Management Institute. Practice Standard for Project Risk Management\\n51',\n",
       " 64: '9\\nCHAPTER 9 − MONITOR AND CONTROL RISKS\\nAs the project progresses, additional information becomes available and the project environment may\\nchange as some risks occur, whether foreseen or unforeseen, and others become or cease to be relevant.\\nThe planning should therefore be kept current and the project manager should ensure that periodic risk\\nreassessment, including risk identifi cation, analysis, and response planning, is repeated at reasonable intervals,\\nor in response to project events—without generating excessive administrative overhead. Typical reasons for\\nrisk reassessment are:\\n• Occurrence of a major or unexpected risk,\\n• Need to analyze a complex change request,\\n• Phase end review,\\n• Project re-planning or major plan elaboration, and\\n• Periodic review to ensure that the information remains current.\\nI n the event of major organizational changes, risk management planning may need to be revisited prior to\\nreassessing the risks.\\nIn addition to the regular status reviews, periodic audits should be performed to determine strengths and\\nweaknesses in handling risks within the project. This should entail identifying any barriers to effectiveness or\\nkeys to success in risk management, recognition of which could lead to improvements in risk management of\\nthe current or future projects.\\nAt the end of the project, an integrated analysis of the risk management process should be carried out\\nwith a focus on long-term process improvements. This analysis consolidates the fi ndings of the periodic\\naudits to identify lessons that would be applicable in general to a large proportion of the organization’s\\nprojects in the future, such as appropriate levels of resources, adequate time for the analysis, use of tools,\\nlevel of detail, etc.\\nAt project closure, the project manager should ensure that a description has been given of the closure of\\nevery risk in the risk register, for example: (a) did not occur; (b) occurred and contingency plan invoked; or (c)\\noccurred and impact to the project scope (i.e., time, cost, and quality).\\nT he output of the audit of the risk management process should be consolidated with specifi c information\\nwith respect to the project’s experience of risks, and any generally applicable guidelines for the organization\\nshould be highlighted and potential actions proposed for applying them. This can lead to an update to the\\ncorresponding organizational process assets.\\nAn overview of the steps involved in the Monitor and Control Risks process is given in Figure 9-1.\\n©2009 Project Management Institute. Practice Standard for Project Risk Management\\n52',\n",
       " 65: '9\\nCHAPTER 9 − MONITOR AND CONTROL RISKS\\nFigure 9-1. Schematic Representation of the Monitor and Control Risks Process\\n9.2 Critical Success Factors for the Monitor and Control Risks Process\\nC ritical success factors relate to maintaining risk awareness throughout the project and include the\\ncharacteristics and capabilities detailed in Sections 9.2.1 through 9.2.3.\\n9.2.1 Integrate Risk Monitoring and Control with Project Monitoring and Control\\nFrom the start, the project management plan should include the actions required to monitor and control\\nproject risk. This should be set up early in the project planning cycle, and then adjusted in view of the risk\\nresponse planning decisions adding, for example, the actions associated with monitoring specifi c conditions\\nor metrics. Once risk response planning has been carried out, the project schedule should include all of the\\nagreed-upon, response-related actions so that they can be carried out as a normal part of project execution\\nand tracked accordingly.\\n©2009 Project Management Institute. Practice Standard for Project Risk Management\\n53',\n",
       " 66: '9\\nCHAPTER 9 − MONITOR AND CONTROL RISKS\\n9.2.2 Continuously Monitor Risk Trigger Conditions\\nR isk response planning will have defi ned a set of actions to be carried out as part of the project schedule\\nas well as actions whose execution is dependent on a predefi ned trigger condition. Checking for specifi cally\\ndefi ned risks that may trigger conditional responses is the responsibility of the risk action owner, in close\\ncollaboration with the risk owner under the overall authority of the project manager.\\n9.2.3 Maintain Risk Awareness\\nRisk management reports should be a regular item on every status meeting agenda to ensure that all team\\nmembers remain aware of the importance of risk management and to ensure that it is fully integrated into all\\nof the project management decisions.\\nThe project’s senior-level sponsor should require regular reports on the risks and the planned responses\\nto ensure that stakeholders are aware of the importance of keeping a focus on risk. Sponsor feedback also\\nmotivates the project team by demonstrating senior-level interest in Project Risk Management.\\nS takeholders’ perception of the effectiveness of risk management is conditioned in part by the way in\\nwhich risks are handled as they occur, and by the number or characteristics of such events. It is therefore\\ncrucial, whenever a risk occurs, that information about the event, as well as the progress and effectiveness of\\nthe responses, be communicated at regular intervals and in an honest manner adapted to the needs of each\\nstakeholder. This should be supported by a well-executed communications plan.\\n9.3 Tools and Techniques for the Monitor and Control Risks Process\\nIn addition to standard project management monitoring and control capabilities, risk monitoring and\\ncontrolling requires a focus on the tools which will support its key success factors for tracking overall risk as\\nwell as individual risks.\\n9.3.1 Managing Contingency Reserves\\nReserves may have been allocated separately to cover time-related and cost-related risks. Techniques\\nare required that allow the project manager to assess at any point in the project whether these provide the\\nrequired level of confi dence in the success of the project.\\nTools for managing time buffers should be closely integrated into the project’s scheduling techniques,\\nwhereas those for managing cost should be compatible with the fi nancial practices. Tools are required to\\nidentify trends and forecast future outcomes to determine whether the reserves will remain suffi cient. Tools\\nare also required for tracking progress and spending in a consolidated manner.\\n©2009 Project Management Institute. Practice Standard for Project Risk Management\\n54',\n",
       " 67: '9\\nCHAPTER 9 − MONITOR AND CONTROL RISKS\\n9.3.2 Tracking Trigger Conditions\\nT rigger conditions and the corresponding metrics are defi ned during the Plan Risk Responses process.\\nTools are required to evaluate and track these conditions against the project baseline or specifi ed thresholds,\\nbased on actual status. They can be chosen to provide information on risks related to the deliverables, such as\\nperformance, as well as on project-related features, such as time and cost.\\n9.3.3 Tracking Overall Risk\\nTools are required in order to determine, as the project progresses, whether the responses are having the\\nexpected effect on the project’s overall level of risk.\\n9.3.4 Tracking Compliance\\nI n order to monitor the quality of the execution of the risk-related plans and processes, a set of quality\\nmetrics such as degree of variation from the baseline, should be tracked and recorded. These metrics will\\nnormally have been defi ned in the risk management plan.\\n9.4 Documenting the Results of the Monitor and Control Risks Process\\nT he fi nal control action of risk monitoring and controlling is to record actual data for future use. This includes\\nall of the relevant information relating to risk management from start to fi nish of the project. The defi nition of\\nwhat this information must include, as well as the storage mechanism, should have been previously specifi ed\\nin the risk management plan.\\nThe goal is to ensure that the signifi cant risk management information is recorded to provide concrete data\\nto the lessons learned process for inclusion in a lessons learned document, report, or other communication\\nvehicle. Typical information includes the following:\\n• For each identifi ed risk or type of risk, whether it occurred, and, if so, when and how often. All\\nrelevant data should be recorded: impact, effectiveness of detection and of response, and any\\nunplanned, additional actions that were carried out.\\n• Effectiveness of avoidance or exploitation actions.\\n• Effectiveness of transfer and sharing actions.\\n• Unexpected or undocumented risks which occurred and data about them.\\n• Effectiveness of risk mitigation and enhancement actions.\\n• Occurrence of accepted threats or opportunities.\\nC onsolidated information should be provided on the level of effort expended. Costs and benefi ts to the\\nproject of risk management activities should also be provided.\\nT his information will need to be archived and indexed in a manner that will facilitate retrieval for easy\\nreview during the project, at closure, and for future projects, when the need arises.\\n©2009 Project Management Institute. Practice Standard for Project Risk Management\\n55',\n",
       " 68: '',\n",
       " 69: 'A\\nAPPENDIX A\\nGUIDELINES FOR A PMI PRACTICE STANDARD\\nA.1 Introduction\\nA PMI practice standard is characterized as follows:\\n(cid:129) E ach practice standard provides guidelines on the mechanics (e.g., nuts and bolts, basics,\\nfundamentals, step-by-step usage guide, how it operates, how to do it) of some signifi cant process\\n(input, tool, technique, or output) that is relevant to a project manager.\\n(cid:129) A practice standard does not necessarily mirror the life-cycle phases of many projects; however, an\\nindividual practice standard may be applicable to the completion of one or more phases within a\\nproject.\\n(cid:129) A practice standard does not necessarily mirror the Knowledge Areas within A Guide to the Project\\nManagement Body of Knowledge ( PMBOK ® Guide– Fourth Edition), although an individual practice\\nstandard will provide suffi cient detail and background for one or more of the inputs, tools and\\ntechniques, and/or outputs. Therefore, practice standards are not required to use the name of any\\nKnowledge Area.\\n(cid:129) E ach practice standard should include information on what the signifi cant process is and does,\\nwhy it is signifi cant, how to perform it, when it should be performed, and, if necessary for further\\nclarifi cation, who should perform it.\\n(cid:129) Each practice standard should include information that is accepted and applicable for most projects\\nmost of the time within the project management community. Processes that are generally restricted or\\napplicable to one industry, country, or companion profession (i.e., an application area) may be included\\nas an appendix for informational purposes, rather than as part of the practice standard. With strong\\nsupport and evidence, an application area-specifi c process may be considered as an extension practice\\nstandard, in the same manner as extensions to the PMBOK ® Guide –Fourth Edition are considered.\\n(cid:129) Each practice standard will benefi t from the inclusion of examples and templates. It is best when an\\nexample or template includes a discussion of its strengths and weaknesses. A background description\\nmay be necessary to put this discussion in the appropriate context. The examples should be aligned with\\nthe relevant information in the standard or its appendix and placed in proximity to that information.\\n(cid:129) All practice standards shall be written in the same general style and format.\\n(cid:129) E ach practice standard project will be aligned with or reference other practice standards, as needed.\\n(cid:129) Each practice standard will be consistent with the P MBOK ® Guide –Fourth Edition.\\n(cid:129) Each practice standard is intended to be more prescriptive than the PMBOK ® Guide –Fourth Edition.\\n©2009 Project Management Institute. Practice Standard for Project Risk Management\\n57',\n",
       " 70: '',\n",
       " 71: 'B\\nAPPENDIX B\\nEVOLUTION OF PMI’S PRACTICE STANDARD FOR\\nPROJECT RISK MANAGEMENT\\nB.1 Pre-Project\\nI n early 2005, PMI began exploration for developing the fi rst Practice Standard for Project Risk Management.\\nFocus would be placed on single project risk management for a single project rather than including programs\\nor portfolios of projects, with close coupling to the Project Risk Management section of A Guide to the Project\\nManagement Body of Knowledge (PMBOK® Guide) – Third Edition. By April 20, 2006, the PMI Standards\\nMembers Advisory Group (MAG) approved the following fi nal charter for the standard, with Cynthia A. Berg,\\nPMP, as the Project Manager, and Dr. David Hulett as the Deputy Project Manager. The charter included the\\nfollowing characteristics for the standard:\\n• P rovides information on Project Risk Management that includes information that is clear, complete,\\nrelevant, and generally recognized as good practice on most projects most of the time.\\n• I s consistent with the PMBOK ® Guide – Third Edition, expanding but not contradicting, the concepts\\nand techniques related to Project Risk Management, and keeps within the limits and practices of\\nProject Risk Management as described within Chapter 11 of the P MBOK ® Guide– Third Edition.\\n• Has been reviewed and updated by the Practice Standard for Project Risk Management\\nProject Team.\\n• I s written for project management practitioners and other stakeholders of the project management\\nprofession.\\n• Describes the processes that are unique to Project Risk Management.\\n• Includes in an appendix, examples and templates of specifi c Project Risk Management processes,\\ntools, and/or techniques addressed in the practice standard, with discussions of their strengths and\\nweaknesses, including background descriptions that put the relative strengths and weaknesses into\\ncontext.\\n• Uses the PMBOK ® G uide – Third Edition Glossary as the starting point of its glossary, and does not\\ncontain contradictions.\\n• Uses a glossary term in the text without defi nition or additional explanation.\\n• Is aligned with and does not contradict other PMI standards.\\n• Follows the PMI Style Guide, is written in North American English, translatable to PMI offi cial\\nlanguages, and is sensitive to cultural issues.\\n©2009 Project Management Institute. Practice Standard for Project Risk Management\\n59',\n",
       " 72: 'B\\nAPPENDIX B\\n• C an be approved as a PMI standard, which means that in addition to the content being acceptable,\\nthe process for selecting team members and soliciting and responding to comments on the product\\nmust be open and inclusive.\\nB.2 Preliminary Work\\nIn recognition that risk management is not practiced well on many projects, the project team set out to\\nidentify practices that are viewed as best practices, as those are understood, and applied in most successfully\\nmanaged projects most of the time.\\nT he project core team was initially formed in the fall of 2005 and consisted of; Dr. David Hillson PMP, Kik\\nPiney, and Kris Persun.\\nB.3 Scope Changes\\nDuring the time the project was chartered, the P MBOK ® G uide – Fourth Edition was commissioned. As a\\nresult, the charter of the Practice Standard for Project Risk Management was expanded to be consistent and\\nnon-contradictory with that standard.\\nB.4 Exposure and Consensus\\nThe standard was submitted as an exposure draft in the winter of 2007, and exposed on 23 March 2008.\\nThere were 849 comments. The team’s comment acceptance rate (comments accepted outright, and accepted\\nwith modifi cations) was 57%. The PMI Standards Manager submitted the resultant fi nal draft, with the\\nconcurrence of the PMI Standards Program MAG, to the PMI Standards Program Consensus Body for offi cial\\nballot on 27 March 2009. Twenty-eight members of the PMI Standards Program Consensus Body agreed to\\nparticipate in the ballot of the Practice Standard for Project Risk Management. Those not participating included\\nthe PM and Deputy PM for this standard because their participation was considered a confl ict of interest. The\\nballoting period was closed on 25 April 2009 with 23 ballots returned. Consensus Body voting results were\\nas follows: 22 affi rmative and 1 affi rmative with comment. The affi rmative with comment pertained to future\\nrevisions of the standard and possible improvements to the comment adjudication process.\\n©2009 Project Management Institute. Practice Standard for Project Risk Management\\n60',\n",
       " 73: 'C\\nAPPENDIX C\\nCONTRIBUTORS AND REVIEWERS OF THE PRACTICE STANDARD\\nFOR PROJECT RISK MANAGEMENT\\nThis appendix lists, alphabetically within groupings, those individuals who have contributed to the\\ndevelopment and production of the P ractice Standard for Project Risk Management . No simple list or even\\nmultiple lists can adequately convey all the contributions of those who have volunteered to develop the P ractice\\nStandard for Project Risk Management .\\nT he Project Management Institute is grateful to all of these individuals for their support and acknowledges\\ntheir contributions to the project management profession.\\nC.1 Practice Standard for Project Risk Management Project Core Team\\nT he following individuals served as members, were contributors of text or concepts, and served as leaders\\nwithin the Project Core Team (PCT):\\nCynthia Ann Berg, PhD, PMP Project Manager\\nDavid T. Hulett, PhD, Deputy Project Manager\\nDr. David Hillson FRSA, FIRM\\nKristine Persun, MA, PMP\\nCrispin “Kik” Piney, BSc, PMP\\nKristin L. Vitello, Standards Project Specialist\\nNan Wolfslayer, AStd, Standards Compliance Specialist\\nC.2 Signifi cant Contributors\\nI n addition to the members of the Project Core Team and the Sub-Team Leaders, the following individuals\\nprovided signifi cant input or concepts:\\nJeannette Horne\\n©2009 Project Management Institute. Practice Standard for Project Risk Management\\n61',\n",
       " 74: 'C\\nAPPENDIX C\\nC.3 Practice Standard for Project Risk Management Team Members\\nIn addition to those listed above, the following individuals participated on the P ractice Standard for Project\\nRisk Management Project Team.\\nAhmad Khairiri Abdul Ghani, PE, MBA Archie Addo, PMP, PhD\\nPriumvada Agarwal, PMP Upinder Aggarwal, PMP\\nAsif M Ahmad, PMP Amr Nabil Ahmed, PMP, MSc\\nJose Correia Alberto, MEng, CITP Salvador Alvarez, PMP\\nChukwudi Anakudo, PMP Ananthalakshmi Anbuselvan\\nJagathnarayanan Angyan, FIE, CE Rodrigo Ariza\\nPedro Carlos Auler Michael Avery\\nSai Swaminathan Baba Subramanyan, BE, PMP Teddy Alton Barnes\\nGail Ellen Bartz David Benfell\\nPaul S. Bennett Douglas A. Berry, PMP\\nMamoun Besaiso, CE Timothy Birus\\nDave M. Bond Kiron Bondale\\nBlaine W. Boxwell, MBA, PMP Carlos Eduardo M. F. Braga, PMP\\nValerie Claire Brasse, PMP Joan Browne, BSc, PMP\\nAdrian Busch, PMP, MBA John J. Byrne, DBA, PMP\\nC. S. Rajan, PMP Eduardo Cadena\\nFranco Caron William G. Chadick, DM, PMP\\nSouray Chakraborty Harshavardhan Chakravarti, BS\\nShanthi Chandrasekar Noman Zafar Chaudry, PE, PMP\\nVijay Chauhan, MBA, PMP Subrahmanyam Chinta, VN, PMP\\nCarolyn Chomik Joan F. Church\\nGlenda Clark Lorri Cline, MBA, PMP\\nJohn D. Corless, PhD Anthony R. Corridore, PMP\\nCoughlin, Philip Nancy A Cygan, MS, PMP\\nMarco Aurélio Danelon, PMP Karel de Bakker, MA, PMP\\nThijs De Jong Alfredo Del Cano\\nPeter B. de Zouza Mello, SPS, PMP Cheryl L. Dennis\\nRaveesh Dewan, PMP, MBA Ricardo Jose do Rego Barros, PMP\\nJohn David Driessnack Matt Dubois\\nJason Eddinger, PMP Maliha Elahi, MSc, PMP\\nNorman Epstein, PMP, MBA Joel Erickson\\nRodrigo Fernandes Espirito Santo Giovanni Fanduiz\\nGeneviève Faragó, PMP Mario Fiallo Carranco\\nLeslie Fiedler Eduardo Fleischer\\n©2009 Project Management Institute. Practice Standard for Project Risk Management\\n62',\n",
       " 75: 'C\\nAPPENDIX C\\nKirby Fortenberry, PMP Lynn Francis\\nMichelle L. Franklin, PMP Tracy Fritz\\nAndrew Fry, CMA, PMP Kamlesh Gandhi, PMP, PQs\\nNélio Gaspar, MSc, PMP Tina Gilrein, PMP, MPM\\nSilvio Hernan Giraldo, PMP, CBCP Vikram Godboley\\nVivek Goel, PMP Francisco Gomez\\nSerge Goncharov, PMP, PgMP Ronald R.Goodwin, PMP\\nPriyesh Gopalakrishnan Robert Grant\\nSteve Grunewald Denise M. Guerin\\nSanjay Gupta, PMP Cristine Gusmão, PhD\\nHeidi Ann Hahn, PhD, PMP Laurie Hall\\nRobert W. Harding, PMP Balasubramaniam Hari Gopal, FCA, PMP\\nChandrashekar Hassan Henry Hattenrath\\nDavid A. Haugh, PMP John Hendricks, MS, PMP\\nArnold A. Hill, PMP Rosemarie A. Hilt, MBA, PMP\\nGeorge Hopman, PhD, PE Sean Hugo\\nJohn Humphrey Walter Hussey, PMP\\nGeorge Jackelen Ramona Jackson\\nDhanojkumar Jadhav Ayo Jemiri, MS, PMP\\nStephen Michael Johns Kenneth E. Johnson, MBA, PMP\\nValeri Jonas, BA (Honours), Oxon Roy Joslin\\nKrishna Kallapur, PMP Rita Kaul\\nMariya Kehoe Rameshchandra B. Ketharaju\\nAmir Ahmed Kheir Behrad Kiafar\\nKonstantinos Kirytopoulos, PhD, PMP Ilkka Koskinen, MSc, PMP\\nAlejandro Kowiendl R.V. Krishna, MBA, CAPM\\nJeyakumar Krishamoorthy Lars Kruse\\nPolisetty Veera Subrahmanya Kumar, CISSP, CISA Sasi Kumar, PMP\\nVijaya Kurada Elise Labre\\nDavid Larson Wei Lee, PMP\\nHenry Lie Guilherme Pereira Lima, PMP\\nBernard Lindekens Renato Lourenço da Silva, MBA, PMP\\nVasantha R Manda, PMP, CISSP Edmond Matevosian, PE, PMP\\nRivalino Matias Jr., PhD, MSc Peña Torres Nestor Mauricio, PMP\\nJME Maxwell MBA, PMP Alvis McGinty\\nTraci L. McIntosh, PMP Ramesh Menon\\nConcepcion Merino Philip Mileham\\n©2009 Project Management Institute. Practice Standard for Project Risk Management\\n63',\n",
       " 76: 'C\\nAPPENDIX C\\nWaqar Ahmed Mirza Shipra Mitra\\nSiddique Mohammed Guillermo Molina Leon\\nSergio Monaco, MCTS Elizabeth Mejia Montanez\\nFlavio Montenegro, PMP Mohammad Moradi\\nLinda L. Morgan, MSIS, PMP Rick A. Morris, MPM, PMP\\nTania Morris MPM, PMP Saradhi Motamarri, MTech, PMP\\nMark A. Munster PMP, CISA Ronan J. Murphy, CEng, MBA\\nCarlo Muzzarelli Linda Nedney, PMP\\nRob Nelson, PMP Vaman G. Nene\\nAnn Nguyen, PMP Naema Nunnery\\nJillian O’Connell, MBA, PMP Daryl K. Ono\\nArmin Oppitz, PMP Daniel Pacholski, PMP\\nAbhimanyu Parasher, MBA, PMP David M. Patrick\\nScott Patton Mridul Paul\\nChris Payne, PMP Sameer K Penakalapati, ME, PMP\\nAlexandre Perali Sharon D. Perez-Suarez\\nLavinia Petcu, CAPM Bruce Petro, PMP\\nKrista Lynn Pizzurro Roberto Pons, PMP\\nCarl Pro Julie R. Purcell, PMP, MCSE\\nSridhar R Pydah, MS, PMP Vijaya Raman, PMP\\nStephen F. Randolph, PMBA PMP Jennifer Read, PMP, CMC\\nCaroline Robison, PMP Fabiano Rollim, PMP, PgMP\\nEdward Rowe Don Ruchkall\\nJoseph Sabatini Fawzia Salahuddin MCS, PMP\\nSalem Mahaboob Saliha Sherriff, MBA, PMP Sivakumar Sanyasi\\nRudolf Schenker Marcio Schmidt, PMP\\nBill Schneider Michael J. Scott, PMP\\nRavi Shanker, MBA, PMP Viresh C Shah, MBA, PMP\\nJeff Shore Evandro Silva\\nMaria Isabel Silva Sumano, MBA, PMP Michael D. Simants\\nVivek Sivakumar, CAPM Kathy J. Slater, PMP\\nShaun Smith Linda E. Solorzano, BS, PMP\\nMauro Sotille, PMP Mandayam Sriram, Meng, PMP\\nTournis Stamatis, PhD PMP Fred Stein\\nRoeland Stellingwerff Jim Stewart, PMP\\nPrasanna V Sugavanam, PMP Ramakrishnan Sundararaman\\nMatthias Svane, MSc, PMP Amin Tabatabayi, MBA, PMP\\n©2009 Project Management Institute. Practice Standard for Project Risk Management\\n64',\n",
       " 77: 'C\\nAPPENDIX C\\nVenerando Tangco, PMP, CSM Suresh Kumar Tata, PMP, ACS\\nPatel Tejesh, PMP Sarma Tekumalla, PMP, MBA\\nJacqueline Teo Michelle Tessier\\nGangesh Thakur, CPIM, PMP Vadivelu Thanicachalam\\nIng. Biagio Tramontana, PMP Subhash B. Tuladhar, PMP\\nRuth H. Vandegrift Sri Pavan Vardan Vemu\\nChristoph Verschuere, Ir, PMP, CISM Marianne Viegas\\nYiannis Vithynos, PMP, MSc Steve Waddell\\nPaul Waits Jr., PMP, CPM Kuan-Hsun Wang, PMP\\nNancy Watanabe James Wattnem\\nLisa L. Winchester, PMP Karen L. Woodruff, RN CFNP, PMP\\nJames Yang, PMP, MBA Luay M. Zakaria, PMP\\nXiaojun Zhou\\nC.4 Final Exposure Draft Reviewers and Contributors\\nI n addition to team members, the following individuals provided recommendations for improving the\\nExposure Draft of the Practice Standard for Project Risk Management :\\nMarcos Abreu Billa S. Dahaby, MS, ISSI\\nJosé R. Alcalá G., PMP Gwendolyn Darby\\nMohd Al-Kuwari Anirban Das, M.Tech, PMP\\nOndiappan Arivazhagan “Ari”, PMP, PMI-RMP Terrell G. Dorn, PE\\nRandall Ash, PMP Peggy Drew, MBA, PMP\\nImad Babbili Norberto Figuerola, PMP\\nErnest Baker, PMP Robert A. Dudley, PMP, PMI-SP\\nJerry Ball, PMP Scott D. Freauf, PMP, IPMA-D\\nEng. Dimah M. Barakat, PMP, PMI-RMP Mark Gabel, MSCE, PE\\nSuvransu Basu, BE Oliver D. Gildersleeve, Jr., PMP, MCTS\\nSusanne Bode Kurt J. Harris, PMP\\nDavid J. Boschma PMP B.E. Jame Healy\\nSergio A. Calvo Abarca, PMP Walter Hekala, CQA, PMP\\nMarlene Carnevali Shirley Hinton, PMP\\nBruce C. Chadbourne, PMP, PgMP Felicia Elizabeth Hong, PMP, MBA\\nSteve Charters MAPM MSc Manuel Huerta\\nTomio Chiba, PMP Kristian Hurt\\nPatricia Cohen Christoph Werner Jacobi\\nWendra Collet, MPM Ashok Jain, PMP, ITIL\\n©2009 Project Management Institute. Practice Standard for Project Risk Management\\n65',\n",
       " 78: 'C\\nAPPENDIX C\\nSyed Asad Jawed C.C.E Dirk Pons\\nRamesh D. Kandadai, member RSIG Carl L. Pritchard, PMP, PMI-RMP\\nKenneth P. Katz PMP Javier Pumar, PMP\\nRameshchandra Ketharaju Polisetty Veera Subrahmanya Kumar, PMP, PMI-RMP\\nGene G. Kuki, PMP Chandrasekar Ramakrishnan PMP, CSQA\\nAbhilash T. Kuzhikat, PMP, ITIL Ivan D. Ramirez R., PMP\\nPeter Lierni Alexander Revin, PMP\\nChristopher E. Maddox, PMP Pedro C. Ribeiro, MBA, PMP\\nAnthony Mampilly, PMP, COP Bruce P. Robison\\nSrinivas Mandgi, PMP, SAP HR Sadegh Roozbehi\\nAmmar W. Mango, PgMP, PMP Tarun Kumar Roy\\nLarry Marks Balaji Selvaraju\\nAndrew McGlade, PMP Hilary Shreter, MBA, PMP\\nPatrick K. Morrow, PMP Fay Simcock MSc, PMP\\nRajesh Musaliyath Rebecca Spohn, PMP, CQE\\nEric M. Myers, PMP Pranay Srivastava, PMP, CSM\\nMustapha NAFAÂ, MPM, PMP Joyce Statz, PhD, PMP\\nPatrick O’Farrell, PMP, MBA Massimo Torre, PhD, PMP\\nLambert I. Ofoegbu, PMP, PMI-RMP Fredrick G. Trussell, PMP\\nKazuhiko Okubo, PMP, PE Frederick Trussell\\nKarthikeyan Ovuraj Kevin R. Wegryn, PMP, CPM\\nNancy Perosio, PMP William. E. Wencel, PMP\\nRafael Piña Quintal Alexey D. Zimin, PME\\nC.5 PMI Standards Member Advisory Group (MAG)\\nThe following individuals served as members of the PMI Standards Member Advisory Group (MAG) during\\ndevelopment of the P ractice Standard for Project Risk Management :\\nJulia M. Bednar, PMP Chris Cartwright, MPM, PMP\\nDouglas Clark Terry Cooke-Davies, PhD FCMI\\nCarol Holliday, MA, PMP Deborah O’Bray, CIM (Hons)\\nAsbjørn Rolstadås, PhD, Ing David W. Ross, PMP, PgMP\\nPaul E. Shaltry, PMP David Violette, MPM, PMP\\nJohn Zlockie, MBA, PMP\\n©2009 Project Management Institute. Practice Standard for Project Risk Management\\n66',\n",
       " 79: 'C\\nAPPENDIX C\\nC.6 Staff Contributors\\nSpecial mention is due to the following employees of PMI:\\nSteven L. Fahrenkrog, PMP, VP Regional Development\\nAmanda Freitick, Standards Program Administrator\\nRuth Anne Guerrero, MBA, PMP, Former Standards Manager\\nDonn Greenberg, Manager, Publications\\nRoberta Storer, Product Editor\\nBarbara Walsh, CAPM, Publications Planner\\n©2009 Project Management Institute. Practice Standard for Project Risk Management\\n67',\n",
       " 80: '',\n",
       " 81: 'D\\nAPPENDIX D\\nTOOLS, TECHNIQUES AND TEMPLATES FOR\\nPROJECT RISK MANAGEMENT\\nMany tools and techniques have been developed and are in widespread use to support the Project Risk\\nManagement processes. The most commonly used of these are listed in the following tables along with their\\nstrengths, weaknesses, and critical success factors. Where a technique can be used in more than one Project\\nRisk Management process, it is described in detail in the section associated with the main process that it\\nsupports, and referred to as necessary for other processes to which it can be of use. Examples and templates\\nshown after each table provide illustrations of the most common and good practice uses of these tools and\\ntechniques. This information is not intended to explain the tools and techniques but to list them with certain\\nimportant characteristics. Those who are interested in learning more are encouraged to seek other sources\\nsuch as handbooks, textbooks, or courses in project risk management.\\nD.1 Techniques, Examples and Templates for\\nRisk Management Planning (Chapter 4)\\nP lan Risk Management defi nes the approach to be followed for managing the risks throughout the lifespan\\nof the corresponding project.\\nD.1.1 Techniques\\nAn example of an approach is given in Table D1.\\nTable D1. Example of Plan Risk Management Approach\\nCSFs for Effective\\nTechnique Strengths Weaknesses Application\\nPlanning Meetings and • Involvement of core • Depends on • Prior risk management\\nAnalysis team members experience of plan templates\\nparticipants • Prior stakeholder\\nanalysis\\n• Existing organizational\\nguidelines for risk\\nmanagement\\n©2009 Project Management Institute. Practice Standard for Project Risk Management\\n69',\n",
       " 82: 'D\\nAPPENDIX D\\nD.1.1.1 The Risk Management Plan – Purpose and Typical Content\\nD epending on the size and complexity of the project, some or all of the following elements will be present\\nin a risk management plan.\\n• Introduction\\n• Project Description\\n○ Project objectives\\n○ External dependencies\\n○ Stakeholder analysis\\n• Risk Management Scope and Objectives\\n○ Variance thresholds\\n○ Prioritization of project objectives\\n○ Thresholds, weights and other parameters\\n■ Definition of criteria for “unacceptable threats” and “un-missable opportunities”\\n■ Impact scales, probability scales, PxI matrices, weighting of project objectives,\\nprioritization and selection criteria, degree of confidence required for overall risk\\n(e.g., 80t h percentile) from quantitative risk analysis\\n• Risk Management Methodology\\n○ Relationship with the organizational environment\\n○ Risk management activities\\n■ Link to the project management methodology\\n■ Relationship with other project management processes\\n○ Risk taxonomy/risk breakdown structure (either generic or project-specific)\\n○ Format of a fully defined risk statement description (“metalanguage”)\\n○ Key deliverables\\n• Risk Management Organization\\n○ Roles, responsibilities and levels of authority for risk management\\n■ Rules of escalation\\n○ Budgeting for risk management activities added to the project budget\\n■ Adapted to the complexity and sensitivity of the project\\n○ Scheduling of risk management activities in the project schedule, i.e. when certain actions\\nor reviews need to be carried out (frequency, life cycle related, etc.)\\n©2009 Project Management Institute. Practice Standard for Project Risk Management\\n70',\n",
       " 83: 'D\\nAPPENDIX D\\n○ Reporting\\n■ Governance-related rules of reporting and disclosure\\n• Use of Tools\\n○ Tool name, description, usage\\n○ Structure of the risk database\\n■ Requirements in terms of system resources\\n• Communications Planning\\n○ Documents, usage, rules for distribution (frequency, audience, etc.)\\n○ Document templates\\n■ Risk register\\n■■ Risk status reports\\nD.1.1.2 Templates Relevant to Risk Management Planning\\nT he risk management plan should provide a number of templates for use by the other processes. These\\nmay include:\\n• Formal structure for a risk statement\\n○ An example is given below\\n• Means of categorizing risks, for example a risk breakdown structure\\n○ An example is given in the Identify Risks section of this appendix\\n• Defi nitions, by project objective, of probability and impact scales\\n○ An example is given in the Perform Qualitative Risk Analysis section of this appendix\\n• Risk prioritization and selection guidelines\\n○ T hese guidelines may be used in Perform Qualitative Risk Analysis and in Perform Quantitative\\nRisk Analysis as well as in Plan Risk Response Planning. An example is given below.\\n• Status report templates\\n• Typical agenda for status meetings\\nD.1.1.3 Risk Statement “Metalanguage”\\nI n order for all risks to be clearly defi ned, a standard structure for the way in which the risk is described\\nshould be specifi ed and applied. A typical such statement is:\\n“Because of <one or more causes>, <risk> might occur, which would lead to <one or more effects>”.\\n©2009 Project Management Institute. Practice Standard for Project Risk Management\\n71',\n",
       " 84: 'D\\nAPPENDIX D\\nD.1.1.4 Risk Prioritization and Selection Guidelines\\nT he selection and prioritization of risks must be linked to the project objectives. The risk management plan\\nwill defi ne the relative importance to be assigned to these objectives (e.g. reliability takes precedence over\\ntime, etc.): this may be in the form of numerical “weights” that can be applied to create a single weighted sum\\nover all objectives for each risk. Any other features that may affect the urgency of dealing with a risk should\\nalso be specifi ed (e.g. one linked to a resource that will soon disappear should be given greater urgency).\\nD.2 Techniques, Examples and Templates for Identify Risks (Chapter 5)\\nI dentify Risks is carried out in order to develop a comprehensive list of all knowable uncertainties that could\\nhave an effect on the project’s objectives.\\nTable D2. Identify Risks\\nCSFs for Effective\\nTechnique Strengths Weaknesses Application\\nAssumptions & • Simple structured • Implicit/hidden • Requires a\\nConstraints Analysis approach assumptions or comprehensive list\\n• Can be based on constraints are often of assumptions &\\nassumptions & missed constraints\\nconstraints already\\nlisted in project charter\\n• Generates project-\\nspecifi c risks\\nBrainstorming • Allows all participants • Requires attendance of • Attendance of\\nto speak their mind key stakeholders at a representative group of\\nand contribute to the workshop, therefore can stakeholders\\ndiscussion be diffi cult to arrange • Commitment to honesty\\n• Can involve all key and expensive • Preparation\\nstakeholders • Prone to Groupthink and\\n• Good facilitation\\n• Creative generation of other group dynamics\\n• Use of structure\\nideas • May produce biased\\n(e.g. categories or RBS)\\nresults if dominated by\\na strong person (often\\nmanagement)\\n• Often not well facilitated\\n• Generates non-risks\\nand duplicates, requires\\nfi ltering\\nCause and Effect • Visual representation • Diagram can quickly • Effective selection of\\n(Ishikawa) Diagrams of project promotes become over-complex critical impacts (e.g.\\nstructured thinking by use of sensitivity\\nanalysis)\\n©2009 Project Management Institute. Practice Standard for Project Risk Management\\n72',\n",
       " 85: 'D\\nAPPENDIX D\\nTable D2. Identify Risks (continued)\\nCSFs for Effective\\nTechnique Strengths Weaknesses Application\\nCheck Lists • Captures previous • Check list can grow to • Regular maintenance is\\nexperience become unwieldy required\\n• Presents detailed list • Risks not on the list will • Use of structure can\\nof risks be missed assist (e.g. RBS)\\n• Often only includes\\nthreats, misses\\nopportunities\\nDelphi Technique • Captures input from • Limited to technical risks • Effective facilitation\\ntechnical experts • Dependent on actual • Careful selection of\\n• Removes sources of expertise of experts experts\\nbias • May take longer time than • Clear defi nition of scope\\navailable due to iterations\\nof the experts’ inputs\\nDocument review • Exposes detailed • Limited to risks • Understanding of\\nproject-specifi c risks contained in project relevance of prior\\n• Requires no specialist documentation experience\\ntools\\nFMEA/Fault Tree • Structured approach, • Focuses on threats, • Detailed description\\nAnalysis well understood by not so useful for of the area being\\n→ see Chapter 7 engineers opportunities assessed\\n• Produces an estimate • Requires expert tools not • Statistically accurate\\nof overall reliability generally available to data on fault\\nusing quantitative tools those except experts probabilities for many\\n• Good tool support events\\nForce Field Analysis • Creates deep • Time-consuming and • Prioritized objectives\\nunderstanding of complex technique\\nfactors that affect • Usually only applied to a\\nproject objectives single objective, so does\\nnot provide whole-project\\nview\\nIndustry knowledge • Captures previous • Limited to what has • Access to relevant\\nbase experience previously happened information\\n• Allows benchmarking • Excludes project-specifi c\\nagainst external risks\\norganisations\\n(continued)\\n©2009 Project Management Institute. Practice Standard for Project Risk Management\\n73',\n",
       " 86: 'D\\nAPPENDIX D\\nTable D2. Identify Risks (continued)\\nCSFs for Effective\\nTechnique Strengths Weaknesses Application\\nInfluence diagrams • Exposes key risk drivers • Requires disciplined • Identify key areas to\\n• Can generate counter- thinking address\\nintuitive insights not • Not always easy to\\navailable through other determine appropriate\\ntechniques structure\\nInterviews • Addresses risks in • Time consuming • Good interviewing and\\ndetail • Raises non-risks, questioning skills\\n• Generates concerns, issues, worries • Environment of trust,\\nengagement of etc, so requires fi ltering openness, confi dentiality\\nstakeholders • Preparation\\n• Open relationship\\nbetween interviewer\\nand interviewee\\nNominal Group • Encourages and allows • Can lead to frustration in • Good briefi ng of all\\nTechnique all participants to dominant members who participants in the\\ncontribute feel it is moving slowly technique\\n• Allows for different • Strict facilitation\\nlevels of competence\\nin common language\\n• To a large extent, auto-\\ndocumenting\\n• Provides ideal base for\\naffi nity diagramming\\n(grouping by risk\\ncategories for use in\\nthe Risk Breakdown\\nStructure and Root\\nCause Analysis)\\nPost-project reviews/ • Leverages previous • Limited to those risks that • Well structured project\\nLessons Learned/ experience have occurred previously lessons learned\\nHistorical Information • Prevents making the • Information is frequently database\\n→ see Chapter 6 same mistakes or incomplete: details • Participation of previous\\nmissing the same of past risks may project team members\\nopportunities twice not include details of (ideally including the\\n• Enhances the successful resolution; project manager)\\nOrganizational Process ineffective strategies are\\nAssets rarely documented.\\nPrompt Lists • Ensures coverage of • Topics can be too high • Choice of list relevant\\nall types of risk level to the project and its\\n• Stimulates creativity environment\\n©2009 Project Management Institute. Practice Standard for Project Risk Management\\n74',\n",
       " 87: 'D\\nAPPENDIX D\\nTable D2. Identify Risks (continued)\\nCSFs for Effective\\nTechnique Strengths Weaknesses Application\\nQuestionnaire • Encourages broad • Success depends on the • Clear and unambiguous\\nthinking to identify quality of the questions questions\\nrisks • Limited to the topics • Detailed briefi ng of\\ncovered by the questions respondents\\n• Can be a simple\\nreformatting of a checklist\\nRisk Breakdown • Offers a framework for • None • Requires a\\nStructure (RBS) other risk identifi cation comprehensive RBS,\\ntechniques such as often tailored to the\\nbrainstorming project\\n• Ensures coverage of\\nall types of risk\\n• Tests for blind spots or\\nomissions\\nRoot-Cause Analysis • Allows identifi cation of • Most risk management • Ability to identify if a\\n→ see Chapter 6 additional, dependent techniques are organized risk is an outcome of\\nrisks by individual risk. This a more fundamental\\n• Allows the organization organization is not cause\\nto identify risks conducive to identifying • Willingness by\\nthat may be related the root causes management to\\nbecause of their • Can oversimplify and accept and address\\ncommon root causes. hide existence of other the root cause rather\\n• Basis for development potential causes than adopting partial\\nof pre-emptive and • There may be no valid workarounds\\ncomprehensive strategy available for\\nresponses addressing the root\\n• Can serve to reduce cause once it has been\\napparent complexity identifi ed.\\nSWOT Analysis • Ensures equal focus • Focuses on internally • Good facilitation\\non both threats and generated risks arising • Strict adherence to\\nopportunities from organizational the technique, to avoid\\n• Offers a structured strengths and confusing the four\\napproach to weaknesses, excludes SWOT perspectives\\nidentify threats and external risks (i.e. between Strengths\\nopportunities • Tends to produce high- and Opportunities, or\\n• Focus on internal level generic risks, not between Weaknesses\\n(organizational project-specifi c and Threats)\\nstrengths and\\nweaknesses) and\\nexternal (opportunities\\nand threats)\\n(continued)\\n©2009 Project Management Institute. Practice Standard for Project Risk Management\\n75',\n",
       " 88: 'D\\nAPPENDIX D\\nTable D2. Identify Risks (continued)\\nCSFs for Effective\\nTechnique Strengths Weaknesses Application\\nSystem Dynamics • Exposes unexpected • Requires specialized • Understanding of\\n→ see Chapter 715 inter-relations between software and expertise to feedback\\nproject elements build models • Competence in applying\\n(feedback and feed- • Focuses on impacts but tools and understanding\\nforward loops) diffi cult to include the their output\\n• Can generate counter- concept of probability • Quality of the system\\nintuitive insights not model\\navailable through other\\n• Accuracy of input\\ntechniques\\ndata collected for the\\n• Produces overall specifi c project\\nimpacts of all included\\nevents and risks\\nWBS Review • Ensures all elements • Excludes external risks • Good WBS\\nof the project scope or those not specifi cally\\nare considered related to WBS elements\\n• Provides for risks\\nrelated to different\\nlevels of detail (from\\nhigh-level to those\\nrelated to individual\\nwork packages)\\nD.2.1 Techniques\\nExamples of techniques are given in D.2.1.1 through D.2.1.15.\\nD.2.1.1 Assumptions and Constraints Analysis\\nThis technique requires three steps:\\n1. List assumptions and constraints for the project\\n2. Test assumptions and constraints by asking two questions:\\na. Could the assumption/constraint be false?\\nb. If it were false, would one or more project objectives be affected (positively or negatively)?\\n3. Where both questions are answered “Yes”, generate a risk, for example in the form: <Assumption/\\nconstraint> may prove false, leading to <effect on objective(s)>.\\nThe results can be documented in table form, as shown in Figure D1.\\n©2009 Project Management Institute. Practice Standard for Project Risk Management\\n76',\n",
       " 89: 'D\\nAPPENDIX D\\nFigure D1. Example of a Constraint Analysis with Fields for Description and Analysis Results\\nD.2.1.2 Brainstorming\\nBrainstorming is commonly used in a facilitated risk identifi cation workshop to identify risks. The standard\\nrules of brainstorming are often modifi ed when the technique is applied to risk identifi cation. For example it\\nis common to structure the risk identifi cation brainstorm using risk categories or a risk breakdown structure.\\nSome evaluation of proposed risks is often included in a risk identifi cation brainstorm to remove non-risks. It is\\nimportant to ensure active participation of relevant stakeholders in a risk identifi cation brainstorm, and for the\\nfacilitator to manage group dynamics carefully. No templates or examples are presented in this appendix.\\nD.2.1.3 Cause and Effect (Ishikawa) Diagrams\\nT his technique presents in diagrammatic form the causes which contribute to a given outcome. Each main\\ncause can be split further into sub-causes. To use this technique for risk identifi cation the outcome should be stated\\nas an effect on a project objective, i.e. the impact of a risk. The diagram then identifi es risks as those uncertain\\nevents which could result in occurrence of the impact. Care needs to be taken when using this technique for\\nrisk identifi cation to distinguish between risks (uncertain causes of the impact) and issues (certain causes of the\\nimpact). An example cause and effect (Ishikawa) diagram is shown below: the risk (effect) to be analyzed is “staff\\nleaving the project”; the main causes are Environment, Ambition, Career Prospects, Satisfaction, Remuneration.\\nFigure D2. Example of a Cause and Effect or Ishikawa Diagram for Staff Leaving\\n©2009 Project Management Institute. Practice Standard for Project Risk Management\\n77',\n",
       " 90: 'D\\nAPPENDIX D\\nD.2.1.4 Checklists\\nC hecklists are compiled to capture previous project experience and allow it to be used for subsequent similar\\nprojects. It is possible to structure the risk identifi cation checklist around a risk breakdown structure, as shown\\nin the partial example below. It is useful to present the checklist as a set of risks, each of which is considered in\\nturn to determine whether it might be relevant to the project under consideration. Risk identifi cation checklists\\nshould include both threats and opportunities.\\n.\\nFigure D3. Example (Fragment) of a Checklist with Typical Structure of Category, Subcategory,\\nSpecific Risks and Effect\\nD.2.1.5 Delphi Technique\\nThe Delphi technique uses a facilitated anonymous polling of subject matter experts to identify risks in their\\narea of expertise. The facilitator gathers the experts’ initial responses and circulates them without attribution\\nto the group, who may revise their contributions based on those of others. The process often generates a\\nconsensus of the experts in a few iterations. No templates or examples are presented.\\nD.2.1.6 Document Review\\nRisks can be identifi ed through careful review of project documentation, including the project charter,\\nstatement of work, contract terms and conditions, subcontracts, technical specifi cations, regulatory\\nrequirements, legal stipulations etc (where relevant). Formal structured methods of document review can be\\nused (such as the Fagan Inspection Process), or a more informal approach may be adopted. No templates or\\nexamples are presented.\\nD.2.1.7 FMEA/Fault Tree Analysis\\nFailure Modes and Effects Analysis (FMEA) or Fault Tree Analysis is the analysis of a model structured to\\nidentify the various elements that can cause system failure by themselves, or in combination with others,\\n©2009 Project Management Institute. Practice Standard for Project Risk Management\\n78',\n",
       " 91: 'D\\nAPPENDIX D\\nbased on the logic of the system. Fault tree analysis is typically used in engineering contexts. It can be adapted\\nfor use to identify risks by analyzing how risk impacts might arise. Another result is the probability of failure\\n(or of reliability, mean time between failure, etc.) of the overall system, indicating the level of quality of the\\nsystem or product. If the level of reliability is not acceptable, the Fault Tree can indicate where the system can\\nbe made more reliable—therefore, it is useful in the design and engineering phase of the project. An example\\nis shown below.\\nFigure D4. Fault Tree Analysis of the Possible Causes of a Crash at the Main Road Junction\\n(this will be changed to be more project-oriented)\\nD.2.1.8 Force Field Analysis\\nForce Field Analysis is typically used in the change management context. It can be adapted for risk\\nidentifi cation by identifying driving forces (“forces for change”) and restraining forces (“forces against change”)\\nwhich currently affect achievement of a project objective. Risks can then be identifi ed as uncertain events or\\nconditions which would lead to a change in the strength of one or more of the identifi ed forces. An example\\nforce fi eld diagram is shown below.\\n©2009 Project Management Institute. Practice Standard for Project Risk Management\\n79',\n",
       " 92: 'D\\nAPPENDIX D\\nFigure D5. Example of a Force Field Analysis and the Balance of Forces For and Against Change\\nD.2.1.9 Industry Knowledge Base\\nAn industry knowledge base is a special case of a checklist (see above), and is used similarly. No templates\\nor examples are presented.\\nD.2.1.10 Infl uence Diagrams\\nAn infl uence diagram is a diagrammatic representation of a project situation, showing the main entities,\\ndecision points, uncertainties, and outcomes, and indicating the relationships (infl uences) between them. The\\ninfl uence diagram can identify risks when combined with sensitivity analysis or Monte Carlo simulation to\\nreveal sources of risk within the project. An example is shown below.\\n©2009 Project Management Institute. Practice Standard for Project Risk Management\\n80',\n",
       " 93: 'D\\nAPPENDIX D\\nFigure D6. Example of an Influence Diagram in a Bidding Situation\\nD.2.1.11 Interviews\\nR isk identifi cation interviews should include all main stakeholders and be conducted by an independent\\nskilled interviewer using a structured agenda, in an atmosphere of confi dentiality, honesty, and mutual trust. A\\nrisk breakdown structure, checklist or prompt list can be used as a framework for risk interviews. No templates\\nor examples are presented.\\nD.2.1.12 Nominal Group Technique\\nT he Nominal Group Technique is an adaptation of brainstorming where participants share and discuss all\\nissues before evaluation, with each participant participating equally in evaluation. No templates or examples\\nare presented.\\nD.2.1.13 Post-Project Reviews/Lessons Learned/Historical Information\\nI nformation relevant to risks for a current project can be obtained by reviewing databases of risks which\\noccurred in previous similar situations. Such databases might arise from post-project reviews or lessons\\nlearned exercises. They may also exist as repositories of historical information, either within an organization or\\nindustry body. No templates or examples are presented.\\n©2009 Project Management Institute. Practice Standard for Project Risk Management\\n81',\n",
       " 94: 'D\\nAPPENDIX D\\nD.2.1.14 Prompt Lists\\nA prompt list is a set of risk categories which can be used to stimulate risk identifi cation. The prompt list\\nmay be presented as a risk breakdown structure (see below), or as a set of headings. A number of standard\\nprompt lists have been developed for use in risk identifi cation, and some of these are presented below. These\\ncan then be used as a framework for other risk identifi cation techniques such as brainstorming (see D.2.1.2)\\nor risk interviews (see D2.1.11).\\n1. The PESTLE prompt list:\\n• Political\\n• Economic\\n• Social\\n• Technological\\n• Legal\\n• Environmental\\n2. The TECOP prompt list:\\n• Technical\\n• Environmental\\n• Commercial\\n• Operational\\n• Political\\n3. The SPECTRUM prompt list:\\n• Socio-cultural\\n• Political\\n• Economic\\n• Competitive\\n• Technology\\n• Regulatory/legal\\n• Uncertainty/risk\\n• Market\\nD.2.1.15 Questionnaire\\nA risk identifi cation questionnaire can be presented as a special form of checklist (see D.2.1.4), where\\npossible risks are shown in question format (for example “Is the client’s requirement clearly defi ned?”) rather\\n©2009 Project Management Institute. Practice Standard for Project Risk Management\\n82',\n",
       " 95: 'D\\nAPPENDIX D\\nthan as risk statements (“The client may change the requirement after project start.”). Alternatively a risk\\nidentifi cation questionnaire can be used to present the headings from a prompt list (see D.2.1.14), asking\\nquestions such as “Are there any uncertainties arising from the use of technology on this project?” No templates\\nor examples are presented.\\nD.2.1.16 Risk Breakdown Structure (RBS)\\nT he risk breakdown structure (RBS) is a hierarchical framework of potential sources of risk to a project. An\\norganization may develop a generic RBS for use across all its projects, or a project may use a project-specifi c\\nRBS. A partial example RBS is shown below.\\nFigure D7. Example of a Generic Risk Breakdown Structure\\n©2009 Project Management Institute. Practice Standard for Project Risk Management\\n83',\n",
       " 96: 'D\\nAPPENDIX D\\nD.2.1.17 Root-Cause Analysis\\nA root cause analysis seeks to identify basic causes of risks that may be visible symptoms of more\\nfundamental forces. It may also identify common sources of several risks, leading to broad-reaching risk\\nresponse strategies. Similarly, care needs to be taken when using this technique for risk identifi cation to\\ndistinguish between risks (uncertain causes of the impact) and issues (certain causes of the impact). In the\\ndiagram shown below the risks that were initially identifi ed included rework, extra cost, schedule slips, low\\nteam morale, customer mistrust and repeated audits. An examination of the identifi ed risks lead to a common\\nroot cause, that later phases of the project were typically started before the earlier ones were suffi ciently\\nmature. This organization repeatedly ignored the proper phase entry prerequisites, hastening later project\\nstages in order to speed up the project.\\nFigure D8. Example of a Root Cause Analysis\\nD.2.1.18 SWOT Analysis\\nSWOT Analysis identifi es four characteristics of a given situation: strengths, weaknesses, opportunities and\\nthreats. The technique is commonly used in strategic decision making. It can be adapted for risk identifi cation\\nby changing the interpretation of the four perspectives, such that strengths and weaknesses relate to the\\ncharacteristics of the organization conducting the project, and opportunities and threats identify the project\\nrisks. The technique is particularly useful for identifying internally-generated risks arising from within the\\norganization. For example opportunities might be found by leveraging organizational strengths, or threats\\nmight arise as a result of organizational weaknesses, as illustrated below.\\n©2009 Project Management Institute. Practice Standard for Project Risk Management\\n84',\n",
       " 97: 'D\\nAPPENDIX D\\nFigure D9. Example of a SWOT Analysis Structure\\nD.2.1.19 System Dynamics\\nSystem dynamics (SD) is a particular application of infl uence diagrams (see above), and can be used\\nto identify risks within a project situation. The SD model represents entities and information fl ows within a\\nproject, and analysis of the model can reveal feed-back and feed-forward loops which lead to uncertainty\\nor instability. In addition, the results of an SD analysis can show the impact of risk events on overall project\\nresults, such as the cost or schedule results to be expected. Analyses of changes in the model or assumptions\\ncan indicate the system’s sensitivity to specifi c events, some of which may be risks. A simple example of an\\nSD diagram is shown in Figure D11.\\nFigure D10. Example of a Simple System Dynamics Model with Feedback Loops\\n©2009 Project Management Institute. Practice Standard for Project Risk Management\\n85',\n",
       " 98: 'D\\nAPPENDIX D\\nD.2.1.20 WBS Review\\nT he work breakdown structure (WBS) for a project can form a framework for a number of other risk identifi cation\\ntechniques, such as brainstorming, risk interviews, checklists or prompt lists. No templates or examples are presented.\\nD.3 Techniques, Examples and Templates for Perform Qualitative Risk\\nAnalysis (Chapter 6)\\nPerform Qualitative Risk Analysis prioritizes for further analysis or handling the undifferentiated list of risks\\nthat have been identifi ed in the Identify Risks process. Organizations tend to apply resources to those designated\\nas “high risk,” based on their priority, often indicated by the risks’ probability and impact characteristics.\\nD.3.1 Techniques for Perform Qualtitative Risk Analysis\\nExample of approaches are given in Table D3 and D.3.1.1 through D.3.1.3.\\nTable D3. Techniques for Perform Qualitative Risk Analysis\\nCSFs For Effective\\nTechnique Strengths Weaknesses Application\\nRoot Cause Analysis\\nSee Chapter 5\\nEstimating techniques • Addresses both • Diffi cult to calibrate if • Agreed defi nitions\\n(applied to probability key dimensions of there is no historical of probability and\\nand impacts) a risk, namely its database of similar impacts which\\ndegree of uncertainty events refl ect stakeholders’\\n(expressed as • Terms for probability risk tolerances and\\nprobability) and its (e.g. probable, thresholds\\neffect on project almost certain) and • Values used in\\nobjectives (expressed for impact (e.g. the defi nitions\\nas impact) insignifi cant, major) represent the same\\nare ambiguous and level of impact\\nsubjective across objectives\\n• Impacts can as perceived by\\nbe uncertain or the organization’s\\nrepresented by a management or\\nrange of values that project stakeholders\\ncannot be put into a • Consistent use of\\nspecifi c impact level these defi nitions\\nsuch as “moderate across all identifi ed\\nimpact on time” risks\\n©2009 Project Management Institute. Practice Standard for Project Risk Management\\n86',\n",
       " 99: 'D\\nAPPENDIX D\\nTable D3. Techniques for Perform Qualitative Risk Analysis (continued)\\nCSFs for Effective\\nTechnique Strengths Weaknesses Application\\n• Access to SMEs who\\nhave experience with\\nthe type of risk\\nPost-project reviews/\\nLessons Learned/\\nHistorical Information\\n→ see Chapter 5\\nProbability and Impact • Allows the organization • Does not explicitly • P×I matrix requires\\nMatrix (P-I Matrix) to prioritize the handle other factors that the input\\nproject risks for such as urgency or data are clear and\\nfurther analysis (e.g., manageability that unambiguous in\\nquantitative) or risk may partly determine assigning levels of\\nresponse a risk’s ranking. probability and impact\\n• Refl ects the • The range of • E ffective estimation of\\norganization’s level of uncertainty in the impact and likelihood\\nrisk tolerance assessment of a as outlined previously\\nrisk’s probability or • Organizations should\\nimpact may overlap a be careful to assess\\nboundary the combinations of\\nprobability and impact\\nthat qualify a risk\\nas low, moderate or\\nhigh risk so that the\\nmethod used refl ects\\nthe organization’s risk\\nattitude\\n• Defi nitions used to\\ndesignate the levels\\nof impact (L, M, H)\\nfor each objective\\nshould represent\\nthe same level of\\nimpact as perceived\\nby the organization’s\\nmanagement or\\nproject stakeholders\\nas refl ecting the\\norganization’s utility\\nfunction\\n(continued)\\n©2009 Project Management Institute. Practice Standard for Project Risk Management\\n87',\n",
       " 100: 'D\\nAPPENDIX D\\nTable D3. Techniques for Perform Qualitative Risk Analysis (continued)\\nCSFs for Effective\\nTechnique Strengths Weaknesses Application\\nAnalytic Hierarchy • Assists in developing • Organizational • Expert facilitator in\\nProcess a relative weighting decisions are often the process\\nfor project objectives made by committees, • Agreement by\\nthat refl ects the and individuals may management that it\\norganization’s not agree on relative is useful to develop\\npriorities for time, priority among a consistent set of\\ncost, scope and objectives priorities among\\nquality for the project • Diffi cult to gather the objectives\\n• Assists the creation information about • Use of proper method\\nof an overall project pair-wise comparison or available AHP\\npriority list of risks of the objectives software\\ncreated from the from high-level\\nrisks’ priority with management\\nrespect to individual\\nobjectives\\nRoot-Cause Analysis\\n→ see Chapter 5\\nD.3.1.1 Estimating Techniques Applied to Probability and Impact\\nThe probability of a risk occurring can be specifi ed in several different ways. One common way is to assign\\nlevels of risk probability by ranges of probability. One benefi t of this approach is that the subject matter experts\\nonly need to assess a risk’s probability within a range rather than as a specifi c value. An example, assuming\\nthat a 5×5 Probability and Impact Matrix is desired, is shown in Figure D11 where the probability ranges are\\nmore tightly defi ned at low levels of probability.\\nExamples of impact level defi nitions are very project-specifi c. The values used to specify the level of impact\\nfrom very low to very high (if a 5×5 matrix is being used) should be:\\n• H igher impact, for threats or opportunities, as they move from very low to very high for a specifi c\\nobjective\\n• L evels are defi ned by the organization as causing the same amount of pain or gain to the project for\\neach level across objectives\\n• I f a risk’s possible impact is uncertain and could be assigned to more than one level of impact (e.g.\\nfrom moderate to high) the analyst may choose to assign the risk to the impact level that represents\\nthe expected or average impact. Alternatively, the risk may be fl agged for extra analysis in order to\\nreduce the range of uncertainty to fi t within a single range.\\nA n example of impact level defi nitions is shown in Figure D11. These defi nitions should be tailored or scaled\\nby stakeholders to the specifi c project. The defi nitions, appropriately tailored to the project, can be used for\\nopportunities and threats.\\n©2009 Project Management Institute. Practice Standard for Project Risk Management\\n88',\n",
       " 101: 'D\\nAPPENDIX D\\nFigure D11. Example of Definitions for Levels of Probability and Impact on Four Specific Objectives\\nUsed to Evaluate Individual Risks.\\nN ote—Opportunities are to be treated as representing a positive saving in time or cost, or increased\\nfunctionality. For threats, each impact scale is interpreted negatively, i.e. time delays, increased cost, or\\nreduced functionality.\\nD .3.1.2 Probability and Impact Matrix\\nOrganizations typically assess a risk’s priority on an objective from the combination of probability of\\noccurrence and impact on that project objective, using defi nitions such as those shown in Figure D11. Risks\\nare then placed on a probability and impact (P-I) matrix, such as one shown below. This matrix includes both\\nthreats and opportunities.\\nFigure D12. Example of Probability-Impact Matrix Used to Sort Risks (Threats and Opportunities) into\\nHigh Risk (H), Moderate Risk (M) and Low Risk (L) Classes\\n©2009 Project Management Institute. Practice Standard for Project Risk Management\\n89',\n",
       " 102: 'D\\nAPPENDIX D\\nD.3.1.3 Analytic Hierarchy Process (AHP)\\nA HP is a method to calibrate preferences for achieving the different objectives of a project. Do they prefer\\nto achieve time more than cost? Is quality more important than scope? What is the relative weighting of the\\nproject’s objectives in terms of their priority to the stakeholders or to management? The results are weights\\n(summing to 100%) that refl ect the relative priority of each objective. This prioritization can be important in\\ndetermining how trade-offs affecting different objectives (e.g., Should we reduce scope to fi nish on time?)\\nwill be decided. It can also be used to create an overall project risk priority list from risks that have been\\nassessed on their implications for individual objectives. Specialized software implementing AHP is available. A\\nspreadsheet implementation is shown below.\\nFigure D13. Example of Analytic Hierarchy Process Computations to Determine the Relative Weighting\\nof Four Project Objectives\\n©2009 Project Management Institute. Practice Standard for Project Risk Management\\n90',\n",
       " 103: 'D\\nAPPENDIX D\\nD.4 Techniques, Examples and Templates for Perform Quantitative Risk\\nAnalysis (Chapter 7)\\nP erform Quantitative Risk Analysis seeks to determine the overall risk to project objectives when all risks\\npotentially operate simultaneously on the project. It provides answers to several questions:\\n• H ow likely is the project to complete on the schedule date or earlier? How likely is the project actual cost\\nto be the budgeted cost or less? How reliable will the product be that the project produces? What is the\\nbest decision to make in the face of uncertain results?\\n• H ow much contingency in time and cost is needed to provide the organization with its desired degree of\\nconfi dence in the results? How should the design of the product or system be changed most economically\\nto increase its reliability?\\n• What are the individual risks that seem to be the most important in determining the overall project risk?\\nD.4.1 Techniques for Perform Quantitative Risk Analysis\\nExamples of techniques for Perform Quantitative Risk Analysis are found shown in Table D4 and details are\\ngiven in D.4.1.1 through D.4.1.5\\nCSFs For effective\\nTechnique Strengths Weaknesses application\\nDecision Tree Analysis • Causes the • It is sometimes • Careful structuring of\\norganization to diffi cult to create the the decision tree. All\\nstructure the costs decision structure alternative decisions\\nand benefi ts of • Probabilities of that are materially\\ndecisions when occurrences can be different should be\\nthe results are diffi cult to quantify considered; decision\\ndetermined in part by in the absence of trees should be\\nuncertainty and risk historical data specifi ed completely\\n• Solution of the • The best decision may • Access to high-quality\\ndecision tree helps change with relatively data about probability,\\nselect the decision plausible changes in cost and reward for\\nthat provides the the input data, meaning the decisions and\\nhighest Expected that the answer may events specifi ed using\\nMonetary Value or not be stable historical information\\nexpected utility to the or judgment of\\n• The organization may\\norganization experts\\nnot make decisions\\nbased on a linear • Use of a utility\\nExpected Monetary function that has\\nValue basis but rather been validated with\\non a non-linear utility the organization’s\\nfunction; utility functions decision makers\\nare diffi cult to specify\\n(continued)\\n©2009 Project Management Institute. Practice Standard for Project Risk Management\\n91',\n",
       " 104: 'D\\nAPPENDIX D\\nCSFs for Effective\\nTechnique Strengths Weaknesses Application\\n• The organization may • Availability and\\nnot make decisions understanding of the\\nbased on a linear specialized software\\nExpected Monetary needed to structure\\nValue basis but rather and solve the\\non a non-linear decision tree\\nutility function. Utility\\nfunctions are diffi cult\\nto specify\\n• Decision tree analysis\\nof complicated\\nsituations requires\\nspecialized (though\\navailable) software\\n• There may be some\\nresistance to using\\ntechnical approaches\\nto decision-making\\nExpected Monetary Value • EMV allows the user • Assessment of • Identifi cation of all\\n(EMV) to calculate the probability of risky possible events that\\nweighted average events’ occurring and need to be included in\\n(expected) value of an of their impact can be the EMV calculation\\nevent that includes diffi cult to make • Access to historical\\nuncertain outcomes • EMV provides only data or expert\\n• It is well-suited to the expected value opinions on the\\nDecision Tree Analysis of uncertain events; values of probability\\n• EMV incorporates risk decisions and impact that\\nboth the probability often require more are needed for the\\nand impact of the information than EMV calculation of EMV\\nuncertain events can provide • Understanding of the\\n• EMV is a simple • EMV is sometimes difference between\\ncalculation that used in situations EMV and the output\\ndoes not require where Monte Carlo of simulation tools\\nspecialized software simulation would be such as Monte Carlo\\nmore appropriate and analysis\\nprovide additional\\ninformation about risk\\nFMEA/Fault Tree Analysis\\n→ see Chapter 5\\n©2009 Project Management Institute. Practice Standard for Project Risk Management\\n92',\n",
       " 105: 'D\\nAPPENDIX D\\nCSFs For Effective\\nTechnique Strengths Weaknesses Application\\nMonte Carlo Simulation • Used primarily for • Schedules are • Creation of a good\\nproject schedule and not simple and project model. Typical\\ncost risk analysis in often cannot be models include the\\nstrategic decisions used in simulation cost estimate and the\\n• Allows all specifi ed without significant schedule\\nrisks to vary de-bugging by an • Use summary-level\\nsimultaneously expert scheduler models such as\\n• Calculates • The quality of the project schedules and\\nquantitative estimates input data depends cost estimates\\nof overall project risk; heavily on the expert • Access to high-\\nrefl ects the reality judgment and the quality data on risks\\nthat several risks may effort and expertise of including the risk’s\\noccur together on the the risk analyst impact on project\\nproject • Simulation is elements, uncertain\\n• Provides answers sometimes resisted activity durations\\nto questions such by management as and uncertain\\nas (1) How likely is being unnecessary cost elements; the\\nthe base plan to be or too sophisticated credibility depends on\\nsuccessful? (2) How compared to the quality of the data\\nmuch contingency traditional project collected\\nin time and cost do management tools • Use of correct\\nwe need to achieve • Monte Carlo simulation tools\\nour desired level of simulation requires\\nconfi dence? specialized software\\n(3) Which activities which must be\\nare important in acquired and learned,\\ndetermining the causing a barrier to\\noverall project risk? its use\\n• Will produce\\nunrealistic results\\nunless input data\\ninclude both threats\\nand opportunities\\nPost-project reviews/\\nLessons Learned/\\nHistorical Information\\n→ see Chapter 5\\nSystem Dynamics\\n→ see Chapter 5\\n©2009 Project Management Institute. Practice Standard for Project Risk Management\\n93',\n",
       " 106: 'D\\nAPPENDIX D\\nD.4.1.1 Decision Tree Analysis\\nDecision tree analysis is usually performed using specialized, but widely available software. The software\\nallows the user to specify the structure of the decision with decision nodes, chance nodes, costs, benefi ts, and\\nprobabilities. The user can also evaluate the different decisions using linear utility functions based on Expected\\nMonetary Value or on non-linear utility functions of various shapes. An example is shown below where:\\n• The negative numbers represent outfl ows or investments (e.g. COTS)\\n• The percentages represent probabilities of the event occurring (e.g., Major Problems)\\n• The positive numbers represent rewards or values (e.g., after “Fix the Problem”)\\n• “True” indicates the decision option taken from the square decision node, whereas “false”\\nindicates the decision option not taken\\nFigure D14. Example of a Decision Tree for Choosing between an Experimental Technology vs.\\nCommercial Off the Shelf (COTS) Technology\\nSource: Precision Tree from Palisade Corporation\\nD.4.1.2 Expected Monetary Value\\nExpected Monetary Value (EMV) is a simple calculation of a value such as weighted average or expected cost\\nor benefi t when the outcomes are uncertain. All reasonable alternative outcomes are identifi ed. Their probabilities\\nof occurring (summing to 100%) and their values are estimated. The EMV calculation is made for the entire event\\nby weighting the individual possible outcomes by their probabilities of occurring, as shown in Figure D15.\\nD.4.1.3 Monte Carlo Simulation\\nMonte Carlo simulation is a detailed, computer-intensive simulation approach to determining the value and\\nprobability of possible outcomes of a project objective such as a project schedule (e.g., the completion date) or\\ncost estimate (e.g., the total cost). It computes the schedule or cost estimate many times using inputs drawn at\\n©2009 Project Management Institute. Practice Standard for Project Risk Management\\n94',\n",
       " 107: 'D\\nAPPENDIX D\\nFigure D15. Example of an Expected Monetary Value Calculation when there are Three Uncertain\\nProduct Demand Scenarios\\nrandom from ranges specifi ed with probability distribution functions for schedule activity durations or cost line-\\nitems. The solutions using these different input values are used to build a histogram of possible project outcomes\\nand their relative probability, and cumulative probability from which to compute desired contingency reserves of\\ntime or cost. Additional results include the relative importance of each input in determining the overall project cost\\nand schedule. Examples of the output of schedule and cost risk results are shown in Figures D16 and D17.\\nD.4.1.4 Monte Carlo Analysis of Finish Dates in Quantitative Schedule Risk Analysis\\nFigure D16. Example Histogram from Monte Carlo Simulation of a Project Schedule\\nSource: Pertmaster v. 8.0 Primavera Pertmaster\\n©2009 Project Management Institute. Practice Standard for Project Risk Management\\n95',\n",
       " 108: 'D\\nAPPENDIX D\\nD.4.1.5 Monte Carlo Analysis of Project Cost at Completion in Quantitative Cost Risk Analysis\\nFigure D17. Example Histogram from Monte Carlo Simulation of a Project Cost Estimate\\nSource: Crystal Ball v. 7.3.8 from Oracle Hyperion (Decisioneering)\\nD.5 Techniques, Examples, and Templates for Plan Risk Responses\\n(Chapter 8)\\nP lan Risk Responses develops the set of actions required to take into account the project’s risks and\\ntheir characteristics, and integrates them into the corresponding project management plan. The resultant plan\\nshould satisfy the risk appetites and attitudes of the key stakeholders.\\nD.5.1 Techniques for Plan Risk Response\\nTechniques for Plan Risk Responses are given in Table D5 and Sections D.5.1.1 through D.5.1.5.\\nTechnique Strengths Weaknesses CSFS for Effective\\nApplication\\nBrainstorming\\n→ see Chapter 5\\nCheck Lists\\n→ see Chapter 5\\nContingency planning • Ensures that actions • Can give a false feeling • The trigger conditions\\nare available to address of confi dence – as must be clearly\\nsignifi cant events if the risk had been defi ned and tracked\\nbefore their occurrence avoided\\n©2009 Project Management Institute. Practice Standard for Project Risk Management\\n96',\n",
       " 109: 'D\\nAPPENDIX D\\nCSFs for Effective\\nTechnique Strengths Weaknesses Application\\n• Allows rapid and • The plans need to be\\nfocussed response validated periodically\\n• Improves image of • Willingness of the\\nprofessionalism of organization to\\nthe way in which the execute the plan and\\nproject is managed provide the budget\\nand resources when\\nthe trigger condition\\noccurs\\nContingency reserve • Provides a rationale • Makes the reserve • Policy for reserve\\nestimation for reserves visible and therefore management agreed\\n• Basis for constructive liable to be reduced with sponsor and\\ndiscussion with arbitrarily senior management\\nsponsor\\nCritical Chain Project • Along with many other • Feeding buffers can • Requires a fully\\nManagement (CCPM) approaches, insists deal with predictable resourced project\\non resolving resource common cause schedule\\navailability issues variation, but may be • Understanding of,\\nwhen developing the inadequate to cater and acceptance\\nschedule for special causes by management\\n• Addresses schedule • “Indicative” start and project team\\nrisk by the addition and end dates can members that the\\nof “feeding buffers” disturb conventional activity dates are\\nto absorb statistical management indicative rather than\\nvariations on the expectations, defi nitive promises,\\ndurations of non-critical and may cause being generally set\\npath activities to reduce problems for to provide a 50%\\ntheir contribution to setting intermediate confi dence level\\nschedule risk milestones • Equitable sharing\\n• Partly mitigates • Assumption that base of the buffers by\\nfi nancial risk by estimates represent all team members\\ncontrolling the amount 50% confi dence concerned\\nof “work in process” levels (this weakness\\n• “Buffer penetration” is not followed in all\\nthresholds can be used variants of this class\\nas trigger condition of tool)\\nfor specifi c response • Not all project\\nactions schedules are fully\\n• Special software is resourced\\navailable for creating\\nand managing the\\nbuffers\\n(continued)\\n©2009 Project Management Institute. Practice Standard for Project Risk Management\\n97',\n",
       " 110: 'D\\nAPPENDIX D\\nCSFs for Effective\\nTechnique Strengths Weaknesses Application\\nDecision Tree Analysis • Allows calculation\\n→ see Chapter 7 of the expected\\nmonetary values of\\nvarious response\\noptions as well as the\\nvalue of the outcomes\\nin the worst case and\\nthe best case\\nDelphi Technique • Involves selected\\n→ see Chapter 5 experts in the process\\nExpected Monetary • Provides an estimate\\nValue (EMV) of the potential\\nbenefi t of a risk\\n→ see Chapter 7\\nresponse\\nForce Field Analysis • The diagram can\\n→ see Chapter 5 suggest where best to\\napply the responses\\nIndustry knowledge base • Some risks have\\n→ see Chapter 5 standard responses\\nInterviews • Experienced\\n→ see Chapter 5 practitioners can\\nprovide both new\\nideas and act as\\n“devil’s advocate” for\\npotential responses\\nNominal Group • Useful as a creativity\\nTechnique technique for\\ngenerating novel\\n→ see Chapter 5\\nresponses\\nMulti-criterion selection • Provide a means • Can give counter- • Needs an agreed set\\ntechniques of selecting the intuitive results of weighted project\\nresponses that best success criteria\\nsupports the full set\\nof project objectives\\nPost-project reviews/ • Leverages previous\\nLessons Learned/ experience\\nHistorical Information\\n→ see Chapter 5\\n©2009 Project Management Institute. Practice Standard for Project Risk Management\\n98',\n",
       " 111: 'D\\nAPPENDIX D\\nCSFs for Effective\\nTechnique Strengths Weaknesses Application\\nPrompt Lists • Stimulates creativity\\n→ see Chapter 5\\nQuantitative Risk • Provides a means • Can be too involved • Prior effective\\nAnalysis of evaluating the or complex for the qualitative analysis\\npotential effect benefi t envisaged\\n→ see Chapter 7\\nof the response\\nplans on the overall\\nproject risk\\nRoot-Cause Analysis • Allows the\\n→ see Chapter 5 organization\\nto identify and\\nto address the\\nfundamental\\ncauses of risks\\nfor effi cient and\\neffective responses;\\nresponding at\\nthe level of the\\nroot cause may\\neffectively address\\nmultiple risks\\n• Can provide a\\nmeans of identifying\\nsymptoms for use\\nas trigger conditions\\nfor contingent\\nresponses\\nScenario Analysis • Provides view of the • Adds to the list of • All participants need\\npotential effect of assumptions a good understanding\\nthe relevant risk and • Can be time of the project plans\\nthe corresponding consuming\\nresponse strategy\\n• Forces the\\nparticipants to\\nanalyze the effect of\\nany strategy\\n• Helps to identify\\nsecondary risks\\n©2009 Project Management Institute. Practice Standard for Project Risk Management\\n99',\n",
       " 112: 'D\\nAPPENDIX D\\nD.5.1.1 Contingency Planning\\nFor specifi c (normally high-impact) risks, the risk owner may choose to assemble a team to develop a\\nresponse, as if the risk had genuinely happened. The corresponding plan, with the supporting information,\\nshould then be documented and approved at project management or sponsor level. This approval must include\\nauthorization to deploy the corresponding resources if the predefi ned trigger conditions arise. No templates or\\nexamples are presented.\\nD.5.1.2 Contingency Reserve Estimation\\nA ll of the conditional response plans, as well any of the residual risks will, if they occur, have an effect on the\\nschedule and/or budget and/or performance objectives of the project. An amount (time and cost) needs to be\\nset aside to allow for these eventualities. This amount is made up of two components: those to cover specifi c,\\napproved conditional responses (e.g. contingency plans), and those to address unspecifi ed or passively accepted\\nrisks. Quantitative methods (see chapter 7) can be used to determine the amounts that should be set aside (e.g.\\ndecision trees for conditional responses, simulation for the set of unspecifi ed risks). These reserves are tracked\\nand managed in Monitor and Control Risks (chapter 9). No templates or examples are presented.\\nD.5.1.3 Multi-Criteria Selection Techniques\\nT his is an adaptation of the Perform Qualitative Risk Analysis Process (chapter 6) based on selection criteria.\\nThe example below shows the use of a spreadsheet to calculate the weighted scores of two options, based on\\na predefi ned set of prioritized criteria: “points” is the product of “weight” by “rating.”\\nFigure D18. Example of Comparing Options by their Ratings Along Four Prioritized Criteria\\nD.5.1.4 Scenario Analysis\\nScenario analysis for risk response planning involves defi ning several plausible alternative scenarios (e.g.\\nno change and all goes to plan, disaster occurs, utopia etc). The different scenarios may require different risk\\nresponses that can be described and evaluated for their cost and effectiveness. If the organization can choose\\nbetween scenarios, the alternatives including the responses can be compared. If the scenarios are out of the\\ncontrol of the organization, the scenario analysis can lead to effective and necessary contingency planning.\\n©2009 Project Management Institute. Practice Standard for Project Risk Management\\n100',\n",
       " 113: 'D\\nAPPENDIX D\\nNo template is offered for this technique.\\nD.5.1.5 Critical Chain Project Management\\nA simple critical chain network is shown in Figure D19.\\nFigure D19. Simple Critical Chain Network\\nD.6 Techniques, Examples and Templates for Monitor and Control Risks\\n(Chapter 9)\\nM onitor and Control Risks provides the assurance that risk responses are being applied, verifi es whether\\nthey are effective and as necessary initiates corrective actions.\\nD.6.1 Techniques for Monitor and Control Risks Process\\nTechniques for Monitor and Control Risks are given in Table D6 and D.6.1.1 through D.6.1.6.\\nTABLE D6. Monitor and Control Risks Example\\nCSFs for Effective\\nTechnique Strengths Weaknesses Application\\nCritical Chain Project • Use of buffer\\nManagement (CCPM) penetration to trigger\\nactions such as\\n→ see Chapter 8\\nadjusting the relative\\npriority of tasks\\n(continued)\\n©2009 Project Management Institute. Practice Standard for Project Risk Management\\n101',\n",
       " 114: 'D\\nAPPENDIX D\\nCSFs for Effective\\nTechnique Strengths Weaknesses Application\\nReserve Analysis • Provides a means of • Could lead to • Prior detailed reserve\\ntracking spend and unwarranted focus on planning\\nreleasing contingency cost dimension • Accurate sizing of\\namounts as risks • Attention to overall the contingency\\nexpire; can be applied measure of reserve reserve of time or\\nto schedule reserves depletion may hide cost relative to the\\nin the same way detailed risks risk to overall project\\n• Gives early warning of completion date and\\nneed to communicate budget\\nwith sponsor\\nRisk Audits • Provide a formal • Can be disruptive to • Well-specifi ed risk\\nassessment of the the project and taken management plan\\ncompliance with the as too judgemental to • Sensitivity to the\\napproach specifi ed in the project team burden it places on\\nthe risk management the project team\\nplan\\nRisk Reassessment • Forces a review of • Takes time and effort • Well-maintained\\nthe project risks project and risk\\nwhen it becomes documentation\\nnecessary so that the scheme\\nrisk register remains\\nup-to-date\\nStatus Meetings • Provide a means of • Can seem • Good meeting\\nverifying information unnecessary to some preparation and\\nabout the status participants discipline\\nof risks (active,\\noccurred, retired) and\\nmaintaining team\\nunderstanding\\nTrend Analysis • Provides an indication • Requires • Regular reporting and\\nof the effectiveness of understanding of analysis of the critical\\nearlier responses signifi cant vs. non- values\\n• Can provide trigger signifi cant variation\\nconditions for\\nresponses\\n©2009 Project Management Institute. Practice Standard for Project Risk Management\\n102',\n",
       " 115: 'D\\nAPPENDIX D\\nCSFs for Effective\\nTechnique Strengths Weaknesses Application\\nVariance Analysis • Allows comparison • Does not show • Realistic prior\\nbetween forecast and relationship with defi nitions of\\nactual risk impacts earlier data thresholds for\\n• Can provide trigger • The values can be “signifi cant variance”\\nconditions for taken out of context\\nresponses\\n• Provides data\\nfor Earned Value\\nAnalysis which can\\nbe compared to\\nquantitative risk\\nanalysis results\\nD.6.1.1 Reserve Analysis\\nAn analytical technique to determine the essential features and relationships of components in the\\nproject management plan to establish a reserve for the schedule duration, budget, estimated cost, or\\nfunds for a project. Tracking the state of the reserve through project execution will provide summary\\ninformation as to the evolution of the status of the corresponding risks. This information can be useful\\nwhen reporting up the organization to those responsible for several projects. In addition, once a\\ncorresponding risk occurs or ceases to be current (i.e. when it can no longer impact the project), the\\ncorresponding reserve needs to be reviewed in order to assess whether it still provides the agreed level\\nof confidence.\\nTime buffers can be used in two different ways:\\n• To provide for accepted schedule risks, as described above or\\n• As a scheduling-related technique in critical chain project management (CCPM).\\nIn contrast with the contingency reserve for identified risks, the buffers in CCPM provide a shared\\nmechanism for accommodating the natural variability of activity durations over a sequence (or chain) of\\nactivities. Tracking the rate at which each such buffer is used during project execution provides valuable\\ninformation at a given point in time as to the level of schedule risk along that chain, and is used in\\nCCPM for adapting the priority or management focus for additional analysis and as necessary triggering\\nfurther risk management activities.\\nNo templates or examples are presented.\\n©2009 Project Management Institute. Practice Standard for Project Risk Management\\n103',\n",
       " 116: 'D\\nAPPENDIX D\\nD.6.1.2 Risk Audits\\nRisk audits are carried out in order to evaluate:\\n• Are the risk management rules being carried out as specifi ed ?\\n• Are the risk management rules adequate for controlling the project ?\\nNo templates or examples are presented.\\nD.6.1.3 Risk Reassessment\\nThe objective of risk reassessment is to ensure that the full risk management cycle is repeated as required\\nto ensure effective control. See Figure D20.\\nFigure D20. The Risk Reassessment Process\\nD.6.1.4 Status Meetings\\nRisks can and should be on the agenda at all project reviews. Typically, the agenda items should cover the\\nfollowing:\\n• Top priority risks at present.\\n○ Are there any changes?\\n• Risks or trigger conditions that have occurred .\\n○ What is the status of the actions?\\n©2009 Project Management Institute. Practice Standard for Project Risk Management\\n104',\n",
       " 117: 'D\\nAPPENDIX D\\n• Risks responded to in the last period .\\n○ Effectiveness of actions taken .\\n○ Are there any additional actions required?\\n• Risks closed in the last period .\\n○ Impact on the plans .\\n• Lessons to be added to the Organizational Process Assets .\\nD.6.1.5 Trend Analysis\\nThe evolution of the variance values over time should be analyzed in order to evaluate how the risk profi le\\nis changing, whether previous actions are having the expected effect and whether additional actions are\\nrequired. The Earned Value formulae of the “to complete performance index” can be used to assess changes\\nwith respect to time and cost. No templates or examples are presented.\\nD.6.1.6 Variance Analysis\\nThe formulae in Earned Value Analysis (CV, SV, CPI, SPI) can be used to set thresholds for action, and to\\nindicate when the risk process may be ineffective. Earned value management systems (EVMS) use variance\\nfrom plan as the basis of forecasts or extrapolations to the cost at completion. Projections made using EVMS\\nhave been shown by experience to be reliable early in the project, e.g., 20% into the execution. No templates\\nor examples are presented.\\n©2009 Project Management Institute. Practice Standard for Project Risk Management\\n105',\n",
       " 118: '',\n",
       " 119: 'E\\nAPPENDIX E\\nREFERENCES\\nA ssociation for Project Management. 2004. P roject risk analysis & management (PRAM) guide (second edition).\\nHigh Wycombe, Bucks UK: APM Publishing, ISBN 1-903494-12-5.\\nAS/NZS 4360:2004. Risk management. Published jointly by Standards Australia, Homebush NSW 2140,\\nAustralia, and Standards New Zealand, Wellington 6001, New Zealand, ISBN 0-7337-5904-1.\\nBS6079-3:2000. Project Management—Part 3. Guide to the management of business-related project risk .\\nLondon, UK: British Standards Institute, ISBN 0-580-33122-9.\\nBS31100:2007 Code of practice for risk management . London, UK: British Standards Institute.\\nB S/IEC 62198:2001 Project risk management—Application guidelines. London, UK: British Standards Institute,\\nISBN 0-580-390195.\\nB SI/PD ISO/IEC Guide 73:2002. Risk management vocabulary—Guidelines for use in standards. London, UK:\\nBritish Standards Institute, ISBN 0-580-401782.\\nIEEE Standard 1540-2001. Standard for software life cycle processes—Risk management . Piscataway, NJ,\\nUSA: Institute of Electrical and Electronic Engineers, Inc., 2001.\\nInstitute of Risk Management (IRM), National Forum for Risk Management in the Public Sector (ALARM) and Association\\nof Insurance and Risk Managers (AIRMIC). 2002. A risk management standard. London UK: IRM/ALARM/AIRMIC.\\nInstitution of Civil Engineers, Faculty of Actuaries and Institute of Actuaries. 2005. R isk Analysis & Management\\nfor Projects (RAMP) (second edition) . Westminster, London, UK: Thomas Telford, ISBN 0-7277-3390-7.\\nISO 31000. R isk management—Guidelines on principles and implementation of risk management . Geneva,\\nSwitzerland: International Organization for Standardization.\\nJ IS Q2001:2001(E). 2001. Guidelines for development and implementation of risk management system .\\nJapanese Standards Association.\\nCAN/CSA-Q850-97. Risk management: Guideline for decision-makers. Ontario, Canada: Canadian Standards\\nAssociation. ISSN 0317-5669.\\nProject Management Institute. 2004. A guide to the project management body of knowledge (PMBOK® Guide) —\\nThird Edition. Newtown Square, PA USA: Project Management Institute.\\nUK Offi ce of Government Commerce (OGC). 2007. Management of risk—Guidance for practitioners . London,\\nUK: The Stationery Offi ce, ISBN 0-11331038-2.\\n©2009 Project Management Institute. Practice Standard for Project Risk Management\\n107',\n",
       " 120: '',\n",
       " 121: 'GLOSSARY\\nAssumptions. Assumptions are factors that, for planning purposes, are considered to be true, real, or\\ncertain without proof or demonstration. Assumptions affect all aspects of project planning and are part of the\\nprogressive elaboration of the project. Project teams frequently identify, document, and validate assumptions\\nas part of their planning process. Assumptions generally involve a degree of risk.\\nBenefi t. Positive effect on a project objective arising from the occurrence of an opportunity.\\nBias. During information gathering about risk, the source of information exhibits a preference or an inclination\\nthat inhibits impartial judgment. Types of bias which commonly affect the risk process include cognitive and\\nmotivational bias.\\nCause. Events or circumstances which currently exist and which might give rise to risks.\\nConsequence. See im pact .\\nConstraint. The state, quality, or sense of being restricted to a given course of action or inaction. An applicable\\nrestriction or limitation, either internal or external to a project, which will affect the performance of the project\\nor a process.\\nContingency Reserve. The amount of funds, budget, or time needed above the estimate to reduce the risk of\\noverruns of project objectives to a level acceptable to the organization.\\nContingency Plan. A plan developed in anticipation of the occurrence of a risk, to be executed only if specifi c,\\npredetermined trigger conditions arise.\\nDecision Tree Analysis. The decision tree is a diagram that describes a decision under consideration and the\\nimplications of choosing one or another of the available alternatives. It is used when some future scenarios or\\noutcomes of actions are uncertain. It incorporates probabilities and the cost or rewards of each logical path of\\nevents and future decisions, and uses expected monetary value analysis to help the organization identify the\\nrelative values of alternative actions.\\nEffect. Conditional future events or conditions which would directly affect one or more project objectives if the\\nassociated risk happened.\\nEmergent Risk. A risk which arises later in a project and which could not have been identifi ed earlier on.\\nIdentify Risks. The process of determining which risks may affect the project and documenting their\\ncharacteristics.\\nImpact. A measure of the effect of a risk on one or more objectives if it occurs. Also known asc onsequence .\\n©2009 Project Management Institute. Practice Standard for Project Risk Management\\n109',\n",
       " 122: 'GLOSSARY\\nIndividual Risk. A specifi c uncertain event or condition which, if it occurs, has a positive or negative effect on\\nat least one project objective.\\nIssue. See p roblem .\\nLikelihood. See p robability .\\nMonitor and Control Risks. The process of implementing risk response plans, tracking identifi ed risks, monitoring\\nresidual risks, identifying new risks, and evaluating the risk process throughout the project life cycle.\\nMonte Carlo Analysis. A technique that computes or iterates the project cost or project schedule many times\\nusing input values, selected at random from probability distributions of possible costs or durations, to calculate\\na distribution of possible total project cost or completion dates.\\nObjective. Something toward which work is to be directed, a strategic position to be attained or a purpose to\\nbe achieved, a result to be obtained, a product to be produced, or a service to be performed.\\nOpportunity. A condition or situation favorable to the project, a positive set of circumstances, a positive set\\nof events, a risk that will have a positive impact on project objectives, or a possibility for positive changes.\\nContrast with threat .\\nOverall Project Risk. Overall project risk represents the effect of uncertainty on the project as a whole. Overall\\nproject risk is more than the sum of individual risks on a project, since it applies to the whole project rather\\nthan to individual elements or tasks. It represents the exposure of stakeholders to the implications of variations\\nin project outcome measured in terms of the corresponding objectives.\\nPerform Qualitative Risk Analysis. The process of prioritizing risks for further analysis or action by assessing\\nand combining their probability of occurrence and impact.\\nPerform Quantitative Risk Analysis. The process of numerically analyzing the effect of identifi ed risks on\\noverall project objectives.\\nPlan Risk Management. The process of defi ning how to conduct risk management activities for a project.\\nPlan Risk Responses. The process of developing options and actions to enhance opportunities and to reduce\\nthreats to project objectives.\\nProbability. A measure of how likely an individual risk is to occur. Also known asl i kelihood .\\nProblem. Negative effect on a project objective arising from occurrence of a threat.\\nProject Risk Management. Project Risk Management includes the processes concerned with conducting\\nrisk management planning, identifi cation, analysis, responses, and monitoring and control on a project. The\\npurpose of Project Risk Management is to increase the probability and impact of positive events and decrease\\nthe probability and impact of events adverse to project objectives.\\n©2009 Project Management Institute. Practice Standard for Project Risk Management\\n110',\n",
       " 123: 'GLOSSARY\\nResponse Strategy. A high-level approach to address an individual risk or overall project risk, broken down\\ninto a set of risk actions.\\nRisk. An uncertain event or condition that, if it occurs, has a positive or negative effect on a project’s\\nobjectives.\\nRisk Action. A detailed task which implements in whole or in part a response strategy in order to address an\\nindividual risk or overall project risk.\\nRisk Action Owner. The person responsible for carrying out the approved risk actions for responding to a\\ngiven risk. Also known as “response owner” when the context allows it.\\nRisk Attitude. A chosen mental disposition towards uncertainty, adopted explicitly or implicitly by individuals\\nand groups, driven by perception, and evidenced by observable behavior. Risk attitude exists on a continuous\\nspectrum, but common risk attitudes include risk averse, risk tolerant, risk neutral and risk seeking.\\nRisk Breakdown Structure (RBS) [Tool] A hierarchically organized depiction of the identifi ed project risks\\narranged by risk category and subcategory that identifi es the various areas and causes of potential risks. The\\nrisk breakdown structure is often tailored to specifi c project types.\\nRisk Category. A group of potential causes of risk. Risk causes may be grouped into categories such as technical,\\nexternal, organizational, environmental, or project management. A category may include subcategories such as\\ntechnical maturity, weather, or aggressive estimating. See also R isk Breakdown Structure (RBS)\\nRisk Exposure. A measure of overall project risk describing the overall effect of identifi ed risks on objectives.\\nRisk Management Plan. The document describing how Project Risk Management will be structured and\\nperformed on the project. It is contained in or is a subsidiary plan of the project management plan. The risk\\nmanagement plan can be informal and broadly framed, or formal and highly detailed, based on the needs\\nof the project. Information in the risk management plan varies by application area and project size. The\\nrisk management plan is different from the risk register that contains the list of project risks, the results of\\nrisk analysis, and the risk responses.\\nRisk Metalanguage. A structured description of a risk which separates cause, risk, and effect. A typical risk\\ndescription using risk metalanguage might be in the form: “Because of <cause>, <risk> might occur, which\\nwould lead to <effect>.”\\nRisk Model. A representation of the project including data about project elements and risks that can be\\nanalyzed by quantitative methods.\\nRisk Owner. The person responsible for ensuring that an appropriate response strategy is selected and\\nimplemented, and for determining suitable risk actions to implement the chosen strategy, with each risk action\\nassigned to a single risk action owner.\\n©2009 Project Management Institute. Practice Standard for Project Risk Management\\n111',\n",
       " 124: 'GLOSSARY\\nRisk Register. The document containing the results of the qualitative risk analysis, quantitative risk analysis,\\nand risk response planning. The risk register details all identifi ed risks, including description, category, cause,\\nprobability of occurring, impact(s) on objectives, proposed responses, owners, and current status.\\nRisk Threshold. A measure of the level of risk exposure above which action must be taken to address risks\\nproactively, and below which risks may be accepted.\\nRoot Cause. An initiating cause that gives rise to a causal chain which may give rise to risks.\\nSecondary Risk. A risk that arises as a direct result of implementing a risk response.\\nStakeholder. Person or organization (e.g., customer, sponsor, performing organization, or the public) that is\\nactively involved in the project, or whose interests may be positively or negatively affected by execution or\\ncompletion of the project. A stakeholder may also exert infl uence over the project and its deliverables.\\nThreat. A condition or situation unfavorable to the project, a negative set of circumstances, a negative set of\\nevents, a risk that will have a negative impact on a project objective if it occurs, or a possibility for negative\\nchanges. Contrast with opportunity .\\nTrigger Condition. Circumstance under which a risk strategy or risk action will be invoked.\\n©2009 Project Management Institute. Practice Standard for Project Risk Management\\n112',\n",
       " 125: 'INDEX\\nA D\\nAction planning, 48 Data, collecting and analyzing, 34\\nAgreed-upon approach, 32 Data gathering tools, 40\\nAgreed-upon risk terms defi nitions, 32 Decision tree analysis, 37, 39\\nAppropriate project model, 39 Detail, level of, 27\\nAssumptions, 4, 5, 13, 43 Documenting results, 35, 55\\nAssumptions analysis, 28\\nB E\\nBias, 27 Early identifi cation, 25\\nBudgets, 19, 44–45 Effect, 9, 29\\nEmergent identifi cation, 26\\nC\\nEmergent risk, 16, 26\\nExposure, 50\\nCause, risk, and effect, 29\\nCommunication, 11\\nComplete risk statement, 26 H\\nCompliance, tracking, 55\\nHigh impact, 20\\nComprehensive identifi cation, 26\\nHigh-quality risk data, 39\\nComprehensive risk representation, 40\\nHigh-quality information, 33\\nConstraints, 5, 7, 13, 21, 43\\nHistorical review, 28\\nContingency plan, 47, 52\\nContingency reserve\\nplan risk responses, 45 I\\nproject risk management, 4, 10, 15\\nqualitative risk analysis, 32 Identify Risks, 25–29\\nquantitative risk analysis, 37–38, 41–42 Impact, 9\\nrisk monitoring and control, 54–55 Impact, high, 20\\nContingency response strategy, 48 Individual risk\\nCreativity techniques, 28–29 plan risk responses, 46–48\\nCredibility building, 32 project risk management, 10, 15–16\\nCritical success factors qualitative risk analysis, 33–34\\nplan risk responses, 44–46 quantitative risk analysis, 39–40\\nproject risk management, 6–7 risk monitoring and control, 54\\nqualitative risk analysis, 31–33 Issues, 10\\nquantitative risk analysis, 38–40 Iterative\\nrisk identifi cation process, 25–27 process, 11\\nrisk management plan, 21–22 qualitative risk analysis, 33\\nrisk monitoring and control, 53–54 quantitative risk analysis, 42\\nCurrent assessments, 28 risk identifi cation process, 26\\n©2009 Project Management Institute. Practice Standard for Project Risk Management\\n113',\n",
       " 126: 'INDEX\\nM ownership and responsibility assignment, 48–49\\nproject management plan and, 50\\nMonitor And Control Risks, 51–55 purpose and objectives, 43–44\\nMonte Carlo analysis, 37, 39, 40 quantitative risk analysis, 42\\nresources, budget, and schedule, 45\\nO\\nresponse identifi cation, 48\\nObjective response selection, 48\\nplan risk responses, 43–44 results, documenting, 50\\nqualitative risk analysis, 31 risk register and, 50\\nquantitative risk analysis, 37–38 roles and responsibilities, clear defi nition, 45\\nrisk identifi cation process, 25–26 steps involved, 49\\nrisk management plan, 19–21, 22 timing, specifying, 45\\nrisk monitoring and control, 51–52 tools and techniques, 47–49\\nObjectivity, 27 Prior risk identifi cation, 39\\nOpportunities Probability\\naddressing threats and, 46 Project Risk Management, 4, 9\\nexplicit identifi cation of, 26 qualitative risk analysis, 32, 34–35\\nplan risk responses, 46 quantitative risk analysis, 40–42\\nrisk identifi cation process, 26 Problem, 10, 15, 35\\nrisk response strategies, 47 Process-related criteria, 20\\nOverall project risk Project management plan, 50\\nplan risk responses, 47 Project manager, 12\\nProject Risk Management, 10, 15–16 Project monitoring and control, 53\\nqualitative risk analysis, 31 Project risk, 9–10\\nquantitative risk analysis, 37–39 Project Risk Management\\nrisk monitoring and control, 55 critical success factors, 6–7\\nOwnership, 27, 48–49. See also Risk action owner; Risk owner defi nition, 4\\nprocess, 14–16\\nP process fl ow diagram, 17\\nproject manager, role, 12\\nPerform Qualitative Risk Analysis, 31–35\\nresponsibility for, 12\\nPerform Quantitative RIsk Analysis, 37–42\\nrole in project management, 4–5\\nPlan Risk Management, 19–24\\nProject-related criteria, 20\\nprocess-related criteria, 20\\nproject-related criteria, 20 Q\\ntemplates, 23\\nPlan Risk Responses, 43–50 Qualitative risk analysis\\naction planning, 48 agreed-upon approach, 32\\naddressing threats and opportunities, 46 agreed-upon defi nitions of risk terms, 32\\nappropriate, timely, effective, and agreed-upon responses, assessing risk importance, 34\\nensuring, 46 categorizing risk causes, 35\\ncommunication with stakeholders, 44 collecting and analyzing data, 34\\ncritical success factors, 44–46 comparison with quantitative risk analysis, 38\\ndeveloping strategies before tactical responses, 46 credibility building, 32\\nexposure, reviewing and documenting, 50 critical success factors, 31–33\\ninteraction of risks and responses, 45–46 fl ow chart, 33\\n©2009 Project Management Institute. Practice Standard for Project Risk Management\\n114',\n",
       " 127: 'INDEX\\nhigh-quality information, 33 Risk assessment, 34\\niterative, 33 Risk attitude, 10–11, 20, 43\\nprioritizing risks, 34 Risk awareness, 54\\npurpose and objectives, 31 Risk breakdown structures (RBS), 23, 28, 35, 45\\nquantitative risk analysis and, 39 Risk categories, 21, 28, 31, 35, 45\\nresults documentation, 35 Risk causes, 35\\ntools and techniques, 33–35 Risk exposure, 16\\nQuantitative risk analysis Risk identifi cation\\nappropriate project model, 39 cause, risk, and effect, 29\\ncomparison with qualitative risk analysis, 38 complete risk statement, 26\\ncomprehensive risk representation, 40 comprehensive identifi cation, 26\\ncritical success factors, 38–40 creativity techniques, 28–29\\ndata gathering tools, 40 critical success factors, 25–27\\nhigh-quality risk data, commitment to collecting, 39 current assessments, 28\\ninterrelationships between risks, 40 detail, level of, 27\\noverall project risk derived from individual risks, 39 early identifi cation, 25\\nprior risk identifi cation, 39 emergent identifi cation, 26\\npurpose and objectives, 37–38 historical review, 28\\nqualitative risk analysis, 39 iterative identifi cation, 26\\nresponse planning, information, 42 multiple perspectives, 26\\nresults, documenting, 41 objectivity, 27\\nresults, effective presenting, 41 opportunities, explicit identifi cation, 26\\nrisk impact calculation, 40 ownership, 27\\nstructure, 41 project objectives, risks linked, 26\\ntools and techniques, 40–42 purpose and objectives, 25\\nunbiased data, 39 results, documenting, 29\\nuncertainty, appropriate analysis method, 40\\nthree perspectives, 27\\ntools and techniques, 27–29\\nR\\nRisk impact calculation, 40\\nRisk management, good practices, 5\\nRBS. See Risk breakdown structures\\nRisk management plan\\nResources, budget, and schedule, 45\\ncritical success factors, 21–22\\nResponse\\nelements of, 23\\nidentifi cation, 48\\norganization’s objectives, policies, and practices comp-\\nselection, 48\\nliance, 22\\nstrategy, 45, 48\\nplanning sessions, 22\\nResponsibility assignment, 48–49\\nprocess-related criteria, 20\\nResults\\nproject-related criteria, 20\\ndocumenting, 50\\npurpose and objectives, 19–21\\neffective presenting, 41\\nresults, documentation, 22\\nquantitative risk analysis, 41\\nrisk identifi cation process, 29 stakeholder involvement, 22\\nRisk, 9 success barriers, 21\\nRisk action owner templates, 23\\nplan risk responses, 43, 45, 46, 49 tools and techniques, 22–23\\nrisk monitoring and control, 51, 54 Risk meta-language, 29\\n©2009 Project Management Institute. Practice Standard for Project Risk Management\\n115',\n",
       " 128: 'INDEX\\nRisk model, 39–40 Stakeholder\\nRisk monitoring and control communication with, 44\\ncompliance, tracking, 55 project risk management involvement, 22\\ncontingency reserves, managing, 54–55 risk attitude, 10–11, 20, 43\\ncritical success factors, 53–54\\noverall risk, tracking, 55 T\\nproject monitoring and control, integrating with, 53\\nTemplates, 20–23\\npurpose and objectives of, 51–52\\nThreats, 9–10, 43, 46–47\\nresults documentation, 55\\nTiming, 45\\nrisk awareness, maintaining, 54\\nTools and techniques\\nschematic representation of, 53\\nplan risk responses, 47–49\\ntools and techniques, 54–55\\nqualitative risk analysis, 33–35\\ntrigger conditions, 54, 55\\nquantitative risk analysis, 40–42\\nRisk owner\\nrisk identifi cation, 27–29\\nplan risk responses, 43, 49\\nrisk management plan, 22–23\\nproject risk management, 15–16\\nrisk monitoring and control, 54–55\\nrisk identifi cation, 27, 29\\nTrigger conditions\\nrisk monitoring and control, 51, 54\\nplan risk responses, 43, 48\\nRisk prioritization, 34\\nrisk identifi cation, 27, 29\\nRisk register, 23, 29, 35, 50, 52\\nrisk monitoring and control, 51, 54, 55\\nRisk response strategies, 46, 47\\nRisk threshold, 14\\nU\\nRisks, interrelationships between, 40\\nRisks and responses, interaction, 45–46\\nUnbiased data, 39\\nRoles and responsibilities, 45\\nUncertainty\\nRoot cause, 31, 35, 40, 45\\nplan risk management, 20\\nproject risk management, 9–10, 13\\nS\\nquantitative risk analysis, 40\\nrisk identifi cation, 25–28\\nSchedules, 37–42, 45\\nSecondary risk, 18, 43, 46, 48\\n©2009 Project Management Institute. Practice Standard for Project Risk Management\\n116'}"
      ]
     },
     "execution_count": 40,
     "metadata": {},
     "output_type": "execute_result"
    }
   ],
   "source": [
    "page_text_dict"
   ]
  },
  {
   "cell_type": "code",
   "execution_count": 46,
   "metadata": {},
   "outputs": [
    {
     "name": "stdout",
     "output_type": "stream",
     "text": [
      "Running on local URL:  http://127.0.0.1:7880\n",
      "\n",
      "Could not create share link. Please check your internet connection or our status page: https://status.gradio.app.\n"
     ]
    },
    {
     "data": {
      "text/html": [
       "<div><iframe src=\"http://127.0.0.1:7880/\" width=\"100%\" height=\"500\" allow=\"autoplay; camera; microphone; clipboard-read; clipboard-write;\" frameborder=\"0\" allowfullscreen></iframe></div>"
      ],
      "text/plain": [
       "<IPython.core.display.HTML object>"
      ]
     },
     "metadata": {},
     "output_type": "display_data"
    },
    {
     "data": {
      "text/plain": []
     },
     "execution_count": 46,
     "metadata": {},
     "output_type": "execute_result"
    }
   ],
   "source": [
    "import gradio as gr\n",
    "\n",
    "# Define a global variable for the file path\n",
    "pdf_path = None\n",
    "\n",
    "def upload_pdf(file):\n",
    "    global pdf_path\n",
    "    if file is None:\n",
    "        pdf_path = None\n",
    "        return \"No file uploaded!\"\n",
    "    # Set the global variable to the file's path\n",
    "    pdf_path = file.name\n",
    "    return f\"File {file.name} uploaded successfully. You can now proceed with the notebook.\"\n",
    "\n",
    "# Create the Gradio interface for uploading the file\n",
    "interface = gr.Interface(\n",
    "    fn=upload_pdf,\n",
    "    inputs=gr.File(label=\"Upload PDF File\", file_types=[\".pdf\"]),\n",
    "    outputs=gr.Textbox(label=\"Status\")\n",
    ")\n",
    "\n",
    "# Launch the interface\n",
    "interface.launch(share=True)\n"
   ]
  },
  {
   "cell_type": "code",
   "execution_count": 49,
   "metadata": {},
   "outputs": [
    {
     "name": "stdout",
     "output_type": "stream",
     "text": [
      "Running on local URL:  http://127.0.0.1:7881\n",
      "\n",
      "Could not create share link. Please check your internet connection or our status page: https://status.gradio.app.\n"
     ]
    },
    {
     "data": {
      "text/html": [
       "<div><iframe src=\"http://127.0.0.1:7881/\" width=\"100%\" height=\"500\" allow=\"autoplay; camera; microphone; clipboard-read; clipboard-write;\" frameborder=\"0\" allowfullscreen></iframe></div>"
      ],
      "text/plain": [
       "<IPython.core.display.HTML object>"
      ]
     },
     "metadata": {},
     "output_type": "display_data"
    },
    {
     "data": {
      "text/plain": []
     },
     "execution_count": 49,
     "metadata": {},
     "output_type": "execute_result"
    }
   ],
   "source": [
    "import gradio as gr\n",
    "\n",
    "# Define a global variable for the file path\n",
    "pdf_path = None\n",
    "\n",
    "def upload_pdf(file):\n",
    "    global pdf_path\n",
    "    if file is None:\n",
    "        pdf_path = None\n",
    "        return \"No file uploaded!\"\n",
    "    # Set the global variable to the file's path\n",
    "    pdf_path = file.name\n",
    "    return f\"File {file.name} uploaded successfully. You can now proceed with the notebook.\"\n",
    "\n",
    "# Create the Gradio interface for uploading the file\n",
    "interface = gr.Interface(\n",
    "    fn=upload_pdf,\n",
    "    inputs=gr.File(label=\"Upload PDF File\", file_types=[\".pdf\"]),\n",
    "    outputs=gr.Textbox(label=\"Status\")\n",
    ")\n",
    "\n",
    "# Launch the interface\n",
    "interface.launch(share=True)\n"
   ]
  },
  {
   "cell_type": "code",
   "execution_count": 52,
   "metadata": {},
   "outputs": [
    {
     "name": "stdout",
     "output_type": "stream",
     "text": [
      "Running on local URL:  http://127.0.0.1:7882\n",
      "\n",
      "Could not create share link. Please check your internet connection or our status page: https://status.gradio.app.\n"
     ]
    },
    {
     "data": {
      "text/html": [
       "<div><iframe src=\"http://127.0.0.1:7882/\" width=\"100%\" height=\"500\" allow=\"autoplay; camera; microphone; clipboard-read; clipboard-write;\" frameborder=\"0\" allowfullscreen></iframe></div>"
      ],
      "text/plain": [
       "<IPython.core.display.HTML object>"
      ]
     },
     "metadata": {},
     "output_type": "display_data"
    },
    {
     "data": {
      "text/plain": []
     },
     "execution_count": 52,
     "metadata": {},
     "output_type": "execute_result"
    }
   ],
   "source": [
    "import gradio as gr\n",
    "from PyPDF2 import PdfReader\n",
    "\n",
    "# Global variable to store the PDF file path\n",
    "pdf_path = None\n",
    "\n",
    "def extract_text_from_pdf(pdf_file_path):\n",
    "    \"\"\"\n",
    "    Extract text from a PDF file using its file path.\n",
    "    \"\"\"\n",
    "    try:\n",
    "        # Use PdfReader with the file path\n",
    "        reader = PdfReader(pdf_file_path)\n",
    "        page_text_dict = {}\n",
    "        for i, page in enumerate(reader.pages):\n",
    "            page_text_dict[f\"Page {i+1}\"] = page.extract_text()\n",
    "        return page_text_dict\n",
    "    except Exception as e:\n",
    "        return f\"An error occurred while extracting text: {e}\"\n",
    "\n",
    "def upload_pdf(file):\n",
    "    \"\"\"\n",
    "    Gradio function to update the global `pdf_path`.\n",
    "    \"\"\"\n",
    "    global pdf_path\n",
    "    if file is None:\n",
    "        pdf_path = None\n",
    "        return \"No file uploaded!\"\n",
    "    pdf_path = file.name  # Update the global variable with the file path\n",
    "    return f\"File {file.name} uploaded successfully. You can now proceed with the notebook.\"\n",
    "\n",
    "# Create the Gradio interface for uploading the file\n",
    "interface = gr.Interface(\n",
    "    fn=upload_pdf,\n",
    "    inputs=gr.File(label=\"Upload PDF File\", file_types=[\".pdf\"]),\n",
    "    outputs=gr.Textbox(label=\"Status\")\n",
    ")\n",
    "\n",
    "# Launch the Gradio interface\n",
    "interface.launch(share=True)\n"
   ]
  },
  {
   "cell_type": "code",
   "execution_count": 57,
   "metadata": {},
   "outputs": [
    {
     "data": {
      "text/plain": [
       "'C:\\\\Users\\\\msalm\\\\AppData\\\\Local\\\\Temp\\\\gradio\\\\3dd7cd7c5467cff8fa844ff31d2cb8199c20697fef5ebceaefd025dcebc5c45b\\\\practice-standard-project-risk-management.pdf'"
      ]
     },
     "execution_count": 57,
     "metadata": {},
     "output_type": "execute_result"
    }
   ],
   "source": [
    "pdf_path"
   ]
  },
  {
   "cell_type": "code",
   "execution_count": 58,
   "metadata": {},
   "outputs": [],
   "source": [
    "# Step 1: Extract text\n",
    "page_text_dict = extract_text_from_pdf(f\"pdf_path\")\n"
   ]
  },
  {
   "cell_type": "code",
   "execution_count": 60,
   "metadata": {},
   "outputs": [
    {
     "name": "stdout",
     "output_type": "stream",
     "text": [
      "Running on local URL:  http://127.0.0.1:7883\n",
      "\n",
      "Could not create share link. Please check your internet connection or our status page: https://status.gradio.app.\n"
     ]
    },
    {
     "data": {
      "text/html": [
       "<div><iframe src=\"http://127.0.0.1:7883/\" width=\"100%\" height=\"500\" allow=\"autoplay; camera; microphone; clipboard-read; clipboard-write;\" frameborder=\"0\" allowfullscreen></iframe></div>"
      ],
      "text/plain": [
       "<IPython.core.display.HTML object>"
      ]
     },
     "metadata": {},
     "output_type": "display_data"
    },
    {
     "data": {
      "text/plain": []
     },
     "execution_count": 60,
     "metadata": {},
     "output_type": "execute_result"
    }
   ],
   "source": [
    "import gradio as gr\n",
    "from PyPDF2 import PdfReader\n",
    "\n",
    "# Global variables\n",
    "pdf_path = None\n",
    "page_text_dict = None  # This will store the extracted text\n",
    "\n",
    "def extract_text_from_pdf(pdf_path):\n",
    "    \"\"\"\n",
    "    Extract text from a PDF file using its path.\n",
    "    \"\"\"\n",
    "    try:\n",
    "        reader = PdfReader(pdf_path)\n",
    "        page_text_dict = {}\n",
    "        for i, page in enumerate(reader.pages):\n",
    "            page_text_dict[f\"Page {i+1}\"] = page.extract_text()\n",
    "        return page_text_dict\n",
    "    except Exception as e:\n",
    "        return f\"An error occurred while extracting text: {e}\"\n",
    "\n",
    "def upload_pdf(file):\n",
    "    \"\"\"\n",
    "    Gradio upload function to update the global `pdf_path` and extract text.\n",
    "    \"\"\"\n",
    "    global pdf_path, page_text_dict\n",
    "    if file is None:\n",
    "        pdf_path = None\n",
    "        page_text_dict = None\n",
    "        return \"No file uploaded!\"\n",
    "    \n",
    "    # Update the global variable for the file path\n",
    "    pdf_path = file.name\n",
    "\n",
    "    # Extract text immediately and store it in `page_text_dict`\n",
    "    page_text_dict = extract_text_from_pdf(pdf_path)\n",
    "\n",
    "    return f\"File {file.name} uploaded and text extracted successfully!\"\n",
    "\n",
    "# Create the Gradio interface\n",
    "interface = gr.Interface(\n",
    "    fn=upload_pdf,\n",
    "    inputs=gr.File(label=\"Upload PDF File\", file_types=[\".pdf\"]),\n",
    "    outputs=gr.Textbox(label=\"Status\")\n",
    ")\n",
    "\n",
    "# Launch the Gradio interface\n",
    "interface.launch(share=True)\n"
   ]
  },
  {
   "cell_type": "code",
   "execution_count": 61,
   "metadata": {},
   "outputs": [
    {
     "name": "stdout",
     "output_type": "stream",
     "text": [
      "An error occurred while extracting text: PyCryptodome is required for AES algorithm\n"
     ]
    }
   ],
   "source": [
    "print(page_text_dict)\n"
   ]
  },
  {
   "cell_type": "code",
   "execution_count": 8,
   "metadata": {},
   "outputs": [
    {
     "name": "stdout",
     "output_type": "stream",
     "text": [
      "Running on local URL:  http://127.0.0.1:7864\n",
      "\n",
      "Could not create share link. Please check your internet connection or our status page: https://status.gradio.app.\n"
     ]
    },
    {
     "data": {
      "text/html": [
       "<div><iframe src=\"http://127.0.0.1:7864/\" width=\"100%\" height=\"500\" allow=\"autoplay; camera; microphone; clipboard-read; clipboard-write;\" frameborder=\"0\" allowfullscreen></iframe></div>"
      ],
      "text/plain": [
       "<IPython.core.display.HTML object>"
      ]
     },
     "metadata": {},
     "output_type": "display_data"
    },
    {
     "data": {
      "text/plain": []
     },
     "execution_count": 8,
     "metadata": {},
     "output_type": "execute_result"
    }
   ],
   "source": [
    "import gradio as gr\n",
    "from PyPDF2 import PdfReader\n",
    "\n",
    "# Global variables\n",
    "pdf_path = None\n",
    "page_text_dict = None\n",
    "\n",
    "def extract_text_from_pdf(pdf_path):\n",
    "    \"\"\"\n",
    "    Extract text from a PDF file, including handling AES-encrypted PDFs.\n",
    "    \"\"\"\n",
    "    try:\n",
    "        reader = PdfReader(pdf_path)\n",
    "\n",
    "        # Check if the PDF is encrypted\n",
    "        if reader.is_encrypted:\n",
    "            print(\"The PDF is encrypted. Attempting to decrypt...\")\n",
    "            try:\n",
    "                # Attempt to decrypt with an empty password\n",
    "                reader.decrypt(\"\")\n",
    "                print(\"Decryption successful!\")\n",
    "            except Exception as e:\n",
    "                return f\"Failed to decrypt PDF. Reason: {e}\"\n",
    "\n",
    "        # Extract text from each page\n",
    "        page_text_dict = {}\n",
    "        for i, page in enumerate(reader.pages):\n",
    "            page_text_dict[f\"Page {i+1}\"] = page.extract_text() or \"No text found on this page.\"\n",
    "        return page_text_dict\n",
    "    except Exception as e:\n",
    "        return f\"An error occurred while extracting text: {e}\"\n",
    "\n",
    "def upload_pdf(file):\n",
    "    \"\"\"\n",
    "    Gradio function to handle file upload and extract text.\n",
    "    \"\"\"\n",
    "    global pdf_path, page_text_dict\n",
    "    if file is None:\n",
    "        pdf_path = None\n",
    "        page_text_dict = None\n",
    "        return \"No file uploaded!\"\n",
    "    \n",
    "    # Save the file path\n",
    "    pdf_path = file.name\n",
    "    \n",
    "    # Extract text from the file\n",
    "    page_text_dict = extract_text_from_pdf(pdf_path)\n",
    "    \n",
    "    return f\"File {file.name} uploaded and text extracted successfully!\"\n",
    "\n",
    "# Create the Gradio interface\n",
    "interface = gr.Interface(\n",
    "    fn=upload_pdf,\n",
    "    inputs=gr.File(label=\"Upload PDF File\", file_types=[\".pdf\"]),\n",
    "    outputs=gr.Textbox(label=\"Status\")\n",
    ")\n",
    "\n",
    "# Launch the Gradio interface\n",
    "interface.launch(share=True)\n"
   ]
  },
  {
   "cell_type": "code",
   "execution_count": 9,
   "metadata": {},
   "outputs": [],
   "source": [
    "import fitz  # PyMuPDF\n",
    "\n",
    "def extract_text_with_pymupdf(pdf_path):\n",
    "    \"\"\"\n",
    "    Extract text from a PDF using PyMuPDF.\n",
    "    \"\"\"\n",
    "    try:\n",
    "        doc = fitz.open(pdf_path)\n",
    "        page_text_dict = {}\n",
    "        for i, page in enumerate(doc):\n",
    "            page_text_dict[f\"Page {i+1}\"] = page.get_text() or \"No text found on this page.\"\n",
    "        return page_text_dict\n",
    "    except Exception as e:\n",
    "        return f\"An error occurred while extracting text: {e}\"\n"
   ]
  },
  {
   "cell_type": "code",
   "execution_count": 10,
   "metadata": {},
   "outputs": [],
   "source": [
    "page_text_dict = extract_text_with_pymupdf(pdf_path)"
   ]
  },
  {
   "cell_type": "code",
   "execution_count": 11,
   "metadata": {},
   "outputs": [
    {
     "data": {
      "text/plain": [
       "{}"
      ]
     },
     "execution_count": 11,
     "metadata": {},
     "output_type": "execute_result"
    }
   ],
   "source": [
    "page_text_dict"
   ]
  },
  {
   "cell_type": "code",
   "execution_count": 82,
   "metadata": {},
   "outputs": [],
   "source": [
    "# Step 2: Clean and correct text with spell check\n",
    "cleaned_text_dict = clean_and_correct_text_with_spellcheck(page_text_dict)"
   ]
  },
  {
   "cell_type": "code",
   "execution_count": 13,
   "metadata": {},
   "outputs": [],
   "source": []
  },
  {
   "cell_type": "code",
   "execution_count": 83,
   "metadata": {},
   "outputs": [],
   "source": [
    "# Step 3: Chunk text\n",
    "chunks = chunk_text_by_phrase(cleaned_text_dict, chunk_size=300)"
   ]
  },
  {
   "cell_type": "code",
   "execution_count": null,
   "metadata": {},
   "outputs": [],
   "source": []
  },
  {
   "cell_type": "code",
   "execution_count": 12,
   "metadata": {},
   "outputs": [
    {
     "ename": "TypeError",
     "evalue": "'NoneType' object is not iterable",
     "output_type": "error",
     "traceback": [
      "\u001b[1;31m---------------------------------------------------------------------------\u001b[0m",
      "\u001b[1;31mTypeError\u001b[0m                                 Traceback (most recent call last)",
      "Cell \u001b[1;32mIn[12], line 2\u001b[0m\n\u001b[0;32m      1\u001b[0m \u001b[38;5;66;03m# Output the chunks\u001b[39;00m\n\u001b[1;32m----> 2\u001b[0m \u001b[38;5;28;01mfor\u001b[39;00m i, chunk \u001b[38;5;129;01min\u001b[39;00m \u001b[38;5;28;43menumerate\u001b[39;49m\u001b[43m(\u001b[49m\u001b[43mchunks\u001b[49m\u001b[43m)\u001b[49m:\n\u001b[0;32m      3\u001b[0m     \u001b[38;5;28mprint\u001b[39m(\u001b[38;5;124mf\u001b[39m\u001b[38;5;124m\"\u001b[39m\u001b[38;5;124mChunk \u001b[39m\u001b[38;5;132;01m{\u001b[39;00mi\u001b[38;5;250m \u001b[39m\u001b[38;5;241m+\u001b[39m\u001b[38;5;250m \u001b[39m\u001b[38;5;241m1\u001b[39m\u001b[38;5;132;01m}\u001b[39;00m\u001b[38;5;124m (Page \u001b[39m\u001b[38;5;132;01m{\u001b[39;00mchunk[\u001b[38;5;124m'\u001b[39m\u001b[38;5;124mpage\u001b[39m\u001b[38;5;124m'\u001b[39m]\u001b[38;5;132;01m}\u001b[39;00m\u001b[38;5;124m):\u001b[39m\u001b[38;5;124m\"\u001b[39m)\n\u001b[0;32m      4\u001b[0m     \u001b[38;5;28mprint\u001b[39m(chunk[\u001b[38;5;124m\"\u001b[39m\u001b[38;5;124mtext\u001b[39m\u001b[38;5;124m\"\u001b[39m])\n",
      "\u001b[1;31mTypeError\u001b[0m: 'NoneType' object is not iterable"
     ]
    }
   ],
   "source": [
    "\n",
    "# Output the chunks\n",
    "for i, chunk in enumerate(chunks):\n",
    "    print(f\"Chunk {i + 1} (Page {chunk['page']}):\")\n",
    "    print(chunk[\"text\"])\n",
    "    print(\"-\" * 80)\n",
    "\n",
    "# Save chunks to a file (optional)\n",
    "with open(\"chunked_output.txt\", \"w\", encoding=\"utf-8\") as f:\n",
    "    for chunk in chunks:\n",
    "        f.write(f\"Page {chunk['page']}:\\n{chunk['text']}\\n\")\n",
    "        f.write(\"-\" * 80 + \"\\n\")\n"
   ]
  },
  {
   "cell_type": "code",
   "execution_count": 13,
   "metadata": {},
   "outputs": [],
   "source": [
    "from langchain_community.chat_models.ollama import ChatOllama\n",
    "from langchain.schema import HumanMessage\n",
    "from langchain.vectorstores import Chroma\n",
    "from langchain.embeddings.huggingface import HuggingFaceEmbeddings\n",
    "from langchain.schema import Document\n",
    "import re"
   ]
  },
  {
   "cell_type": "code",
   "execution_count": 14,
   "metadata": {},
   "outputs": [
    {
     "name": "stderr",
     "output_type": "stream",
     "text": [
      "C:\\Users\\msalm\\AppData\\Local\\Temp\\ipykernel_26460\\1076466578.py:3: LangChainDeprecationWarning: The class `ChatOllama` was deprecated in LangChain 0.3.1 and will be removed in 1.0.0. An updated version of the class exists in the :class:`~langchain-ollama package and should be used instead. To use it run `pip install -U :class:`~langchain-ollama` and import as `from :class:`~langchain_ollama import ChatOllama``.\n",
      "  llm = ChatOllama(model=local_model)\n"
     ]
    }
   ],
   "source": [
    "# Step 1: Initialize the ChatOllama Model\n",
    "local_model = \"llama3:8b\"\n",
    "llm = ChatOllama(model=local_model)"
   ]
  },
  {
   "cell_type": "code",
   "execution_count": 15,
   "metadata": {},
   "outputs": [
    {
     "name": "stderr",
     "output_type": "stream",
     "text": [
      "C:\\Users\\msalm\\AppData\\Local\\Temp\\ipykernel_26460\\2651579660.py:3: LangChainDeprecationWarning: The class `HuggingFaceEmbeddings` was deprecated in LangChain 0.2.2 and will be removed in 1.0. An updated version of the class exists in the :class:`~langchain-huggingface package and should be used instead. To use it run `pip install -U :class:`~langchain-huggingface` and import as `from :class:`~langchain_huggingface import HuggingFaceEmbeddings``.\n",
      "  embedding_model = HuggingFaceEmbeddings(model_name=\"all-MiniLM-L6-v2\")  # Use SentenceTransformers for embeddings\n",
      "C:\\Users\\msalm\\AppData\\Local\\Temp\\ipykernel_26460\\2651579660.py:4: LangChainDeprecationWarning: The class `Chroma` was deprecated in LangChain 0.2.9 and will be removed in 1.0. An updated version of the class exists in the :class:`~langchain-chroma package and should be used instead. To use it run `pip install -U :class:`~langchain-chroma` and import as `from :class:`~langchain_chroma import Chroma``.\n",
      "  vectorstore = Chroma(persist_directory=persist_directory, embedding_function=embedding_model)\n"
     ]
    }
   ],
   "source": [
    "# Step 2: Initialize the Vector Database with Chroma\n",
    "persist_directory = \"./chromadb_store\"\n",
    "embedding_model = HuggingFaceEmbeddings(model_name=\"all-MiniLM-L6-v2\")  # Use SentenceTransformers for embeddings\n",
    "vectorstore = Chroma(persist_directory=persist_directory, embedding_function=embedding_model)"
   ]
  },
  {
   "cell_type": "code",
   "execution_count": 16,
   "metadata": {},
   "outputs": [],
   "source": [
    "# Step 3: Add Chunks to ChromaDB\n",
    "def add_chunks_to_chromadb(chunks):\n",
    "    \"\"\"\n",
    "    Adds text chunks with metadata (page numbers) to ChromaDB.\n",
    "\n",
    "    Args:\n",
    "    - chunks (list of dict): List of chunks with 'page' and 'text' keys.\n",
    "    \"\"\"\n",
    "    documents = [\n",
    "        Document(\n",
    "            page_content=chunk[\"text\"],\n",
    "            metadata={\"page\": chunk[\"page\"]}\n",
    "        ) for chunk in chunks\n",
    "    ]\n",
    "    vectorstore.add_documents(documents)"
   ]
  },
  {
   "cell_type": "code",
   "execution_count": null,
   "metadata": {},
   "outputs": [
    {
     "name": "stderr",
     "output_type": "stream",
     "text": [
      "C:\\Users\\msalm\\AppData\\Local\\Temp\\ipykernel_5588\\3621283109.py:10: LangChainDeprecationWarning: The class `ChatOllama` was deprecated in LangChain 0.3.1 and will be removed in 1.0.0. An updated version of the class exists in the :class:`~langchain-ollama package and should be used instead. To use it run `pip install -U :class:`~langchain-ollama` and import as `from :class:`~langchain_ollama import ChatOllama``.\n",
      "  llm = ChatOllama(model=local_model)\n",
      "C:\\Users\\msalm\\AppData\\Local\\Temp\\ipykernel_5588\\3621283109.py:14: LangChainDeprecationWarning: The class `HuggingFaceEmbeddings` was deprecated in LangChain 0.2.2 and will be removed in 1.0. An updated version of the class exists in the :class:`~langchain-huggingface package and should be used instead. To use it run `pip install -U :class:`~langchain-huggingface` and import as `from :class:`~langchain_huggingface import HuggingFaceEmbeddings``.\n",
      "  embedding_model = HuggingFaceEmbeddings(model_name=\"all-MiniLM-L6-v2\")  # Use SentenceTransformers for embeddings\n",
      "c:\\Users\\msalm\\anaconda3\\envs\\ollama_local_2\\lib\\site-packages\\sentence_transformers\\cross_encoder\\CrossEncoder.py:13: TqdmWarning: IProgress not found. Please update jupyter and ipywidgets. See https://ipywidgets.readthedocs.io/en/stable/user_install.html\n",
      "  from tqdm.autonotebook import tqdm, trange\n",
      "C:\\Users\\msalm\\AppData\\Local\\Temp\\ipykernel_5588\\3621283109.py:15: LangChainDeprecationWarning: The class `Chroma` was deprecated in LangChain 0.2.9 and will be removed in 1.0. An updated version of the class exists in the :class:`~langchain-chroma package and should be used instead. To use it run `pip install -U :class:`~langchain-chroma` and import as `from :class:`~langchain_chroma import Chroma``.\n",
      "  vectorstore = Chroma(persist_directory=persist_directory, embedding_function=embedding_model)\n"
     ]
    }
   ],
   "source": [
    "# Step 4: Query ChromaDB\n",
    "def query_chromadb(query, top_k=3):\n",
    "    \"\"\"\n",
    "    Queries ChromaDB for the most relevant chunks based on a query.\n",
    "\n",
    "    Args:\n",
    "    - query (str): The user's query.\n",
    "    - top_k (int): Number of most relevant results to retrieve.\n",
    "\n",
    "    Returns:\n",
    "    - list of dict: Relevant chunks with metadata.\n",
    "    \"\"\"\n",
    "    results = vectorstore.similarity_search_with_score(query, k=top_k)\n",
    "    return [{\"text\": result[0].page_content, \"page\": result[0].metadata[\"page\"], \"score\": result[1]} for result in results]"
   ]
  },
  {
   "cell_type": "code",
   "execution_count": 17,
   "metadata": {},
   "outputs": [],
   "source": [
    "def ask_book_question_with_references(question):\n",
    "    \"\"\"\n",
    "    Queries the book content and uses the LLaMA model to answer based on the retrieved chunks.\n",
    "    Includes the most relevant chunk and its page for better understanding.\n",
    "\n",
    "    Args:\n",
    "    - question (str): The user's question.\n",
    "\n",
    "    Returns:\n",
    "    - str: The model's response along with the relevant chunks and pages for further reading.\n",
    "    \"\"\"\n",
    "    # Query ChromaDB for relevant chunks\n",
    "    relevant_chunks = query_chromadb(question, top_k=3)\n",
    "    \n",
    "    # Combine relevant chunks into a context string\n",
    "    context = \"\\n\".join([f\"Page {chunk['page']}: {chunk['text']}\" for chunk in relevant_chunks])\n",
    "    \n",
    "    # Create the prompt for the model\n",
    "    prompt = f\"Answer the following question based on the context provided.\\n\\nContext:\\n{context}\\n\\nQuestion: {question}\"\n",
    "    \n",
    "    # Get the response from the LLaMA model\n",
    "    response = llm([HumanMessage(content=prompt)])\n",
    "    \n",
    "    # Generate the references for the most relevant chunks\n",
    "    references = \"\\n\\nFor better understanding, you can refer to the following sections:\\n\"\n",
    "    for chunk in relevant_chunks:\n",
    "        references += f\"- Page {chunk['page']}:\\n  \\\"{chunk['text']}\\\"\\n\"\n",
    "    \n",
    "    # Combine the model's response with the references\n",
    "    full_response = f\"{response.content}\\n\\n{references}\"\n",
    "    return full_response\n",
    "\n"
   ]
  },
  {
   "cell_type": "code",
   "execution_count": 88,
   "metadata": {},
   "outputs": [
    {
     "name": "stdout",
     "output_type": "stream",
     "text": [
      "Running on local URL:  http://127.0.0.1:7887\n",
      "\n",
      "Could not create share link. Please check your internet connection or our status page: https://status.gradio.app.\n"
     ]
    },
    {
     "data": {
      "text/html": [
       "<div><iframe src=\"http://127.0.0.1:7887/\" width=\"100%\" height=\"500\" allow=\"autoplay; camera; microphone; clipboard-read; clipboard-write;\" frameborder=\"0\" allowfullscreen></iframe></div>"
      ],
      "text/plain": [
       "<IPython.core.display.HTML object>"
      ]
     },
     "metadata": {},
     "output_type": "display_data"
    },
    {
     "data": {
      "text/plain": []
     },
     "execution_count": 88,
     "metadata": {},
     "output_type": "execute_result"
    }
   ],
   "source": [
    "import gradio as gr\n",
    "\n",
    "def chat_with_book(question):\n",
    "    \"\"\"\n",
    "    Gradio interface function to answer questions about the book content.\n",
    "    \n",
    "    Args:\n",
    "    - question (str): The user's input question.\n",
    "    \n",
    "    Returns:\n",
    "    - str: The answer from the LLaMA model along with references.\n",
    "    \"\"\"\n",
    "    return ask_book_question_with_references(question)\n",
    "\n",
    "# Create Gradio interface\n",
    "interface = gr.Interface(\n",
    "    fn=chat_with_book,\n",
    "    inputs=gr.Textbox(label=\"Ask a Question About the Book\", placeholder=\"What is the project risk management process?\"),\n",
    "    outputs=gr.Textbox(label=\"Answer with References\"),\n",
    "    title=\"Book Question Answering\",\n",
    "    description=\"Ask any question about the book, and the system will retrieve relevant content and answer using the LLaMA model.\"\n",
    ")\n",
    "\n",
    "# Launch the interface\n",
    "interface.launch(share=True)\n"
   ]
  },
  {
   "cell_type": "code",
   "execution_count": 89,
   "metadata": {},
   "outputs": [],
   "source": [
    "def ask_book_question_with_references(question):\n",
    "    \"\"\"\n",
    "    Queries the book content and uses the LLaMA model to answer based on the retrieved chunks.\n",
    "    Includes the most relevant chunk and its page for better understanding.\n",
    "\n",
    "    Args:\n",
    "    - question (str): The user's question.\n",
    "\n",
    "    Returns:\n",
    "    - str: A structured response with the answer and references.\n",
    "    \"\"\"\n",
    "    # Query ChromaDB for relevant chunks\n",
    "    relevant_chunks = query_chromadb(question, top_k=3)\n",
    "    \n",
    "    # Combine relevant chunks into a context string\n",
    "    context = \"\\n\".join([f\"Page {chunk['page']}: {chunk['text']}\" for chunk in relevant_chunks])\n",
    "    \n",
    "    # Create the prompt for the model\n",
    "    prompt = f\"Answer the following question based on the context provided.\\n\\nContext:\\n{context}\\n\\nQuestion: {question}\"\n",
    "    \n",
    "    # Get the response from the LLaMA model\n",
    "    response = llm([HumanMessage(content=prompt)])\n",
    "    \n",
    "    # Generate the references for the most relevant chunks\n",
    "    references = \"\\n\".join([f\"- Page {chunk['page']}:\\n  \\\"{chunk['text']}\\\"\" for chunk in relevant_chunks])\n",
    "    \n",
    "    # Structure the final response\n",
    "    structured_response = f\"### Answer:\\n{response.content}\\n\\n### For Better Understanding, Refer to:\\n{references}\"\n",
    "    return structured_response\n"
   ]
  },
  {
   "cell_type": "code",
   "execution_count": 90,
   "metadata": {},
   "outputs": [
    {
     "name": "stdout",
     "output_type": "stream",
     "text": [
      "Running on local URL:  http://127.0.0.1:7888\n",
      "\n",
      "Could not create share link. Please check your internet connection or our status page: https://status.gradio.app.\n"
     ]
    },
    {
     "data": {
      "text/html": [
       "<div><iframe src=\"http://127.0.0.1:7888/\" width=\"100%\" height=\"500\" allow=\"autoplay; camera; microphone; clipboard-read; clipboard-write;\" frameborder=\"0\" allowfullscreen></iframe></div>"
      ],
      "text/plain": [
       "<IPython.core.display.HTML object>"
      ]
     },
     "metadata": {},
     "output_type": "display_data"
    },
    {
     "data": {
      "text/plain": []
     },
     "execution_count": 90,
     "metadata": {},
     "output_type": "execute_result"
    }
   ],
   "source": [
    "import gradio as gr\n",
    "\n",
    "def chat_with_book(question):\n",
    "    \"\"\"\n",
    "    Gradio interface function to answer questions about the book content.\n",
    "    \"\"\"\n",
    "    return ask_book_question_with_references(question)\n",
    "\n",
    "# Create Gradio interface\n",
    "interface = gr.Interface(\n",
    "    fn=chat_with_book,\n",
    "    inputs=gr.Textbox(label=\"Ask a Question About the Book\", placeholder=\"What is the project risk management process?\"),\n",
    "    outputs=gr.Textbox(label=\"Answer with References\", lines=15),\n",
    "    title=\"Book Question Answering\",\n",
    "    description=\"Ask any question about the book, and the system will retrieve relevant content and answer using the LLaMA model.\"\n",
    ")\n",
    "\n",
    "# Launch the interface\n",
    "interface.launch(share=True)\n"
   ]
  },
  {
   "cell_type": "code",
   "execution_count": 91,
   "metadata": {},
   "outputs": [
    {
     "name": "stdout",
     "output_type": "stream",
     "text": [
      "Running on local URL:  http://127.0.0.1:7889\n",
      "\n",
      "Thanks for being a Gradio user! If you have questions or feedback, please join our Discord server and chat with us: https://discord.gg/feTf9x3ZSB\n",
      "\n",
      "Could not create share link. Please check your internet connection or our status page: https://status.gradio.app.\n"
     ]
    },
    {
     "data": {
      "text/html": [
       "<div><iframe src=\"http://127.0.0.1:7889/\" width=\"100%\" height=\"500\" allow=\"autoplay; camera; microphone; clipboard-read; clipboard-write;\" frameborder=\"0\" allowfullscreen></iframe></div>"
      ],
      "text/plain": [
       "<IPython.core.display.HTML object>"
      ]
     },
     "metadata": {},
     "output_type": "display_data"
    },
    {
     "data": {
      "text/plain": []
     },
     "execution_count": 91,
     "metadata": {},
     "output_type": "execute_result"
    }
   ],
   "source": [
    "import gradio as gr\n",
    "\n",
    "def chat_with_book(question):\n",
    "    \"\"\"\n",
    "    Handles user input and returns the answer and references as separate outputs.\n",
    "    \n",
    "    Args:\n",
    "    - question (str): The user's query.\n",
    "    \n",
    "    Returns:\n",
    "    - tuple: (Answer, References)\n",
    "    \"\"\"\n",
    "    response = ask_book_question_with_references(question)\n",
    "    \n",
    "    # Split the response into Answer and References\n",
    "    sections = response.split(\"### For Better Understanding, Refer to:\")\n",
    "    answer = sections[0].strip(\"### Answer:\\n\").strip()\n",
    "    references = sections[1].strip() if len(sections) > 1 else \"No references found.\"\n",
    "    \n",
    "    return answer, references\n",
    "\n",
    "# Create the Gradio interface\n",
    "interface = gr.Interface(\n",
    "    fn=chat_with_book,\n",
    "    inputs=gr.Textbox(label=\"Ask a Question About the Book\", placeholder=\"Type your question here and press Enter...\", lines=1),\n",
    "    outputs=[\n",
    "        gr.Textbox(label=\"Answer\", lines=10),\n",
    "        gr.Textbox(label=\"References\", lines=10)\n",
    "    ],\n",
    "    title=\"Book Question Answering\",\n",
    "    description=\"Ask a question about the book, and the system will retrieve relevant content and provide an answer along with references.\",\n",
    "    live=True  # Makes it behave like pressing Enter submits the query\n",
    ")\n",
    "\n",
    "# Launch the interface\n",
    "interface.launch(share=True)\n"
   ]
  },
  {
   "cell_type": "code",
   "execution_count": 92,
   "metadata": {},
   "outputs": [
    {
     "name": "stdout",
     "output_type": "stream",
     "text": [
      "Running on local URL:  http://127.0.0.1:7890\n",
      "\n",
      "Could not create share link. Please check your internet connection or our status page: https://status.gradio.app.\n"
     ]
    },
    {
     "data": {
      "text/html": [
       "<div><iframe src=\"http://127.0.0.1:7890/\" width=\"100%\" height=\"500\" allow=\"autoplay; camera; microphone; clipboard-read; clipboard-write;\" frameborder=\"0\" allowfullscreen></iframe></div>"
      ],
      "text/plain": [
       "<IPython.core.display.HTML object>"
      ]
     },
     "metadata": {},
     "output_type": "display_data"
    },
    {
     "data": {
      "text/plain": []
     },
     "execution_count": 92,
     "metadata": {},
     "output_type": "execute_result"
    }
   ],
   "source": [
    "import gradio as gr\n",
    "\n",
    "def chat_with_book(question):\n",
    "    \"\"\"\n",
    "    Handles user input and returns the answer and references as separate outputs.\n",
    "    \n",
    "    Args:\n",
    "    - question (str): The user's query.\n",
    "    \n",
    "    Returns:\n",
    "    - tuple: (Answer, References)\n",
    "    \"\"\"\n",
    "    response = ask_book_question_with_references(question)\n",
    "    \n",
    "    # Split the response into Answer and References\n",
    "    sections = response.split(\"### For Better Understanding, Refer to:\")\n",
    "    answer = sections[0].strip(\"### Answer:\\n\").strip()\n",
    "    references = sections[1].strip() if len(sections) > 1 else \"No references found.\"\n",
    "    \n",
    "    return answer, references\n",
    "\n",
    "# Create the Gradio interface\n",
    "interface = gr.Interface(\n",
    "    fn=chat_with_book,\n",
    "    inputs=gr.Textbox(label=\"Ask a Question About the Book\", placeholder=\"Type your question here and press Enter...\", lines=1),\n",
    "    outputs=[\n",
    "        gr.Textbox(label=\"Answer\", lines=10),\n",
    "        gr.Textbox(label=\"References\", lines=10)\n",
    "    ],\n",
    "    title=\"Book Question Answering\",\n",
    "    description=\"Ask a question about the book, and the system will retrieve relevant content and provide an answer along with references.\",\n",
    "    live=True  # Makes it behave like pressing Enter submits the query\n",
    ")\n",
    "\n",
    "# Launch the interface\n",
    "interface.launch(share=True)\n"
   ]
  },
  {
   "cell_type": "code",
   "execution_count": 95,
   "metadata": {},
   "outputs": [
    {
     "name": "stdout",
     "output_type": "stream",
     "text": [
      "Running on local URL:  http://127.0.0.1:7891\n",
      "\n",
      "Could not create share link. Please check your internet connection or our status page: https://status.gradio.app.\n"
     ]
    },
    {
     "data": {
      "text/html": [
       "<div><iframe src=\"http://127.0.0.1:7891/\" width=\"100%\" height=\"500\" allow=\"autoplay; camera; microphone; clipboard-read; clipboard-write;\" frameborder=\"0\" allowfullscreen></iframe></div>"
      ],
      "text/plain": [
       "<IPython.core.display.HTML object>"
      ]
     },
     "metadata": {},
     "output_type": "display_data"
    },
    {
     "data": {
      "text/plain": []
     },
     "execution_count": 95,
     "metadata": {},
     "output_type": "execute_result"
    }
   ],
   "source": [
    "import gradio as gr\n",
    "\n",
    "# Global variables\n",
    "page_text_dict = None\n",
    "cleaned_text_dict = None\n",
    "chunks = None\n",
    "\n",
    "def upload_book(file):\n",
    "    \"\"\"\n",
    "    Uploads the book (PDF) and processes it for chunking and querying.\n",
    "    \"\"\"\n",
    "    global page_text_dict, cleaned_text_dict, chunks\n",
    "    if file is None:\n",
    "        return \"No file uploaded!\"\n",
    "    \n",
    "    # Save file path and process the PDF\n",
    "    pdf_path = file.name\n",
    "    page_text_dict = extract_text_from_pdf(pdf_path)\n",
    "    if isinstance(page_text_dict, str):  # Check if error occurred\n",
    "        return page_text_dict\n",
    "\n",
    "    # Clean and chunk the text\n",
    "    cleaned_text_dict = clean_and_correct_text_with_spellcheck(page_text_dict)\n",
    "    chunks = chunk_text_by_phrase(cleaned_text_dict, chunk_size=300)\n",
    "\n",
    "    # Add chunks to ChromaDB\n",
    "    add_chunks_to_chromadb(chunks)\n",
    "    return f\"Book '{file.name}' uploaded and processed successfully!\"\n",
    "\n",
    "def chat_with_book(question):\n",
    "    \"\"\"\n",
    "    Handles user input and returns the answer and references as separate outputs.\n",
    "    \"\"\"\n",
    "    if chunks is None:\n",
    "        return \"No book has been uploaded yet. Please upload a book first.\", \"No references available.\"\n",
    "\n",
    "    response = ask_book_question_with_references(question)\n",
    "    \n",
    "    # Split the response into Answer and References\n",
    "    sections = response.split(\"### For Better Understanding, Refer to:\")\n",
    "    answer = sections[0].strip(\"### Answer:\\n\").strip()\n",
    "    references = sections[1].strip() if len(sections) > 1 else \"No references found.\"\n",
    "    \n",
    "    return answer, references\n",
    "\n",
    "# Create the Gradio interface\n",
    "with gr.Blocks() as interface:\n",
    "    gr.Markdown(\"# 📚 Book Question Answering System\")\n",
    "    gr.Markdown(\"1. **Upload a book (PDF) to process.**\\n2. **Ask any question about the book and get relevant answers with references.**\")\n",
    "    \n",
    "    with gr.Tab(\"Upload Book\"):\n",
    "        with gr.Row():\n",
    "            file_input = gr.File(label=\"Upload Book (PDF)\", file_types=[\".pdf\"])\n",
    "            upload_status = gr.Textbox(label=\"Upload Status\", interactive=False)\n",
    "        file_input.change(fn=upload_book, inputs=file_input, outputs=upload_status)\n",
    "    \n",
    "    with gr.Tab(\"Ask Question\"):\n",
    "        with gr.Row():\n",
    "            question_input = gr.Textbox(label=\"Ask a Question About the Book\", placeholder=\"Type your question here...\")\n",
    "            answer_output = gr.Textbox(label=\"Answer\", interactive=False)\n",
    "            references_output = gr.Textbox(label=\"References\", interactive=False)\n",
    "        question_input.submit(fn=chat_with_book, inputs=question_input, outputs=[answer_output, references_output])\n",
    "\n",
    "# Launch the interface\n",
    "interface.launch(share=True)\n"
   ]
  },
  {
   "cell_type": "code",
   "execution_count": 2,
   "metadata": {},
   "outputs": [
    {
     "name": "stdout",
     "output_type": "stream",
     "text": [
      "Running on local URL:  http://127.0.0.1:7861\n",
      "\n",
      "Could not create share link. Please check your internet connection or our status page: https://status.gradio.app.\n"
     ]
    },
    {
     "data": {
      "text/html": [
       "<div><iframe src=\"http://127.0.0.1:7861/\" width=\"100%\" height=\"500\" allow=\"autoplay; camera; microphone; clipboard-read; clipboard-write;\" frameborder=\"0\" allowfullscreen></iframe></div>"
      ],
      "text/plain": [
       "<IPython.core.display.HTML object>"
      ]
     },
     "metadata": {},
     "output_type": "display_data"
    },
    {
     "data": {
      "text/plain": []
     },
     "execution_count": 2,
     "metadata": {},
     "output_type": "execute_result"
    },
    {
     "name": "stderr",
     "output_type": "stream",
     "text": [
      "Traceback (most recent call last):\n",
      "  File \"c:\\Users\\msalm\\anaconda3\\envs\\ollama_local_2\\lib\\site-packages\\gradio\\queueing.py\", line 536, in process_events\n",
      "    response = await route_utils.call_process_api(\n",
      "  File \"c:\\Users\\msalm\\anaconda3\\envs\\ollama_local_2\\lib\\site-packages\\gradio\\route_utils.py\", line 322, in call_process_api\n",
      "    output = await app.get_blocks().process_api(\n",
      "  File \"c:\\Users\\msalm\\anaconda3\\envs\\ollama_local_2\\lib\\site-packages\\gradio\\blocks.py\", line 1935, in process_api\n",
      "    result = await self.call_function(\n",
      "  File \"c:\\Users\\msalm\\anaconda3\\envs\\ollama_local_2\\lib\\site-packages\\gradio\\blocks.py\", line 1520, in call_function\n",
      "    prediction = await anyio.to_thread.run_sync(  # type: ignore\n",
      "  File \"c:\\Users\\msalm\\anaconda3\\envs\\ollama_local_2\\lib\\site-packages\\anyio\\to_thread.py\", line 56, in run_sync\n",
      "    return await get_async_backend().run_sync_in_worker_thread(\n",
      "  File \"c:\\Users\\msalm\\anaconda3\\envs\\ollama_local_2\\lib\\site-packages\\anyio\\_backends\\_asyncio.py\", line 2441, in run_sync_in_worker_thread\n",
      "    return await future\n",
      "  File \"c:\\Users\\msalm\\anaconda3\\envs\\ollama_local_2\\lib\\site-packages\\anyio\\_backends\\_asyncio.py\", line 943, in run\n",
      "    result = context.run(func, *args)\n",
      "  File \"c:\\Users\\msalm\\anaconda3\\envs\\ollama_local_2\\lib\\site-packages\\gradio\\utils.py\", line 826, in wrapper\n",
      "    response = f(*args, **kwargs)\n",
      "  File \"C:\\Users\\msalm\\AppData\\Local\\Temp\\ipykernel_26460\\3566579258.py\", line 18, in upload_book\n",
      "    page_text_dict = extract_text_with_pymupdf(pdf_path)\n",
      "NameError: name 'extract_text_with_pymupdf' is not defined\n"
     ]
    }
   ],
   "source": [
    "import gradio as gr\n",
    "\n",
    "# Global variables\n",
    "page_text_dict = None\n",
    "cleaned_text_dict = None\n",
    "chunks = None\n",
    "\n",
    "def upload_book(file):\n",
    "    \"\"\"\n",
    "    Uploads the book (PDF) and processes it for chunking and querying.\n",
    "    \"\"\"\n",
    "    global page_text_dict, cleaned_text_dict, chunks\n",
    "    if file is None:\n",
    "        return \"No file uploaded!\"\n",
    "    \n",
    "    # Save file path and process the PDF\n",
    "    pdf_path = file.name\n",
    "    page_text_dict = extract_text_with_pymupdf(pdf_path)\n",
    "    if isinstance(page_text_dict, str):  # Check if error occurred\n",
    "        return page_text_dict\n",
    "\n",
    "    # Clean and chunk the text\n",
    "    cleaned_text_dict = clean_and_correct_text_with_spellcheck(page_text_dict)\n",
    "    chunks = chunk_text_by_phrase(cleaned_text_dict, chunk_size=300)\n",
    "\n",
    "    # Add chunks to ChromaDB\n",
    "    add_chunks_to_chromadb(chunks)\n",
    "    return f\"Book '{file.name}' uploaded and processed successfully!\"\n",
    "\n",
    "def chat_with_book(question):\n",
    "    \"\"\"\n",
    "    Handles user input and returns the answer and references as separate outputs.\n",
    "    \"\"\"\n",
    "    if chunks is None:\n",
    "        return \"No book has been uploaded yet. Please upload a book first.\", \"No references available.\"\n",
    "\n",
    "    response = ask_book_question_with_references(question)\n",
    "    \n",
    "    # Split the response into Answer and References\n",
    "    sections = response.split(\"### For Better Understanding, Refer to:\")\n",
    "    answer = sections[0].strip(\"### Answer:\\n\").strip()\n",
    "    references = sections[1].strip() if len(sections) > 1 else \"No references found.\"\n",
    "    \n",
    "    return answer, references\n",
    "\n",
    "# Create Gradio interface\n",
    "with gr.Blocks() as interface:\n",
    "    gr.Markdown(\"# 📚 Book Question Answering System\")\n",
    "    gr.Markdown(\"1. **Upload a book (PDF) to process.**\\n2. **Ask any question about the book and get relevant answers with references.**\")\n",
    "    \n",
    "    # Upload Section\n",
    "    with gr.Row():\n",
    "        file_input = gr.File(label=\"Upload Book (PDF)\", file_types=[\".pdf\"])\n",
    "        upload_status = gr.Textbox(label=\"Upload Status\", interactive=False)\n",
    "    file_input.change(fn=upload_book, inputs=file_input, outputs=upload_status)\n",
    "\n",
    "    # Question Section\n",
    "    gr.Markdown(\"### Ask a Question About the Book\")\n",
    "    with gr.Row():\n",
    "        question_input = gr.Textbox(label=\"Type your question here...\", placeholder=\"What is the project risk management process?\")\n",
    "    with gr.Row():\n",
    "        answer_output = gr.Textbox(label=\"Answer\", interactive=False)\n",
    "        references_output = gr.Textbox(label=\"References\", interactive=False)\n",
    "    question_input.submit(fn=chat_with_book, inputs=question_input, outputs=[answer_output, references_output])\n",
    "\n",
    "# Launch the interface\n",
    "interface.launch(share=True)\n"
   ]
  },
  {
   "cell_type": "code",
   "execution_count": 18,
   "metadata": {},
   "outputs": [
    {
     "name": "stdout",
     "output_type": "stream",
     "text": [
      "Running on local URL:  http://127.0.0.1:7865\n",
      "\n",
      "Could not create share link. Please check your internet connection or our status page: https://status.gradio.app.\n"
     ]
    },
    {
     "data": {
      "text/html": [
       "<div><iframe src=\"http://127.0.0.1:7865/\" width=\"100%\" height=\"500\" allow=\"autoplay; camera; microphone; clipboard-read; clipboard-write;\" frameborder=\"0\" allowfullscreen></iframe></div>"
      ],
      "text/plain": [
       "<IPython.core.display.HTML object>"
      ]
     },
     "metadata": {},
     "output_type": "display_data"
    },
    {
     "data": {
      "text/plain": []
     },
     "execution_count": 18,
     "metadata": {},
     "output_type": "execute_result"
    }
   ],
   "source": [
    "import gradio as gr\n",
    "import fitz  # PyMuPDF\n",
    "\n",
    "# Global variables\n",
    "page_text_dict = None\n",
    "cleaned_text_dict = None\n",
    "chunks = None\n",
    "\n",
    "def extract_text_with_pymupdf(pdf_path):\n",
    "    \"\"\"\n",
    "    Extract text from a PDF using PyMuPDF.\n",
    "    \n",
    "    Args:\n",
    "    - pdf_path (str): The file path to the PDF.\n",
    "\n",
    "    Returns:\n",
    "    - dict: A dictionary with page numbers as keys and text content as values.\n",
    "    \"\"\"\n",
    "    try:\n",
    "        doc = fitz.open(pdf_path)\n",
    "        page_text_dict = {}\n",
    "        for i, page in enumerate(doc):\n",
    "            page_text_dict[f\"Page {i+1}\"] = page.get_text(\"text\") or \"No text found on this page.\"\n",
    "        return page_text_dict\n",
    "    except Exception as e:\n",
    "        return f\"An error occurred while extracting text: {e}\"\n",
    "\n",
    "def upload_book(file):\n",
    "    \"\"\"\n",
    "    Uploads the book (PDF) and processes it for chunking and querying.\n",
    "    \"\"\"\n",
    "    global page_text_dict, cleaned_text_dict, chunks\n",
    "    if file is None:\n",
    "        return \"No file uploaded!\"\n",
    "    \n",
    "    # Save file path and process the PDF\n",
    "    pdf_path = file.name\n",
    "    page_text_dict = extract_text_with_pymupdf(pdf_path)\n",
    "    if isinstance(page_text_dict, str):  # Check if error occurred\n",
    "        return page_text_dict\n",
    "\n",
    "    # Clean and chunk the text\n",
    "    cleaned_text_dict = clean_and_correct_text_with_spellcheck(page_text_dict)\n",
    "    chunks = chunk_text_by_phrase(cleaned_text_dict, chunk_size=300)\n",
    "\n",
    "    # Add chunks to ChromaDB\n",
    "    add_chunks_to_chromadb(chunks)\n",
    "    return f\"Book '{file.name}' uploaded and processed successfully!\"\n",
    "\n",
    "def chat_with_book(question):\n",
    "    \"\"\"\n",
    "    Handles user input and returns the answer and references as separate outputs.\n",
    "    \"\"\"\n",
    "    if chunks is None:\n",
    "        return \"No book has been uploaded yet. Please upload a book first.\", \"No references available.\"\n",
    "\n",
    "    response = ask_book_question_with_references(question)\n",
    "    \n",
    "    # Split the response into Answer and References\n",
    "    sections = response.split(\"### For Better Understanding, Refer to:\")\n",
    "    answer = sections[0].strip(\"### Answer:\\n\").strip()\n",
    "    references = sections[1].strip() if len(sections) > 1 else \"No references found.\"\n",
    "    \n",
    "    return answer, references\n",
    "\n",
    "# Create Gradio interface\n",
    "with gr.Blocks() as interface:\n",
    "    gr.Markdown(\"# 📚 Book Question Answering System\")\n",
    "    gr.Markdown(\"1. **Upload a book (PDF) to process.**\\n2. **Ask any question about the book and get relevant answers with references.**\")\n",
    "    \n",
    "    # Upload Section\n",
    "    with gr.Row():\n",
    "        file_input = gr.File(label=\"Upload Book (PDF)\", file_types=[\".pdf\"])\n",
    "        upload_status = gr.Textbox(label=\"Upload Status\", interactive=False)\n",
    "    file_input.change(fn=upload_book, inputs=file_input, outputs=upload_status)\n",
    "\n",
    "    # Question Section\n",
    "    gr.Markdown(\"### Ask a Question About the Book\")\n",
    "    with gr.Row():\n",
    "        question_input = gr.Textbox(label=\"Type your question here...\", placeholder=\"What is the project risk management process?\")\n",
    "    with gr.Row():\n",
    "        answer_output = gr.Textbox(label=\"Answer\", interactive=False)\n",
    "        references_output = gr.Textbox(label=\"References\", interactive=False)\n",
    "    question_input.submit(fn=chat_with_book, inputs=question_input, outputs=[answer_output, references_output])\n",
    "\n",
    "# Launch the interface\n",
    "interface.launch(share=True)\n"
   ]
  },
  {
   "cell_type": "code",
   "execution_count": null,
   "metadata": {},
   "outputs": [],
   "source": []
  },
  {
   "cell_type": "code",
   "execution_count": null,
   "metadata": {},
   "outputs": [],
   "source": []
  },
  {
   "cell_type": "code",
   "execution_count": null,
   "metadata": {},
   "outputs": [],
   "source": [
    "# Example Usage\n",
    "question = \"What is the project risk management process?\"\n",
    "answer_with_references = ask_book_question_with_references(question)\n",
    "print(\"Answer from the Book:\")\n",
    "print(answer_with_references)\n"
   ]
  },
  {
   "cell_type": "code",
   "execution_count": 19,
   "metadata": {},
   "outputs": [
    {
     "name": "stdout",
     "output_type": "stream",
     "text": [
      "Answer from the Book:\n",
      "According to the context, risk management is a discipline that contains a series of processes to apply to both large and small projects. It is also described as being more effective if its practice is tailored to the project and congruent with the organizational culture, processes, and assets.\n",
      "\n",
      "\n",
      "\n",
      "For better understanding, you can refer to the following sections:\n",
      "- Page 15:\n",
      "  \"Different projects organizations and situations will require different approaches to Project Risk management In particular risk management is a discipline that contains a series of processes to apply to both large and small projects Risk management will be more effective if its practice is tailored to the project and congruent with the organizational culture processes and assets There are many different ways of conducting risk management that may comply with the principles of Project Risk Management as presented in this practice standard 3\"\n",
      "- Page 15:\n",
      "  \"Different projects organizations and situations will require different approaches to Project Risk management In particular risk management is a discipline that contains a series of processes to apply to both large and small projects Risk management will be more effective if its practice is tailored to the project and congruent with the organizational culture processes and assets There are many different ways of conducting risk management that may comply with the principles of Project Risk Management as presented in this practice standard 3\"\n",
      "- Page 25:\n",
      "  \"3 CHAPTER 3 INTRODUCTION TO PROJECT RISK MANAGEMENT PROCESSES 3.\"\n",
      "\n"
     ]
    }
   ],
   "source": [
    "# Example Usage\n",
    "question = \"What is risk management ?\"\n",
    "answer_with_references = ask_book_question_with_references(question)\n",
    "print(\"Answer from the Book:\")\n",
    "print(answer_with_references)"
   ]
  },
  {
   "cell_type": "code",
   "execution_count": 20,
   "metadata": {},
   "outputs": [
    {
     "name": "stdout",
     "output_type": "stream",
     "text": [
      "Answer from the Book:\n",
      "Based on the context provided, it appears that the question is asking about \"project risk management processes\". However, I assume you meant to ask what \"risk management process\" is.\n",
      "\n",
      "According to general knowledge and project management principles, Risk Management Process refers to a systematic approach to identify, assess, prioritize, mitigate, and monitor risks associated with a project or organization. This process helps to minimize the impact of potential threats on project goals, objectives, and outcomes.\n",
      "\n",
      "\n",
      "\n",
      "For better understanding, you can refer to the following sections:\n",
      "- Page 25:\n",
      "  \"3 CHAPTER 3 INTRODUCTION TO PROJECT RISK MANAGEMENT PROCESSES 3.\"\n",
      "- Page 25:\n",
      "  \"3 CHAPTER 3 INTRODUCTION TO PROJECT RISK MANAGEMENT PROCESSES 3.\"\n",
      "- Page 26:\n",
      "  \"3 CHAPTER 3 i INTRODUCTION TO PROJECT RISK MANAGEMENT PROCESSES 3.\"\n",
      "\n"
     ]
    }
   ],
   "source": [
    "# Example Usage\n",
    "question = \"What is risk management porcess ?\"\n",
    "answer_with_references = ask_book_question_with_references(question)\n",
    "print(\"Answer from the Book:\")\n",
    "print(answer_with_references)"
   ]
  },
  {
   "cell_type": "code",
   "execution_count": 21,
   "metadata": {},
   "outputs": [
    {
     "name": "stdout",
     "output_type": "stream",
     "text": [
      "Answer from the Book:\n",
      "I apologize, but there is no information about Superman in the provided context. The pages seem to be blank or contain nothing relevant to the question. Therefore, I cannot provide an answer to this question based on the given context.\n",
      "\n",
      "\n",
      "\n",
      "For better understanding, you can refer to the following sections:\n",
      "- Page 124:\n",
      "  \".g.\"\n",
      "- Page 115:\n",
      "  \".\"\n",
      "- Page 122:\n",
      "  \".\"\n",
      "\n"
     ]
    }
   ],
   "source": [
    "# Example Usage\n",
    "question = \"Who is superman ?\"\n",
    "answer_with_references = ask_book_question_with_references(question)\n",
    "print(\"Answer from the Book:\")\n",
    "print(answer_with_references)"
   ]
  },
  {
   "cell_type": "code",
   "execution_count": null,
   "metadata": {},
   "outputs": [],
   "source": []
  }
 ],
 "metadata": {
  "kernelspec": {
   "display_name": "ollama_local_2",
   "language": "python",
   "name": "python3"
  },
  "language_info": {
   "codemirror_mode": {
    "name": "ipython",
    "version": 3
   },
   "file_extension": ".py",
   "mimetype": "text/x-python",
   "name": "python",
   "nbconvert_exporter": "python",
   "pygments_lexer": "ipython3",
   "version": "3.9.20"
  }
 },
 "nbformat": 4,
 "nbformat_minor": 2
}
