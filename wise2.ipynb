{
 "cells": [
  {
   "cell_type": "code",
   "execution_count": null,
   "metadata": {},
   "outputs": [],
   "source": []
  },
  {
   "cell_type": "code",
   "execution_count": 3,
   "metadata": {},
   "outputs": [],
   "source": [
    "import utils"
   ]
  },
  {
   "cell_type": "code",
   "execution_count": 4,
   "metadata": {},
   "outputs": [],
   "source": [
    "import gradio as gr"
   ]
  },
  {
   "cell_type": "code",
   "execution_count": 6,
   "metadata": {},
   "outputs": [],
   "source": [
    "from utils import upload_book,chat_with_book"
   ]
  },
  {
   "cell_type": "code",
   "execution_count": 13,
   "metadata": {},
   "outputs": [
    {
     "name": "stdout",
     "output_type": "stream",
     "text": [
      "Running on local URL:  http://127.0.0.1:7860\n",
      "\n",
      "Could not create share link. Please check your internet connection or our status page: https://status.gradio.app.\n"
     ]
    },
    {
     "data": {
      "text/html": [
       "<div><iframe src=\"http://127.0.0.1:7860/\" width=\"100%\" height=\"500\" allow=\"autoplay; camera; microphone; clipboard-read; clipboard-write;\" frameborder=\"0\" allowfullscreen></iframe></div>"
      ],
      "text/plain": [
       "<IPython.core.display.HTML object>"
      ]
     },
     "metadata": {},
     "output_type": "display_data"
    },
    {
     "data": {
      "text/plain": []
     },
     "execution_count": 13,
     "metadata": {},
     "output_type": "execute_result"
    },
    {
     "name": "stderr",
     "output_type": "stream",
     "text": [
      "c:\\Users\\msalm\\Desktop\\BookWise-AI\\utils.py:192: LangChainDeprecationWarning: The method `BaseChatModel.__call__` was deprecated in langchain-core 0.1.7 and will be removed in 1.0. Use :meth:`~invoke` instead.\n",
      "  response = llm([HumanMessage(content=prompt)])\n"
     ]
    }
   ],
   "source": [
    "# Create Gradio interface\n",
    "with gr.Blocks() as interface:\n",
    "    gr.Markdown(\"# 📚 Book Question Answering System\")\n",
    "    gr.Markdown(\"1. **Upload a book (PDF) to process.**\\n2. **Ask any question about the book and get relevant answers with references.**\")\n",
    "    \n",
    "    # Upload Section\n",
    "    with gr.Row():\n",
    "        file_input = gr.File(label=\"Upload Book (PDF)\", file_types=[\".pdf\"])\n",
    "        upload_status = gr.Textbox(label=\"Upload Status\", interactive=False)\n",
    "    file_input.change(fn=upload_book, inputs=file_input, outputs=upload_status)\n",
    "\n",
    "    # Question Section\n",
    "    gr.Markdown(\"### Ask a Question About the Book\")\n",
    "    with gr.Row():\n",
    "        question_input = gr.Textbox(label=\"Type your question here...\", placeholder=\"Type your question here?\")\n",
    "    with gr.Row():\n",
    "        answer_output = gr.Textbox(label=\"Answer\", interactive=False)\n",
    "        references_output = gr.Textbox(label=\"References\", interactive=False)\n",
    "    question_input.submit(fn=chat_with_book, inputs=question_input, outputs=[answer_output, references_output])\n",
    "\n",
    "# Launch the interface\n",
    "interface.launch(share=True)"
   ]
  },
  {
   "cell_type": "code",
   "execution_count": null,
   "metadata": {},
   "outputs": [],
   "source": []
  },
  {
   "cell_type": "code",
   "execution_count": null,
   "metadata": {},
   "outputs": [],
   "source": []
  }
 ],
 "metadata": {
  "kernelspec": {
   "display_name": "ollama_local_2",
   "language": "python",
   "name": "python3"
  },
  "language_info": {
   "codemirror_mode": {
    "name": "ipython",
    "version": 3
   },
   "file_extension": ".py",
   "mimetype": "text/x-python",
   "name": "python",
   "nbconvert_exporter": "python",
   "pygments_lexer": "ipython3",
   "version": "3.9.20"
  }
 },
 "nbformat": 4,
 "nbformat_minor": 2
}
